{
 "cells": [
  {
   "cell_type": "markdown",
   "metadata": {},
   "source": [
    "Attempting to scrape information from a webpage whose output changes dynamically as we enter text in a field"
   ]
  },
  {
   "cell_type": "code",
   "execution_count": 3,
   "metadata": {},
   "outputs": [],
   "source": [
    "from selenium import webdriver\n",
    "from selenium.webdriver.common.keys import Keys\n",
    "from selenium.webdriver.chrome.service import Service\n",
    "from webdriver_manager.chrome import ChromeDriverManager\n",
    "from selenium.webdriver.common.by import By\n",
    "import pandas as pd\n",
    "import re\n",
    "import time"
   ]
  },
  {
   "cell_type": "markdown",
   "metadata": {},
   "source": [
    "Atttempting to get rid of initial popup:"
   ]
  },
  {
   "cell_type": "code",
   "execution_count": 11,
   "metadata": {},
   "outputs": [
    {
     "name": "stdout",
     "output_type": "stream",
     "text": [
      "\n"
     ]
    },
    {
     "name": "stderr",
     "output_type": "stream",
     "text": [
      "[WDM] - ====== WebDriver manager ======\n",
      "[WDM] - Current google-chrome version is 102.0.5005\n",
      "[WDM] - Get LATEST chromedriver version for 102.0.5005 google-chrome\n",
      "[WDM] - Driver [C:\\Users\\email\\.wdm\\drivers\\chromedriver\\win32\\102.0.5005.61\\chromedriver.exe] found in cache\n"
     ]
    }
   ],
   "source": [
    "driver = webdriver.Chrome(service=Service(ChromeDriverManager().install()))\n",
    "driver.get('https://webpricer.cms.gov/#/provider-directory/ipps')\n",
    "\n",
    "driver.find_element(by = By.XPATH, value = \"/html/body/div[3]/div/div/div/div/aside/a[2]\").send_keys(Keys.RETURN)"
   ]
  },
  {
   "cell_type": "markdown",
   "metadata": {},
   "source": [
    "Experimenting to find the right web element and regex used to extract the data:"
   ]
  },
  {
   "cell_type": "code",
   "execution_count": 13,
   "metadata": {},
   "outputs": [],
   "source": [
    "ID = \"100030\"\n",
    "\n",
    "provider_list = [ID]"
   ]
  },
  {
   "cell_type": "code",
   "execution_count": 14,
   "metadata": {},
   "outputs": [],
   "source": [
    "driver.find_element(by = By.XPATH, value = \"/html/body/div[1]/section/section[2]/div[2]/div[2]/div[3]/div[2]/input\").send_keys(ID)"
   ]
  },
  {
   "cell_type": "code",
   "execution_count": null,
   "metadata": {},
   "outputs": [],
   "source": [
    "table1 = driver.find_elements(by = By.XPATH, value = \"/html/body/div[1]/section/section[2]/div[2]/div[2]/div[4]/main/table/tbody/tr/td[1]/table/tbody\")[0].text\n",
    "table2 = driver.find_elements(by = By.XPATH, value = \"/html/body/div[1]/section/section[2]/div[2]/div[2]/div[4]/main/table/tbody/tr/td[2]/table/tbody\")[0].text\n",
    "table = table1 + \"\\n\" + table2\n",
    "print(table)\n"
   ]
  },
  {
   "cell_type": "code",
   "execution_count": 10,
   "metadata": {},
   "outputs": [
    {
     "name": "stdout",
     "output_type": "stream",
     "text": [
      "60\n",
      "['ProviderID', 'Fiscal_year_begin_date', 'Report_date', 'Termination_Date', 'Waiver_code', 'Intermediary_number', 'Provider_type', 'Current_Census_division', 'Change_code_for_reclass', 'Actual_Geographic_MSA', 'Wage_Index_MSA', 'Standardized_amount_MSA', 'Sole_community_or_Medicare', 'LUGAR', 'Temporary_relief_indicator', 'Federal_PPS_Blend_indicator', 'Facility_specific_rate', 'Cost_of_living_adjustment', 'Intern_to_bed_ratio', 'Bed_size', 'Cost-to-charge_ratio', 'Case_mix_index', 'SSI_ratio', 'Medicaid_ratio', 'Provider_PPS_period', 'Special_provider_update_factor', 'Operating_DSH_percent', 'Fiscal_year_end_date', 'Special_wage_index', 'Special_payment_indicator', 'Hospital_quality_indicator', 'Geographic_location_CBSA', 'Reclassification_CBSA', 'Standardized_amount_CBSA', 'Total_pass_through_amount_and_miscellaneous', 'Pass_through_amount_capital', 'Pass_through_amount_direct', 'Pass_through_amount_organ', 'Capital_PPS_pay_code', 'Capital_hospital_specific_rate', 'Capital_old_harmless_rate', 'Capital_new_harmless_ratio', 'Capital_cost-to-charge_ratio', 'New_hospital', 'Capital_indirect_medical', 'Capital_exception_payment', 'Supplemental_wage_index', 'Supplemental_wage_index_indicator', 'Value_based_purchasing_participant', 'Value_based_purchasing_adjustment', 'Hospital_readmission_reduction_program_participant', 'Hospital_readmission_reduction_adjustment', 'Model_1_bundle_percent', 'Hospital_acquired_condition_(HAC)_reduction_program_participant', 'Uncompensated_care_amount', 'Electronic_health_record_(EHR)_incentive_program_reduction_indicator', 'Low-volume_adjustment_factor', 'County_code', 'State_code', 'Medicare_performance_adjustment', 'LTCH_DPP_indicator']\n"
     ]
    }
   ],
   "source": [
    "# print(table.split(\"\\n\"))\n",
    "print(len(table.split(\"\\n\")))\n",
    "column_names = [\"ProviderID\"]\n",
    "for i in table.split(\"\\n\"):\n",
    "    column_names.append(i[:i.rfind(' ')])\n",
    "# print(column_names)\n",
    "for i in range(len(column_names)):\n",
    "    column_names[i] = column_names[i].replace(' ','_')\n",
    "print(column_names)"
   ]
  },
  {
   "cell_type": "code",
   "execution_count": 37,
   "metadata": {},
   "outputs": [
    {
     "name": "stdout",
     "output_type": "stream",
     "text": [
      "61\n"
     ]
    }
   ],
   "source": [
    "provider_list = [ID]\n",
    "for i in table.split(\"\\n\"):\n",
    "    provider_list.append(i[i.rfind(' ')+1:])\n",
    "print(len(provider_list))"
   ]
  },
  {
   "cell_type": "markdown",
   "metadata": {},
   "source": [
    "Importing the inpatient provider numbers and checking to see if it laoded correctly:"
   ]
  },
  {
   "cell_type": "code",
   "execution_count": 5,
   "metadata": {},
   "outputs": [
    {
     "data": {
      "text/html": [
       "<div>\n",
       "<style scoped>\n",
       "    .dataframe tbody tr th:only-of-type {\n",
       "        vertical-align: middle;\n",
       "    }\n",
       "\n",
       "    .dataframe tbody tr th {\n",
       "        vertical-align: top;\n",
       "    }\n",
       "\n",
       "    .dataframe thead th {\n",
       "        text-align: right;\n",
       "    }\n",
       "</style>\n",
       "<table border=\"1\" class=\"dataframe\">\n",
       "  <thead>\n",
       "    <tr style=\"text-align: right;\">\n",
       "      <th></th>\n",
       "      <th>Inpatient</th>\n",
       "      <th>CCN</th>\n",
       "    </tr>\n",
       "  </thead>\n",
       "  <tbody>\n",
       "    <tr>\n",
       "      <th>0</th>\n",
       "      <td>NaN</td>\n",
       "      <td>10001</td>\n",
       "    </tr>\n",
       "    <tr>\n",
       "      <th>1</th>\n",
       "      <td>NaN</td>\n",
       "      <td>10005</td>\n",
       "    </tr>\n",
       "    <tr>\n",
       "      <th>2</th>\n",
       "      <td>NaN</td>\n",
       "      <td>10006</td>\n",
       "    </tr>\n",
       "    <tr>\n",
       "      <th>3</th>\n",
       "      <td>NaN</td>\n",
       "      <td>10007</td>\n",
       "    </tr>\n",
       "    <tr>\n",
       "      <th>4</th>\n",
       "      <td>NaN</td>\n",
       "      <td>10008</td>\n",
       "    </tr>\n",
       "  </tbody>\n",
       "</table>\n",
       "</div>"
      ],
      "text/plain": [
       "   Inpatient    CCN\n",
       "0        NaN  10001\n",
       "1        NaN  10005\n",
       "2        NaN  10006\n",
       "3        NaN  10007\n",
       "4        NaN  10008"
      ]
     },
     "execution_count": 5,
     "metadata": {},
     "output_type": "execute_result"
    }
   ],
   "source": [
    "inpatient = pd.read_csv(r\"C:\\Users\\email\\OneDrive\\Documents\\Python\\Web-Scraping\\Medicare CCN Inpatient Facility.csv\")\n",
    "inpatient.head(5)"
   ]
  },
  {
   "cell_type": "markdown",
   "metadata": {},
   "source": [
    "Run this block to perform web scraping:"
   ]
  },
  {
   "cell_type": "code",
   "execution_count": 12,
   "metadata": {},
   "outputs": [
    {
     "name": "stdout",
     "output_type": "stream",
     "text": [
      "\n"
     ]
    },
    {
     "name": "stderr",
     "output_type": "stream",
     "text": [
      "[WDM] - ====== WebDriver manager ======\n",
      "[WDM] - Current google-chrome version is 102.0.5005\n",
      "[WDM] - Get LATEST chromedriver version for 102.0.5005 google-chrome\n",
      "[WDM] - Driver [C:\\Users\\email\\.wdm\\drivers\\chromedriver\\win32\\102.0.5005.61\\chromedriver.exe] found in cache\n"
     ]
    },
    {
     "name": "stdout",
     "output_type": "stream",
     "text": [
      "670127 is done!\r"
     ]
    },
    {
     "ename": "ValueError",
     "evalue": "61 columns passed, passed data had 91 columns",
     "output_type": "error",
     "traceback": [
      "\u001b[1;31m---------------------------------------------------------------------------\u001b[0m",
      "\u001b[1;31mAssertionError\u001b[0m                            Traceback (most recent call last)",
      "\u001b[1;32mc:\\Users\\email\\anaconda3\\lib\\site-packages\\pandas\\core\\internals\\construction.py\u001b[0m in \u001b[0;36m_finalize_columns_and_data\u001b[1;34m(content, columns, dtype)\u001b[0m\n\u001b[0;32m    905\u001b[0m     \u001b[1;32mtry\u001b[0m\u001b[1;33m:\u001b[0m\u001b[1;33m\u001b[0m\u001b[1;33m\u001b[0m\u001b[0m\n\u001b[1;32m--> 906\u001b[1;33m         \u001b[0mcolumns\u001b[0m \u001b[1;33m=\u001b[0m \u001b[0m_validate_or_indexify_columns\u001b[0m\u001b[1;33m(\u001b[0m\u001b[0mcontents\u001b[0m\u001b[1;33m,\u001b[0m \u001b[0mcolumns\u001b[0m\u001b[1;33m)\u001b[0m\u001b[1;33m\u001b[0m\u001b[1;33m\u001b[0m\u001b[0m\n\u001b[0m\u001b[0;32m    907\u001b[0m     \u001b[1;32mexcept\u001b[0m \u001b[0mAssertionError\u001b[0m \u001b[1;32mas\u001b[0m \u001b[0merr\u001b[0m\u001b[1;33m:\u001b[0m\u001b[1;33m\u001b[0m\u001b[1;33m\u001b[0m\u001b[0m\n",
      "\u001b[1;32mc:\\Users\\email\\anaconda3\\lib\\site-packages\\pandas\\core\\internals\\construction.py\u001b[0m in \u001b[0;36m_validate_or_indexify_columns\u001b[1;34m(content, columns)\u001b[0m\n\u001b[0;32m    953\u001b[0m             \u001b[1;31m# caller's responsibility to check for this...\u001b[0m\u001b[1;33m\u001b[0m\u001b[1;33m\u001b[0m\u001b[0m\n\u001b[1;32m--> 954\u001b[1;33m             raise AssertionError(\n\u001b[0m\u001b[0;32m    955\u001b[0m                 \u001b[1;34mf\"{len(columns)} columns passed, passed data had \"\u001b[0m\u001b[1;33m\u001b[0m\u001b[1;33m\u001b[0m\u001b[0m\n",
      "\u001b[1;31mAssertionError\u001b[0m: 61 columns passed, passed data had 91 columns",
      "\nThe above exception was the direct cause of the following exception:\n",
      "\u001b[1;31mValueError\u001b[0m                                Traceback (most recent call last)",
      "\u001b[1;32m~\\AppData\\Local\\Temp/ipykernel_25204/1803354039.py\u001b[0m in \u001b[0;36m<module>\u001b[1;34m\u001b[0m\n\u001b[0;32m     41\u001b[0m     \u001b[0mprint\u001b[0m\u001b[1;33m(\u001b[0m\u001b[0mID\u001b[0m \u001b[1;33m+\u001b[0m \u001b[1;34m\" is done!\"\u001b[0m\u001b[1;33m,\u001b[0m \u001b[0mend\u001b[0m \u001b[1;33m=\u001b[0m \u001b[1;34m\"\\r\"\u001b[0m\u001b[1;33m)\u001b[0m\u001b[1;33m\u001b[0m\u001b[1;33m\u001b[0m\u001b[0m\n\u001b[0;32m     42\u001b[0m \u001b[1;33m\u001b[0m\u001b[0m\n\u001b[1;32m---> 43\u001b[1;33m \u001b[0mdf\u001b[0m \u001b[1;33m=\u001b[0m \u001b[0mpd\u001b[0m\u001b[1;33m.\u001b[0m\u001b[0mDataFrame\u001b[0m\u001b[1;33m(\u001b[0m\u001b[0mfinal_list\u001b[0m\u001b[1;33m,\u001b[0m \u001b[0mcolumns\u001b[0m\u001b[1;33m=\u001b[0m \u001b[0mcolumn_names\u001b[0m\u001b[1;33m)\u001b[0m\u001b[1;33m\u001b[0m\u001b[1;33m\u001b[0m\u001b[0m\n\u001b[0m\u001b[0;32m     44\u001b[0m \u001b[0mdf\u001b[0m\u001b[1;33m.\u001b[0m\u001b[0mhead\u001b[0m\u001b[1;33m(\u001b[0m\u001b[1;36m10\u001b[0m\u001b[1;33m)\u001b[0m\u001b[1;33m\u001b[0m\u001b[1;33m\u001b[0m\u001b[0m\n",
      "\u001b[1;32mc:\\Users\\email\\anaconda3\\lib\\site-packages\\pandas\\core\\frame.py\u001b[0m in \u001b[0;36m__init__\u001b[1;34m(self, data, index, columns, dtype, copy)\u001b[0m\n\u001b[0;32m    692\u001b[0m                         \u001b[1;31m# ndarray], Index, Series], Sequence[Any]]\"\u001b[0m\u001b[1;33m\u001b[0m\u001b[1;33m\u001b[0m\u001b[0m\n\u001b[0;32m    693\u001b[0m                         \u001b[0mcolumns\u001b[0m \u001b[1;33m=\u001b[0m \u001b[0mensure_index\u001b[0m\u001b[1;33m(\u001b[0m\u001b[0mcolumns\u001b[0m\u001b[1;33m)\u001b[0m  \u001b[1;31m# type: ignore[arg-type]\u001b[0m\u001b[1;33m\u001b[0m\u001b[1;33m\u001b[0m\u001b[0m\n\u001b[1;32m--> 694\u001b[1;33m                     arrays, columns, index = nested_data_to_arrays(\n\u001b[0m\u001b[0;32m    695\u001b[0m                         \u001b[1;31m# error: Argument 3 to \"nested_data_to_arrays\" has incompatible\u001b[0m\u001b[1;33m\u001b[0m\u001b[1;33m\u001b[0m\u001b[0m\n\u001b[0;32m    696\u001b[0m                         \u001b[1;31m# type \"Optional[Collection[Any]]\"; expected \"Optional[Index]\"\u001b[0m\u001b[1;33m\u001b[0m\u001b[1;33m\u001b[0m\u001b[0m\n",
      "\u001b[1;32mc:\\Users\\email\\anaconda3\\lib\\site-packages\\pandas\\core\\internals\\construction.py\u001b[0m in \u001b[0;36mnested_data_to_arrays\u001b[1;34m(data, columns, index, dtype)\u001b[0m\n\u001b[0;32m    481\u001b[0m         \u001b[0mcolumns\u001b[0m \u001b[1;33m=\u001b[0m \u001b[0mensure_index\u001b[0m\u001b[1;33m(\u001b[0m\u001b[0mdata\u001b[0m\u001b[1;33m[\u001b[0m\u001b[1;36m0\u001b[0m\u001b[1;33m]\u001b[0m\u001b[1;33m.\u001b[0m\u001b[0m_fields\u001b[0m\u001b[1;33m)\u001b[0m\u001b[1;33m\u001b[0m\u001b[1;33m\u001b[0m\u001b[0m\n\u001b[0;32m    482\u001b[0m \u001b[1;33m\u001b[0m\u001b[0m\n\u001b[1;32m--> 483\u001b[1;33m     \u001b[0marrays\u001b[0m\u001b[1;33m,\u001b[0m \u001b[0mcolumns\u001b[0m \u001b[1;33m=\u001b[0m \u001b[0mto_arrays\u001b[0m\u001b[1;33m(\u001b[0m\u001b[0mdata\u001b[0m\u001b[1;33m,\u001b[0m \u001b[0mcolumns\u001b[0m\u001b[1;33m,\u001b[0m \u001b[0mdtype\u001b[0m\u001b[1;33m=\u001b[0m\u001b[0mdtype\u001b[0m\u001b[1;33m)\u001b[0m\u001b[1;33m\u001b[0m\u001b[1;33m\u001b[0m\u001b[0m\n\u001b[0m\u001b[0;32m    484\u001b[0m     \u001b[0mcolumns\u001b[0m \u001b[1;33m=\u001b[0m \u001b[0mensure_index\u001b[0m\u001b[1;33m(\u001b[0m\u001b[0mcolumns\u001b[0m\u001b[1;33m)\u001b[0m\u001b[1;33m\u001b[0m\u001b[1;33m\u001b[0m\u001b[0m\n\u001b[0;32m    485\u001b[0m \u001b[1;33m\u001b[0m\u001b[0m\n",
      "\u001b[1;32mc:\\Users\\email\\anaconda3\\lib\\site-packages\\pandas\\core\\internals\\construction.py\u001b[0m in \u001b[0;36mto_arrays\u001b[1;34m(data, columns, dtype)\u001b[0m\n\u001b[0;32m    805\u001b[0m         \u001b[0marr\u001b[0m \u001b[1;33m=\u001b[0m \u001b[0m_list_to_arrays\u001b[0m\u001b[1;33m(\u001b[0m\u001b[0mdata\u001b[0m\u001b[1;33m)\u001b[0m\u001b[1;33m\u001b[0m\u001b[1;33m\u001b[0m\u001b[0m\n\u001b[0;32m    806\u001b[0m \u001b[1;33m\u001b[0m\u001b[0m\n\u001b[1;32m--> 807\u001b[1;33m     \u001b[0mcontent\u001b[0m\u001b[1;33m,\u001b[0m \u001b[0mcolumns\u001b[0m \u001b[1;33m=\u001b[0m \u001b[0m_finalize_columns_and_data\u001b[0m\u001b[1;33m(\u001b[0m\u001b[0marr\u001b[0m\u001b[1;33m,\u001b[0m \u001b[0mcolumns\u001b[0m\u001b[1;33m,\u001b[0m \u001b[0mdtype\u001b[0m\u001b[1;33m)\u001b[0m\u001b[1;33m\u001b[0m\u001b[1;33m\u001b[0m\u001b[0m\n\u001b[0m\u001b[0;32m    808\u001b[0m     \u001b[1;32mreturn\u001b[0m \u001b[0mcontent\u001b[0m\u001b[1;33m,\u001b[0m \u001b[0mcolumns\u001b[0m\u001b[1;33m\u001b[0m\u001b[1;33m\u001b[0m\u001b[0m\n\u001b[0;32m    809\u001b[0m \u001b[1;33m\u001b[0m\u001b[0m\n",
      "\u001b[1;32mc:\\Users\\email\\anaconda3\\lib\\site-packages\\pandas\\core\\internals\\construction.py\u001b[0m in \u001b[0;36m_finalize_columns_and_data\u001b[1;34m(content, columns, dtype)\u001b[0m\n\u001b[0;32m    907\u001b[0m     \u001b[1;32mexcept\u001b[0m \u001b[0mAssertionError\u001b[0m \u001b[1;32mas\u001b[0m \u001b[0merr\u001b[0m\u001b[1;33m:\u001b[0m\u001b[1;33m\u001b[0m\u001b[1;33m\u001b[0m\u001b[0m\n\u001b[0;32m    908\u001b[0m         \u001b[1;31m# GH#26429 do not raise user-facing AssertionError\u001b[0m\u001b[1;33m\u001b[0m\u001b[1;33m\u001b[0m\u001b[0m\n\u001b[1;32m--> 909\u001b[1;33m         \u001b[1;32mraise\u001b[0m \u001b[0mValueError\u001b[0m\u001b[1;33m(\u001b[0m\u001b[0merr\u001b[0m\u001b[1;33m)\u001b[0m \u001b[1;32mfrom\u001b[0m \u001b[0merr\u001b[0m\u001b[1;33m\u001b[0m\u001b[1;33m\u001b[0m\u001b[0m\n\u001b[0m\u001b[0;32m    910\u001b[0m \u001b[1;33m\u001b[0m\u001b[0m\n\u001b[0;32m    911\u001b[0m     \u001b[1;32mif\u001b[0m \u001b[0mlen\u001b[0m\u001b[1;33m(\u001b[0m\u001b[0mcontents\u001b[0m\u001b[1;33m)\u001b[0m \u001b[1;32mand\u001b[0m \u001b[0mcontents\u001b[0m\u001b[1;33m[\u001b[0m\u001b[1;36m0\u001b[0m\u001b[1;33m]\u001b[0m\u001b[1;33m.\u001b[0m\u001b[0mdtype\u001b[0m \u001b[1;33m==\u001b[0m \u001b[0mnp\u001b[0m\u001b[1;33m.\u001b[0m\u001b[0mobject_\u001b[0m\u001b[1;33m:\u001b[0m\u001b[1;33m\u001b[0m\u001b[1;33m\u001b[0m\u001b[0m\n",
      "\u001b[1;31mValueError\u001b[0m: 61 columns passed, passed data had 91 columns"
     ]
    }
   ],
   "source": [
    "\n",
    "inpatient = pd.read_csv(r\"C:\\Users\\email\\OneDrive\\Documents\\Python\\Web-Scraping\\Medicare CCN Inpatient Facility.csv\")\n",
    "\n",
    "try:\n",
    "    driver.close()\n",
    "except Exception:\n",
    "    pass\n",
    "\n",
    "driver = webdriver.Chrome(service=Service(ChromeDriverManager().install()))\n",
    "driver.get('https://webpricer.cms.gov/#/provider-directory/ipps')\n",
    "driver.find_element(by = By.XPATH, value = \"/html/body/div[3]/div/div/div/div/aside/a[2]\").send_keys(Keys.RETURN)\n",
    "\n",
    "ID_list = inpatient[\"CCN\"].to_list()\n",
    "ID_list = [str(x) for x in ID_list]\n",
    "for i in range(568):\n",
    "    ID_list[i] = \"0\" + ID_list[i]\n",
    "     \n",
    "final_list = []\n",
    "df = pd.DataFrame([])\n",
    "\n",
    "for ID in ID_list:\n",
    "    driver.find_element(by = By.XPATH, value = \"/html/body/div[1]/section/section[2]/div[2]/div[2]/div[3]/div[2]/input\").send_keys(ID)\n",
    "    time.sleep(1)\n",
    "    while True:\n",
    "        try: \n",
    "            table1 = driver.find_element(by = By.XPATH, value = \"/html/body/div[1]/section/section[2]/div[2]/div[2]/div[4]/main/table/tbody/tr/td[1]/table/tbody\").text\n",
    "            break;\n",
    "        except Exception:\n",
    "            time.sleep(3)\n",
    "    while True:\n",
    "        try:\n",
    "            table2 = driver.find_element(by = By.XPATH, value = \"/html/body/div[1]/section/section[2]/div[2]/div[2]/div[4]/main/table/tbody/tr/td[2]/table/tbody\").text\n",
    "            break;\n",
    "        except Exception:\n",
    "            time.sleep(3)\n",
    "    table = table1 + \"\\n\" + table2\n",
    "    provider_list = [ID]\n",
    "    for i in table.split(\"\\n\"):\n",
    "        provider_list.append(i[i.rfind(' ')+1:])\n",
    "    final_list.append(provider_list)\n",
    "    driver.find_element(by = By.XPATH, value = \"/html/body/div[1]/section/section[2]/div[2]/div[2]/div[3]/div[2]/input\").clear()\n",
    "    print(ID + \" is done!\", end = \"\\r\")\n",
    "\n",
    "df = pd.DataFrame(final_list, columns= column_names)\n",
    "df.head(10)"
   ]
  },
  {
   "cell_type": "code",
   "execution_count": 18,
   "metadata": {},
   "outputs": [
    {
     "data": {
      "text/html": [
       "<div>\n",
       "<style scoped>\n",
       "    .dataframe tbody tr th:only-of-type {\n",
       "        vertical-align: middle;\n",
       "    }\n",
       "\n",
       "    .dataframe tbody tr th {\n",
       "        vertical-align: top;\n",
       "    }\n",
       "\n",
       "    .dataframe thead th {\n",
       "        text-align: right;\n",
       "    }\n",
       "</style>\n",
       "<table border=\"1\" class=\"dataframe\">\n",
       "  <thead>\n",
       "    <tr style=\"text-align: right;\">\n",
       "      <th></th>\n",
       "      <th>ProviderID</th>\n",
       "      <th>Fiscal_year_begin_date</th>\n",
       "      <th>Report_date</th>\n",
       "      <th>Termination_Date</th>\n",
       "      <th>Waiver_code</th>\n",
       "      <th>Intermediary_number</th>\n",
       "      <th>Provider_type</th>\n",
       "      <th>Current_Census_division</th>\n",
       "      <th>Change_code_for_reclass</th>\n",
       "      <th>Actual_Geographic_MSA</th>\n",
       "      <th>...</th>\n",
       "      <th>Hospital_readmission_reduction_adjustment</th>\n",
       "      <th>Model_1_bundle_percent</th>\n",
       "      <th>Hospital_acquired_condition_(HAC)_reduction_program_participant</th>\n",
       "      <th>Uncompensated_care_amount</th>\n",
       "      <th>Electronic_health_record_(EHR)_incentive_program_reduction_indicator</th>\n",
       "      <th>Low-volume_adjustment_factor</th>\n",
       "      <th>County_code</th>\n",
       "      <th>State_code</th>\n",
       "      <th>Medicare_performance_adjustment</th>\n",
       "      <th>LTCH_DPP_indicator</th>\n",
       "    </tr>\n",
       "  </thead>\n",
       "  <tbody>\n",
       "    <tr>\n",
       "      <th>0</th>\n",
       "      <td>010001</td>\n",
       "      <td>10/01/2021</td>\n",
       "      <td>03/31/2022</td>\n",
       "      <td>--</td>\n",
       "      <td>N</td>\n",
       "      <td>10111</td>\n",
       "      <td>07</td>\n",
       "      <td>5</td>\n",
       "      <td>Y</td>\n",
       "      <td>2180</td>\n",
       "      <td>...</td>\n",
       "      <td>0.9903</td>\n",
       "      <td>0</td>\n",
       "      <td>N</td>\n",
       "      <td>$672.33</td>\n",
       "      <td>--</td>\n",
       "      <td>0</td>\n",
       "      <td>01069</td>\n",
       "      <td>01</td>\n",
       "      <td>0</td>\n",
       "      <td>--</td>\n",
       "    </tr>\n",
       "    <tr>\n",
       "      <th>1</th>\n",
       "      <td>010005</td>\n",
       "      <td>10/01/2021</td>\n",
       "      <td>03/31/2022</td>\n",
       "      <td>--</td>\n",
       "      <td>N</td>\n",
       "      <td>10111</td>\n",
       "      <td>07</td>\n",
       "      <td>5</td>\n",
       "      <td>Y</td>\n",
       "      <td>01</td>\n",
       "      <td>...</td>\n",
       "      <td>0.9985</td>\n",
       "      <td>0</td>\n",
       "      <td>Y</td>\n",
       "      <td>$912.95</td>\n",
       "      <td>--</td>\n",
       "      <td>0</td>\n",
       "      <td>01095</td>\n",
       "      <td>01</td>\n",
       "      <td>0</td>\n",
       "      <td>--</td>\n",
       "    </tr>\n",
       "    <tr>\n",
       "      <th>2</th>\n",
       "      <td>010006</td>\n",
       "      <td>07/01/2021</td>\n",
       "      <td>03/31/2022</td>\n",
       "      <td>--</td>\n",
       "      <td>N</td>\n",
       "      <td>10111</td>\n",
       "      <td>07</td>\n",
       "      <td>5</td>\n",
       "      <td>N</td>\n",
       "      <td>2650</td>\n",
       "      <td>...</td>\n",
       "      <td>0.984</td>\n",
       "      <td>0</td>\n",
       "      <td>N</td>\n",
       "      <td>$327.96</td>\n",
       "      <td>--</td>\n",
       "      <td>0</td>\n",
       "      <td>01077</td>\n",
       "      <td>01</td>\n",
       "      <td>0</td>\n",
       "      <td>--</td>\n",
       "    </tr>\n",
       "    <tr>\n",
       "      <th>3</th>\n",
       "      <td>010007</td>\n",
       "      <td>10/01/2021</td>\n",
       "      <td>03/31/2022</td>\n",
       "      <td>--</td>\n",
       "      <td>N</td>\n",
       "      <td>10111</td>\n",
       "      <td>14</td>\n",
       "      <td>5</td>\n",
       "      <td>--</td>\n",
       "      <td>01</td>\n",
       "      <td>...</td>\n",
       "      <td>0.9949</td>\n",
       "      <td>0</td>\n",
       "      <td>N</td>\n",
       "      <td>$503.44</td>\n",
       "      <td>--</td>\n",
       "      <td>0.201364</td>\n",
       "      <td>01039</td>\n",
       "      <td>01</td>\n",
       "      <td>0</td>\n",
       "      <td>--</td>\n",
       "    </tr>\n",
       "    <tr>\n",
       "      <th>4</th>\n",
       "      <td>010008</td>\n",
       "      <td>01/01/2022</td>\n",
       "      <td>03/31/2022</td>\n",
       "      <td>--</td>\n",
       "      <td>N</td>\n",
       "      <td>10111</td>\n",
       "      <td>00</td>\n",
       "      <td>5</td>\n",
       "      <td>--</td>\n",
       "      <td>01</td>\n",
       "      <td>...</td>\n",
       "      <td>1</td>\n",
       "      <td>0</td>\n",
       "      <td>N</td>\n",
       "      <td>$58.17</td>\n",
       "      <td>--</td>\n",
       "      <td>0.25</td>\n",
       "      <td>01041</td>\n",
       "      <td>01</td>\n",
       "      <td>0</td>\n",
       "      <td>--</td>\n",
       "    </tr>\n",
       "    <tr>\n",
       "      <th>5</th>\n",
       "      <td>010011</td>\n",
       "      <td>07/01/2021</td>\n",
       "      <td>03/31/2022</td>\n",
       "      <td>--</td>\n",
       "      <td>N</td>\n",
       "      <td>10111</td>\n",
       "      <td>00</td>\n",
       "      <td>5</td>\n",
       "      <td>--</td>\n",
       "      <td>1000</td>\n",
       "      <td>...</td>\n",
       "      <td>0.9905</td>\n",
       "      <td>0</td>\n",
       "      <td>N</td>\n",
       "      <td>$1,471.06</td>\n",
       "      <td>--</td>\n",
       "      <td>0</td>\n",
       "      <td>01073</td>\n",
       "      <td>01</td>\n",
       "      <td>0</td>\n",
       "      <td>--</td>\n",
       "    </tr>\n",
       "    <tr>\n",
       "      <th>6</th>\n",
       "      <td>010012</td>\n",
       "      <td>04/01/2021</td>\n",
       "      <td>03/31/2022</td>\n",
       "      <td>--</td>\n",
       "      <td>N</td>\n",
       "      <td>05901</td>\n",
       "      <td>16</td>\n",
       "      <td>5</td>\n",
       "      <td>--</td>\n",
       "      <td>01</td>\n",
       "      <td>...</td>\n",
       "      <td>0.9953</td>\n",
       "      <td>0</td>\n",
       "      <td>N</td>\n",
       "      <td>$554.16</td>\n",
       "      <td>--</td>\n",
       "      <td>0.078712</td>\n",
       "      <td>01049</td>\n",
       "      <td>01</td>\n",
       "      <td>0</td>\n",
       "      <td>--</td>\n",
       "    </tr>\n",
       "    <tr>\n",
       "      <th>7</th>\n",
       "      <td>010016</td>\n",
       "      <td>01/01/2022</td>\n",
       "      <td>03/31/2022</td>\n",
       "      <td>--</td>\n",
       "      <td>N</td>\n",
       "      <td>10111</td>\n",
       "      <td>00</td>\n",
       "      <td>5</td>\n",
       "      <td>N</td>\n",
       "      <td>1000</td>\n",
       "      <td>...</td>\n",
       "      <td>0.998</td>\n",
       "      <td>0</td>\n",
       "      <td>N</td>\n",
       "      <td>$950.22</td>\n",
       "      <td>--</td>\n",
       "      <td>0</td>\n",
       "      <td>01117</td>\n",
       "      <td>01</td>\n",
       "      <td>0</td>\n",
       "      <td>--</td>\n",
       "    </tr>\n",
       "    <tr>\n",
       "      <th>8</th>\n",
       "      <td>010019</td>\n",
       "      <td>10/01/2021</td>\n",
       "      <td>03/31/2022</td>\n",
       "      <td>--</td>\n",
       "      <td>N</td>\n",
       "      <td>10111</td>\n",
       "      <td>00</td>\n",
       "      <td>5</td>\n",
       "      <td>N</td>\n",
       "      <td>2650</td>\n",
       "      <td>...</td>\n",
       "      <td>0.9758</td>\n",
       "      <td>0</td>\n",
       "      <td>N</td>\n",
       "      <td>$554.69</td>\n",
       "      <td>--</td>\n",
       "      <td>0</td>\n",
       "      <td>01033</td>\n",
       "      <td>01</td>\n",
       "      <td>0</td>\n",
       "      <td>--</td>\n",
       "    </tr>\n",
       "    <tr>\n",
       "      <th>9</th>\n",
       "      <td>010021</td>\n",
       "      <td>10/01/2021</td>\n",
       "      <td>03/31/2022</td>\n",
       "      <td>--</td>\n",
       "      <td>N</td>\n",
       "      <td>10111</td>\n",
       "      <td>00</td>\n",
       "      <td>5</td>\n",
       "      <td>--</td>\n",
       "      <td>01</td>\n",
       "      <td>...</td>\n",
       "      <td>0.9974</td>\n",
       "      <td>0</td>\n",
       "      <td>Y</td>\n",
       "      <td>$1,426.64</td>\n",
       "      <td>--</td>\n",
       "      <td>0.195379</td>\n",
       "      <td>01045</td>\n",
       "      <td>01</td>\n",
       "      <td>0</td>\n",
       "      <td>--</td>\n",
       "    </tr>\n",
       "  </tbody>\n",
       "</table>\n",
       "<p>10 rows × 61 columns</p>\n",
       "</div>"
      ],
      "text/plain": [
       "  ProviderID Fiscal_year_begin_date Report_date Termination_Date Waiver_code  \\\n",
       "0     010001             10/01/2021  03/31/2022               --           N   \n",
       "1     010005             10/01/2021  03/31/2022               --           N   \n",
       "2     010006             07/01/2021  03/31/2022               --           N   \n",
       "3     010007             10/01/2021  03/31/2022               --           N   \n",
       "4     010008             01/01/2022  03/31/2022               --           N   \n",
       "5     010011             07/01/2021  03/31/2022               --           N   \n",
       "6     010012             04/01/2021  03/31/2022               --           N   \n",
       "7     010016             01/01/2022  03/31/2022               --           N   \n",
       "8     010019             10/01/2021  03/31/2022               --           N   \n",
       "9     010021             10/01/2021  03/31/2022               --           N   \n",
       "\n",
       "  Intermediary_number Provider_type Current_Census_division  \\\n",
       "0               10111            07                       5   \n",
       "1               10111            07                       5   \n",
       "2               10111            07                       5   \n",
       "3               10111            14                       5   \n",
       "4               10111            00                       5   \n",
       "5               10111            00                       5   \n",
       "6               05901            16                       5   \n",
       "7               10111            00                       5   \n",
       "8               10111            00                       5   \n",
       "9               10111            00                       5   \n",
       "\n",
       "  Change_code_for_reclass Actual_Geographic_MSA  ...  \\\n",
       "0                       Y                  2180  ...   \n",
       "1                       Y                    01  ...   \n",
       "2                       N                  2650  ...   \n",
       "3                      --                    01  ...   \n",
       "4                      --                    01  ...   \n",
       "5                      --                  1000  ...   \n",
       "6                      --                    01  ...   \n",
       "7                       N                  1000  ...   \n",
       "8                       N                  2650  ...   \n",
       "9                      --                    01  ...   \n",
       "\n",
       "  Hospital_readmission_reduction_adjustment Model_1_bundle_percent  \\\n",
       "0                                    0.9903                      0   \n",
       "1                                    0.9985                      0   \n",
       "2                                     0.984                      0   \n",
       "3                                    0.9949                      0   \n",
       "4                                         1                      0   \n",
       "5                                    0.9905                      0   \n",
       "6                                    0.9953                      0   \n",
       "7                                     0.998                      0   \n",
       "8                                    0.9758                      0   \n",
       "9                                    0.9974                      0   \n",
       "\n",
       "  Hospital_acquired_condition_(HAC)_reduction_program_participant  \\\n",
       "0                                                  N                \n",
       "1                                                  Y                \n",
       "2                                                  N                \n",
       "3                                                  N                \n",
       "4                                                  N                \n",
       "5                                                  N                \n",
       "6                                                  N                \n",
       "7                                                  N                \n",
       "8                                                  N                \n",
       "9                                                  Y                \n",
       "\n",
       "  Uncompensated_care_amount  \\\n",
       "0                   $672.33   \n",
       "1                   $912.95   \n",
       "2                   $327.96   \n",
       "3                   $503.44   \n",
       "4                    $58.17   \n",
       "5                 $1,471.06   \n",
       "6                   $554.16   \n",
       "7                   $950.22   \n",
       "8                   $554.69   \n",
       "9                 $1,426.64   \n",
       "\n",
       "  Electronic_health_record_(EHR)_incentive_program_reduction_indicator  \\\n",
       "0                                                 --                     \n",
       "1                                                 --                     \n",
       "2                                                 --                     \n",
       "3                                                 --                     \n",
       "4                                                 --                     \n",
       "5                                                 --                     \n",
       "6                                                 --                     \n",
       "7                                                 --                     \n",
       "8                                                 --                     \n",
       "9                                                 --                     \n",
       "\n",
       "  Low-volume_adjustment_factor County_code State_code  \\\n",
       "0                            0       01069         01   \n",
       "1                            0       01095         01   \n",
       "2                            0       01077         01   \n",
       "3                     0.201364       01039         01   \n",
       "4                         0.25       01041         01   \n",
       "5                            0       01073         01   \n",
       "6                     0.078712       01049         01   \n",
       "7                            0       01117         01   \n",
       "8                            0       01033         01   \n",
       "9                     0.195379       01045         01   \n",
       "\n",
       "  Medicare_performance_adjustment LTCH_DPP_indicator  \n",
       "0                               0                 --  \n",
       "1                               0                 --  \n",
       "2                               0                 --  \n",
       "3                               0                 --  \n",
       "4                               0                 --  \n",
       "5                               0                 --  \n",
       "6                               0                 --  \n",
       "7                               0                 --  \n",
       "8                               0                 --  \n",
       "9                               0                 --  \n",
       "\n",
       "[10 rows x 61 columns]"
      ]
     },
     "execution_count": 18,
     "metadata": {},
     "output_type": "execute_result"
    }
   ],
   "source": [
    "df = pd.DataFrame(final_list, columns= column_names)\n",
    "df.head(10)"
   ]
  },
  {
   "cell_type": "code",
   "execution_count": 17,
   "metadata": {},
   "outputs": [
    {
     "name": "stdout",
     "output_type": "stream",
     "text": [
      "['050137', '01/01/2022', '03/31/2022', '--', 'N', '01911', '07', '9', '--', '0000', '0000', '0000', '--', '--', '--', '--', '$2,788.67', '1', '0.0114', '183', '0.338', '1.3803', '0.0871', '0.1659', '--', '--', '--', '12/31/2016', '--', 'Y', '1', '31084', '37100', '05', '$3.78', '--', '$3.78', '--', 'C', '384.57', '0', '0', '0.008', '--', '0.0233', '0', '--', '--', 'N', '0', '1', '1', '0', 'N', '$4,029.72', '--', '0', '06037', '05', '0', '--']\n"
     ]
    }
   ],
   "source": [
    "for i in range(len(final_list)):\n",
    "    if len(final_list[i]) != 61:\n",
    "        final_list[i] = final_list[i][:61] \n",
    "        print(final_list[i])\n",
    "\n"
   ]
  },
  {
   "cell_type": "code",
   "execution_count": 16,
   "metadata": {},
   "outputs": [
    {
     "name": "stdout",
     "output_type": "stream",
     "text": [
      "[1, 2, 3]\n"
     ]
    }
   ],
   "source": [
    "x = [1,2,3,4,5]\n",
    "print(x[:3])"
   ]
  },
  {
   "cell_type": "code",
   "execution_count": 21,
   "metadata": {},
   "outputs": [],
   "source": [
    "df.to_csv(\"test.csv\")"
   ]
  },
  {
   "cell_type": "code",
   "execution_count": 20,
   "metadata": {},
   "outputs": [
    {
     "name": "stdout",
     "output_type": "stream",
     "text": [
      "['010001', '10/01/2021', '03/31/2022', '--', 'N', '10111', '07', '5', 'Y', '2180', '01', '01', '--', '--', '--', '--', '$1,918.13', '1', '0.0494', '322', '0.181', '--', '0.1029', '0.1989', '--', '--', '--', '09/30/2022', '0.856', '2', '1', '20020', '18880', '01', '$106.82', '--', '$46.13', '--', 'C', '0', '0', '0', '0.012', '--', '0.1136', '0', '--', '--', 'N', '0', '1', '0.9903', '0', 'N', '$672.33', '--', '0', '01069', '01', '0', '--']\n"
     ]
    }
   ],
   "source": [
    "print(final_list[0])"
   ]
  }
 ],
 "metadata": {
  "kernelspec": {
   "display_name": "Python 3.9.7 ('base')",
   "language": "python",
   "name": "python3"
  },
  "language_info": {
   "codemirror_mode": {
    "name": "ipython",
    "version": 3
   },
   "file_extension": ".py",
   "mimetype": "text/x-python",
   "name": "python",
   "nbconvert_exporter": "python",
   "pygments_lexer": "ipython3",
   "version": "3.9.7"
  },
  "orig_nbformat": 4,
  "vscode": {
   "interpreter": {
    "hash": "f96c0a065a6f038b4d81e02ec5e62503dd3b71442db074018719e130d8db16de"
   }
  }
 },
 "nbformat": 4,
 "nbformat_minor": 2
}
