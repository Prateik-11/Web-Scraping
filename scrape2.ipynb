{
 "cells": [
  {
   "cell_type": "markdown",
   "metadata": {},
   "source": [
    "Attempting to scrape information from a webpage whose output changes dynamically as we enter text in a field"
   ]
  },
  {
   "cell_type": "code",
   "execution_count": 29,
   "metadata": {},
   "outputs": [],
   "source": [
    "from selenium import webdriver\n",
    "from selenium.webdriver.common.keys import Keys\n",
    "from selenium.webdriver.chrome.service import Service\n",
    "from webdriver_manager.chrome import ChromeDriverManager\n",
    "from selenium.webdriver.common.by import By\n",
    "import pandas as pd\n",
    "import re\n",
    "import time"
   ]
  },
  {
   "cell_type": "markdown",
   "metadata": {},
   "source": [
    "Atttempting to get rid of initial popup:"
   ]
  },
  {
   "cell_type": "code",
   "execution_count": 11,
   "metadata": {},
   "outputs": [
    {
     "name": "stdout",
     "output_type": "stream",
     "text": [
      "\n"
     ]
    },
    {
     "name": "stderr",
     "output_type": "stream",
     "text": [
      "[WDM] - ====== WebDriver manager ======\n",
      "[WDM] - Current google-chrome version is 102.0.5005\n",
      "[WDM] - Get LATEST chromedriver version for 102.0.5005 google-chrome\n",
      "[WDM] - Driver [C:\\Users\\email\\.wdm\\drivers\\chromedriver\\win32\\102.0.5005.61\\chromedriver.exe] found in cache\n"
     ]
    }
   ],
   "source": [
    "driver = webdriver.Chrome(service=Service(ChromeDriverManager().install()))\n",
    "driver.get('https://webpricer.cms.gov/#/provider-directory/ipps')\n",
    "\n",
    "driver.find_element(by = By.XPATH, value = \"/html/body/div[3]/div/div/div/div/aside/a[2]\").send_keys(Keys.RETURN)"
   ]
  },
  {
   "cell_type": "markdown",
   "metadata": {},
   "source": [
    "Experimenting to find the right web element and regex used to extract the data:"
   ]
  },
  {
   "cell_type": "code",
   "execution_count": 13,
   "metadata": {},
   "outputs": [],
   "source": [
    "ID = \"100030\"\n",
    "\n",
    "provider_list = [ID]"
   ]
  },
  {
   "cell_type": "code",
   "execution_count": 14,
   "metadata": {},
   "outputs": [],
   "source": [
    "driver.find_element(by = By.XPATH, value = \"/html/body/div[1]/section/section[2]/div[2]/div[2]/div[3]/div[2]/input\").send_keys(ID)"
   ]
  },
  {
   "cell_type": "code",
   "execution_count": null,
   "metadata": {},
   "outputs": [],
   "source": [
    "table1 = driver.find_elements(by = By.XPATH, value = \"/html/body/div[1]/section/section[2]/div[2]/div[2]/div[4]/main/table/tbody/tr/td[1]/table/tbody\")[0].text\n",
    "table2 = driver.find_elements(by = By.XPATH, value = \"/html/body/div[1]/section/section[2]/div[2]/div[2]/div[4]/main/table/tbody/tr/td[2]/table/tbody\")[0].text\n",
    "table = table1 + \"\\n\" + table2\n",
    "print(table)\n"
   ]
  },
  {
   "cell_type": "code",
   "execution_count": 10,
   "metadata": {},
   "outputs": [
    {
     "name": "stdout",
     "output_type": "stream",
     "text": [
      "60\n",
      "['ProviderID', 'Fiscal_year_begin_date', 'Report_date', 'Termination_Date', 'Waiver_code', 'Intermediary_number', 'Provider_type', 'Current_Census_division', 'Change_code_for_reclass', 'Actual_Geographic_MSA', 'Wage_Index_MSA', 'Standardized_amount_MSA', 'Sole_community_or_Medicare', 'LUGAR', 'Temporary_relief_indicator', 'Federal_PPS_Blend_indicator', 'Facility_specific_rate', 'Cost_of_living_adjustment', 'Intern_to_bed_ratio', 'Bed_size', 'Cost-to-charge_ratio', 'Case_mix_index', 'SSI_ratio', 'Medicaid_ratio', 'Provider_PPS_period', 'Special_provider_update_factor', 'Operating_DSH_percent', 'Fiscal_year_end_date', 'Special_wage_index', 'Special_payment_indicator', 'Hospital_quality_indicator', 'Geographic_location_CBSA', 'Reclassification_CBSA', 'Standardized_amount_CBSA', 'Total_pass_through_amount_and_miscellaneous', 'Pass_through_amount_capital', 'Pass_through_amount_direct', 'Pass_through_amount_organ', 'Capital_PPS_pay_code', 'Capital_hospital_specific_rate', 'Capital_old_harmless_rate', 'Capital_new_harmless_ratio', 'Capital_cost-to-charge_ratio', 'New_hospital', 'Capital_indirect_medical', 'Capital_exception_payment', 'Supplemental_wage_index', 'Supplemental_wage_index_indicator', 'Value_based_purchasing_participant', 'Value_based_purchasing_adjustment', 'Hospital_readmission_reduction_program_participant', 'Hospital_readmission_reduction_adjustment', 'Model_1_bundle_percent', 'Hospital_acquired_condition_(HAC)_reduction_program_participant', 'Uncompensated_care_amount', 'Electronic_health_record_(EHR)_incentive_program_reduction_indicator', 'Low-volume_adjustment_factor', 'County_code', 'State_code', 'Medicare_performance_adjustment', 'LTCH_DPP_indicator']\n"
     ]
    }
   ],
   "source": [
    "# print(table.split(\"\\n\"))\n",
    "print(len(table.split(\"\\n\")))\n",
    "column_names = [\"ProviderID\"]\n",
    "for i in table.split(\"\\n\"):\n",
    "    column_names.append(i[:i.rfind(' ')])\n",
    "# print(column_names)\n",
    "for i in range(len(column_names)):\n",
    "    column_names[i] = column_names[i].replace(' ','_')\n",
    "print(column_names)"
   ]
  },
  {
   "cell_type": "code",
   "execution_count": 37,
   "metadata": {},
   "outputs": [
    {
     "name": "stdout",
     "output_type": "stream",
     "text": [
      "61\n"
     ]
    }
   ],
   "source": [
    "provider_list = [ID]\n",
    "for i in table.split(\"\\n\"):\n",
    "    provider_list.append(i[i.rfind(' ')+1:])\n",
    "print(len(provider_list))"
   ]
  },
  {
   "cell_type": "markdown",
   "metadata": {},
   "source": [
    "Importing the inpatient provider numbers and checking to see if it loaded correctly:"
   ]
  },
  {
   "cell_type": "code",
   "execution_count": 5,
   "metadata": {},
   "outputs": [
    {
     "data": {
      "text/html": [
       "<div>\n",
       "<style scoped>\n",
       "    .dataframe tbody tr th:only-of-type {\n",
       "        vertical-align: middle;\n",
       "    }\n",
       "\n",
       "    .dataframe tbody tr th {\n",
       "        vertical-align: top;\n",
       "    }\n",
       "\n",
       "    .dataframe thead th {\n",
       "        text-align: right;\n",
       "    }\n",
       "</style>\n",
       "<table border=\"1\" class=\"dataframe\">\n",
       "  <thead>\n",
       "    <tr style=\"text-align: right;\">\n",
       "      <th></th>\n",
       "      <th>Inpatient</th>\n",
       "      <th>CCN</th>\n",
       "    </tr>\n",
       "  </thead>\n",
       "  <tbody>\n",
       "    <tr>\n",
       "      <th>0</th>\n",
       "      <td>NaN</td>\n",
       "      <td>10001</td>\n",
       "    </tr>\n",
       "    <tr>\n",
       "      <th>1</th>\n",
       "      <td>NaN</td>\n",
       "      <td>10005</td>\n",
       "    </tr>\n",
       "    <tr>\n",
       "      <th>2</th>\n",
       "      <td>NaN</td>\n",
       "      <td>10006</td>\n",
       "    </tr>\n",
       "    <tr>\n",
       "      <th>3</th>\n",
       "      <td>NaN</td>\n",
       "      <td>10007</td>\n",
       "    </tr>\n",
       "    <tr>\n",
       "      <th>4</th>\n",
       "      <td>NaN</td>\n",
       "      <td>10008</td>\n",
       "    </tr>\n",
       "  </tbody>\n",
       "</table>\n",
       "</div>"
      ],
      "text/plain": [
       "   Inpatient    CCN\n",
       "0        NaN  10001\n",
       "1        NaN  10005\n",
       "2        NaN  10006\n",
       "3        NaN  10007\n",
       "4        NaN  10008"
      ]
     },
     "execution_count": 5,
     "metadata": {},
     "output_type": "execute_result"
    }
   ],
   "source": [
    "inpatient = pd.read_csv(r\"C:\\Users\\email\\OneDrive\\Documents\\Python\\Web-Scraping\\Medicare CCN Inpatient Facility.csv\")\n",
    "inpatient.head(5)"
   ]
  },
  {
   "cell_type": "markdown",
   "metadata": {},
   "source": [
    "Alternatively, if using all the Provider IDs:\n",
    "\n",
    "*Obtained by querying* `SELECT [Federal_Provider_Number] FROM [ProviderDataRegistry].[dbo].[CMS_ProviderInfo]`"
   ]
  },
  {
   "cell_type": "code",
   "execution_count": 22,
   "metadata": {},
   "outputs": [
    {
     "data": {
      "text/html": [
       "<div>\n",
       "<style scoped>\n",
       "    .dataframe tbody tr th:only-of-type {\n",
       "        vertical-align: middle;\n",
       "    }\n",
       "\n",
       "    .dataframe tbody tr th {\n",
       "        vertical-align: top;\n",
       "    }\n",
       "\n",
       "    .dataframe thead th {\n",
       "        text-align: right;\n",
       "    }\n",
       "</style>\n",
       "<table border=\"1\" class=\"dataframe\">\n",
       "  <thead>\n",
       "    <tr style=\"text-align: right;\">\n",
       "      <th></th>\n",
       "      <th>Federal_Provider_Number</th>\n",
       "    </tr>\n",
       "  </thead>\n",
       "  <tbody>\n",
       "    <tr>\n",
       "      <th>0</th>\n",
       "      <td>015009</td>\n",
       "    </tr>\n",
       "    <tr>\n",
       "      <th>1</th>\n",
       "      <td>015010</td>\n",
       "    </tr>\n",
       "    <tr>\n",
       "      <th>2</th>\n",
       "      <td>015012</td>\n",
       "    </tr>\n",
       "    <tr>\n",
       "      <th>3</th>\n",
       "      <td>015014</td>\n",
       "    </tr>\n",
       "    <tr>\n",
       "      <th>4</th>\n",
       "      <td>015015</td>\n",
       "    </tr>\n",
       "  </tbody>\n",
       "</table>\n",
       "</div>"
      ],
      "text/plain": [
       "  Federal_Provider_Number\n",
       "0                  015009\n",
       "1                  015010\n",
       "2                  015012\n",
       "3                  015014\n",
       "4                  015015"
      ]
     },
     "execution_count": 22,
     "metadata": {},
     "output_type": "execute_result"
    }
   ],
   "source": [
    "all_providers = pd.read_csv(r\"C:\\Users\\email\\OneDrive\\Documents\\Python\\Web-Scraping\\Federal_provider_numbers.csv\")\n",
    "all_providers.head(5)"
   ]
  },
  {
   "cell_type": "markdown",
   "metadata": {},
   "source": [
    "Run this block to perform web scraping:"
   ]
  },
  {
   "cell_type": "code",
   "execution_count": 34,
   "metadata": {},
   "outputs": [
    {
     "name": "stdout",
     "output_type": "stream",
     "text": [
      "\n"
     ]
    },
    {
     "name": "stderr",
     "output_type": "stream",
     "text": [
      "[WDM] - ====== WebDriver manager ======\n",
      "[WDM] - Current google-chrome version is 102.0.5005\n",
      "[WDM] - Get LATEST chromedriver version for 102.0.5005 google-chrome\n",
      "[WDM] - Driver [C:\\Users\\email\\.wdm\\drivers\\chromedriver\\win32\\102.0.5005.61\\chromedriver.exe] found in cache\n"
     ]
    },
    {
     "name": "stdout",
     "output_type": "stream",
     "text": [
      "\\ (•◡•) /   Extracted data from Provider ID: 015471!   \\ (•◡•) /    <<225 out of 15224 provider's info taken!>>\r"
     ]
    },
    {
     "ename": "KeyboardInterrupt",
     "evalue": "",
     "output_type": "error",
     "traceback": [
      "\u001b[1;31m---------------------------------------------------------------------------\u001b[0m",
      "\u001b[1;31mNoSuchElementException\u001b[0m                    Traceback (most recent call last)",
      "\u001b[1;32m~\\AppData\\Local\\Temp/ipykernel_25204/4049697056.py\u001b[0m in \u001b[0;36m<module>\u001b[1;34m\u001b[0m\n\u001b[0;32m     38\u001b[0m                  \u001b[1;32mbreak\u001b[0m\u001b[1;33m;\u001b[0m\u001b[1;33m\u001b[0m\u001b[1;33m\u001b[0m\u001b[0m\n\u001b[1;32m---> 39\u001b[1;33m             \u001b[0mtable1\u001b[0m \u001b[1;33m=\u001b[0m \u001b[0mdriver\u001b[0m\u001b[1;33m.\u001b[0m\u001b[0mfind_element\u001b[0m\u001b[1;33m(\u001b[0m\u001b[0mby\u001b[0m \u001b[1;33m=\u001b[0m \u001b[0mBy\u001b[0m\u001b[1;33m.\u001b[0m\u001b[0mXPATH\u001b[0m\u001b[1;33m,\u001b[0m \u001b[0mvalue\u001b[0m \u001b[1;33m=\u001b[0m \u001b[1;34m\"/html/body/div[1]/section/section[2]/div[2]/div[2]/div[4]/main/table/tbody/tr/td[1]/table/tbody\"\u001b[0m\u001b[1;33m)\u001b[0m\u001b[1;33m.\u001b[0m\u001b[0mtext\u001b[0m\u001b[1;33m\u001b[0m\u001b[1;33m\u001b[0m\u001b[0m\n\u001b[0m\u001b[0;32m     40\u001b[0m             \u001b[1;32mbreak\u001b[0m\u001b[1;33m;\u001b[0m\u001b[1;33m\u001b[0m\u001b[1;33m\u001b[0m\u001b[0m\n",
      "\u001b[1;32mc:\\Users\\email\\anaconda3\\lib\\site-packages\\selenium\\webdriver\\remote\\webdriver.py\u001b[0m in \u001b[0;36mfind_element\u001b[1;34m(self, by, value)\u001b[0m\n\u001b[0;32m   1250\u001b[0m \u001b[1;33m\u001b[0m\u001b[0m\n\u001b[1;32m-> 1251\u001b[1;33m         return self.execute(Command.FIND_ELEMENT, {\n\u001b[0m\u001b[0;32m   1252\u001b[0m             \u001b[1;34m'using'\u001b[0m\u001b[1;33m:\u001b[0m \u001b[0mby\u001b[0m\u001b[1;33m,\u001b[0m\u001b[1;33m\u001b[0m\u001b[1;33m\u001b[0m\u001b[0m\n",
      "\u001b[1;32mc:\\Users\\email\\anaconda3\\lib\\site-packages\\selenium\\webdriver\\remote\\webdriver.py\u001b[0m in \u001b[0;36mexecute\u001b[1;34m(self, driver_command, params)\u001b[0m\n\u001b[0;32m    429\u001b[0m         \u001b[1;32mif\u001b[0m \u001b[0mresponse\u001b[0m\u001b[1;33m:\u001b[0m\u001b[1;33m\u001b[0m\u001b[1;33m\u001b[0m\u001b[0m\n\u001b[1;32m--> 430\u001b[1;33m             \u001b[0mself\u001b[0m\u001b[1;33m.\u001b[0m\u001b[0merror_handler\u001b[0m\u001b[1;33m.\u001b[0m\u001b[0mcheck_response\u001b[0m\u001b[1;33m(\u001b[0m\u001b[0mresponse\u001b[0m\u001b[1;33m)\u001b[0m\u001b[1;33m\u001b[0m\u001b[1;33m\u001b[0m\u001b[0m\n\u001b[0m\u001b[0;32m    431\u001b[0m             response['value'] = self._unwrap_value(\n",
      "\u001b[1;32mc:\\Users\\email\\anaconda3\\lib\\site-packages\\selenium\\webdriver\\remote\\errorhandler.py\u001b[0m in \u001b[0;36mcheck_response\u001b[1;34m(self, response)\u001b[0m\n\u001b[0;32m    246\u001b[0m             \u001b[1;32mraise\u001b[0m \u001b[0mexception_class\u001b[0m\u001b[1;33m(\u001b[0m\u001b[0mmessage\u001b[0m\u001b[1;33m,\u001b[0m \u001b[0mscreen\u001b[0m\u001b[1;33m,\u001b[0m \u001b[0mstacktrace\u001b[0m\u001b[1;33m,\u001b[0m \u001b[0malert_text\u001b[0m\u001b[1;33m)\u001b[0m  \u001b[1;31m# type: ignore[call-arg]  # mypy is not smart enough here\u001b[0m\u001b[1;33m\u001b[0m\u001b[1;33m\u001b[0m\u001b[0m\n\u001b[1;32m--> 247\u001b[1;33m         \u001b[1;32mraise\u001b[0m \u001b[0mexception_class\u001b[0m\u001b[1;33m(\u001b[0m\u001b[0mmessage\u001b[0m\u001b[1;33m,\u001b[0m \u001b[0mscreen\u001b[0m\u001b[1;33m,\u001b[0m \u001b[0mstacktrace\u001b[0m\u001b[1;33m)\u001b[0m\u001b[1;33m\u001b[0m\u001b[1;33m\u001b[0m\u001b[0m\n\u001b[0m\u001b[0;32m    248\u001b[0m \u001b[1;33m\u001b[0m\u001b[0m\n",
      "\u001b[1;31mNoSuchElementException\u001b[0m: Message: no such element: Unable to locate element: {\"method\":\"xpath\",\"selector\":\"/html/body/div[1]/section/section[2]/div[2]/div[2]/div[4]/main/table/tbody/tr/td[1]/table/tbody\"}\n  (Session info: chrome=102.0.5005.115)\nStacktrace:\nBacktrace:\n\tOrdinal0 [0x0120D953+2414931]\n\tOrdinal0 [0x0119F5E1+1963489]\n\tOrdinal0 [0x0108C6B8+837304]\n\tOrdinal0 [0x010B9500+1021184]\n\tOrdinal0 [0x010B979B+1021851]\n\tOrdinal0 [0x010E6502+1205506]\n\tOrdinal0 [0x010D44E4+1131748]\n\tOrdinal0 [0x010E4812+1198098]\n\tOrdinal0 [0x010D42B6+1131190]\n\tOrdinal0 [0x010AE860+976992]\n\tOrdinal0 [0x010AF756+980822]\n\tGetHandleVerifier [0x0147CC62+2510274]\n\tGetHandleVerifier [0x0146F760+2455744]\n\tGetHandleVerifier [0x0129EABA+551962]\n\tGetHandleVerifier [0x0129D916+547446]\n\tOrdinal0 [0x011A5F3B+1990459]\n\tOrdinal0 [0x011AA898+2009240]\n\tOrdinal0 [0x011AA985+2009477]\n\tOrdinal0 [0x011B3AD1+2046673]\n\tBaseThreadInitThunk [0x76986739+25]\n\tRtlGetFullPathName_UEx [0x77B38FEF+1215]\n\tRtlGetFullPathName_UEx [0x77B38FBD+1165]\n",
      "\nDuring handling of the above exception, another exception occurred:\n",
      "\u001b[1;31mKeyboardInterrupt\u001b[0m                         Traceback (most recent call last)",
      "\u001b[1;32m~\\AppData\\Local\\Temp/ipykernel_25204/4049697056.py\u001b[0m in \u001b[0;36m<module>\u001b[1;34m\u001b[0m\n\u001b[0;32m     41\u001b[0m         \u001b[1;32mexcept\u001b[0m \u001b[0mException\u001b[0m\u001b[1;33m:\u001b[0m\u001b[1;33m\u001b[0m\u001b[1;33m\u001b[0m\u001b[0m\n\u001b[0;32m     42\u001b[0m             \u001b[0mrecurring_error\u001b[0m \u001b[1;33m+=\u001b[0m \u001b[1;36m1\u001b[0m\u001b[1;33m\u001b[0m\u001b[1;33m\u001b[0m\u001b[0m\n\u001b[1;32m---> 43\u001b[1;33m             \u001b[0mtime\u001b[0m\u001b[1;33m.\u001b[0m\u001b[0msleep\u001b[0m\u001b[1;33m(\u001b[0m\u001b[1;36m4\u001b[0m\u001b[1;33m)\u001b[0m\u001b[1;33m\u001b[0m\u001b[1;33m\u001b[0m\u001b[0m\n\u001b[0m\u001b[0;32m     44\u001b[0m \u001b[1;33m\u001b[0m\u001b[0m\n\u001b[0;32m     45\u001b[0m     \u001b[1;32mif\u001b[0m \u001b[0mrecurring_error\u001b[0m \u001b[1;33m==\u001b[0m \u001b[1;36m5\u001b[0m\u001b[1;33m:\u001b[0m\u001b[1;33m\u001b[0m\u001b[1;33m\u001b[0m\u001b[0m\n",
      "\u001b[1;31mKeyboardInterrupt\u001b[0m: "
     ]
    }
   ],
   "source": [
    "# one hour for ~3000 provider ID_s\n",
    "\n",
    "# Changing the data to all the providers\n",
    "# inpatient = pd.read_csv(r\"C:\\Users\\email\\OneDrive\\Documents\\Python\\Web-Scraping\\Medicare CCN Inpatient Facility.csv\")\n",
    "all_providers = pd.read_csv(r\"C:\\Users\\email\\OneDrive\\Documents\\Python\\Web-Scraping\\Federal_provider_numbers.csv\")\n",
    "\n",
    "try:\n",
    "    driver.close()\n",
    "except Exception:\n",
    "    pass\n",
    "\n",
    "driver = webdriver.Chrome(service=Service(ChromeDriverManager().install()))\n",
    "driver.get('https://webpricer.cms.gov/#/provider-directory/ipps')\n",
    "driver.find_element(by = By.XPATH, value = \"/html/body/div[3]/div/div/div/div/aside/a[2]\").send_keys(Keys.RETURN)\n",
    "\n",
    "ID_list = all_providers[\"Federal_Provider_Number\"].to_list()\n",
    "ID_list = [str(x) for x in ID_list]\n",
    "for i in range(len(all_providers)):\n",
    "    while(len(ID_list[i]) < 6):  \n",
    "        ID_list[i] = \"0\" + ID_list[i]\n",
    "     \n",
    "final_list = []\n",
    "df = pd.DataFrame([])\n",
    "count = 1\n",
    "l = len(ID_list)\n",
    "\n",
    "recurring_error = 0\n",
    "error_IDs = []\n",
    "\n",
    "for ID in ID_list:\n",
    "    driver.find_element(by = By.XPATH, value = \"/html/body/div[1]/section/section[2]/div[2]/div[2]/div[3]/div[2]/input\").send_keys(ID)\n",
    "    time.sleep(1)\n",
    "\n",
    "    recurring_error = 0\n",
    "    while True:\n",
    "        try:\n",
    "            if recurring_error == 5:\n",
    "                 break;\n",
    "            table1 = driver.find_element(by = By.XPATH, value = \"/html/body/div[1]/section/section[2]/div[2]/div[2]/div[4]/main/table/tbody/tr/td[1]/table/tbody\").text\n",
    "            break;\n",
    "        except Exception:\n",
    "            recurring_error += 1\n",
    "            time.sleep(4)\n",
    "\n",
    "    if recurring_error == 5:\n",
    "        error_IDs.append(ID)\n",
    "        continue\n",
    "\n",
    "    recurring_error = 0\n",
    "    while True:\n",
    "        try:\n",
    "            if recurring_error == 5:\n",
    "                 break;\n",
    "            table2 = driver.find_element(by = By.XPATH, value = \"/html/body/div[1]/section/section[2]/div[2]/div[2]/div[4]/main/table/tbody/tr/td[2]/table/tbody\").text\n",
    "            break;\n",
    "        except Exception:\n",
    "            recurring_error += 1\n",
    "            time.sleep(4)\n",
    "    \n",
    "    if recurring_error == 5:\n",
    "        error_IDs.append(ID)\n",
    "        continue\n",
    "    \n",
    "    table = table1 + \"\\n\" + table2\n",
    "    provider_list = [ID]\n",
    "    for i in table.split(\"\\n\"):\n",
    "        provider_list.append(i[i.rfind(' ')+1:])\n",
    "    final_list.append(provider_list)\n",
    "    driver.find_element(by = By.XPATH, value = \"/html/body/div[1]/section/section[2]/div[2]/div[2]/div[3]/div[2]/input\").clear()\n",
    "    print(\"\\ (•◡•) /   Extracted data from Provider ID: \" + ID + \"!   \\ (•◡•) /\", end = \"  \")\n",
    "    print(\"  <<\"+str(count)+\" out of \"+str(l)+\" provider's info taken!>>\", end = \"\\r\")\n",
    "    count += 1\n",
    "    \n",
    "\n",
    "df = pd.DataFrame(final_list, columns= column_names)\n",
    "df.head(10)"
   ]
  },
  {
   "cell_type": "code",
   "execution_count": 26,
   "metadata": {},
   "outputs": [
    {
     "data": {
      "text/html": [
       "<div>\n",
       "<style scoped>\n",
       "    .dataframe tbody tr th:only-of-type {\n",
       "        vertical-align: middle;\n",
       "    }\n",
       "\n",
       "    .dataframe tbody tr th {\n",
       "        vertical-align: top;\n",
       "    }\n",
       "\n",
       "    .dataframe thead th {\n",
       "        text-align: right;\n",
       "    }\n",
       "</style>\n",
       "<table border=\"1\" class=\"dataframe\">\n",
       "  <thead>\n",
       "    <tr style=\"text-align: right;\">\n",
       "      <th></th>\n",
       "      <th>ProviderID</th>\n",
       "      <th>Fiscal_year_begin_date</th>\n",
       "      <th>Report_date</th>\n",
       "      <th>Termination_Date</th>\n",
       "      <th>Waiver_code</th>\n",
       "      <th>Intermediary_number</th>\n",
       "      <th>Provider_type</th>\n",
       "      <th>Current_Census_division</th>\n",
       "      <th>Change_code_for_reclass</th>\n",
       "      <th>Actual_Geographic_MSA</th>\n",
       "      <th>...</th>\n",
       "      <th>Hospital_readmission_reduction_adjustment</th>\n",
       "      <th>Model_1_bundle_percent</th>\n",
       "      <th>Hospital_acquired_condition_(HAC)_reduction_program_participant</th>\n",
       "      <th>Uncompensated_care_amount</th>\n",
       "      <th>Electronic_health_record_(EHR)_incentive_program_reduction_indicator</th>\n",
       "      <th>Low-volume_adjustment_factor</th>\n",
       "      <th>County_code</th>\n",
       "      <th>State_code</th>\n",
       "      <th>Medicare_performance_adjustment</th>\n",
       "      <th>LTCH_DPP_indicator</th>\n",
       "    </tr>\n",
       "  </thead>\n",
       "  <tbody>\n",
       "    <tr>\n",
       "      <th>0</th>\n",
       "      <td>015009</td>\n",
       "      <td>07/01/2021</td>\n",
       "      <td>03/31/2022</td>\n",
       "      <td>--</td>\n",
       "      <td>N</td>\n",
       "      <td>05901</td>\n",
       "      <td>38</td>\n",
       "      <td>5</td>\n",
       "      <td>N</td>\n",
       "      <td>01</td>\n",
       "      <td>...</td>\n",
       "      <td>0</td>\n",
       "      <td>0</td>\n",
       "      <td>--</td>\n",
       "      <td>$0.00</td>\n",
       "      <td>--</td>\n",
       "      <td>0</td>\n",
       "      <td>--</td>\n",
       "      <td>01</td>\n",
       "      <td>0</td>\n",
       "      <td>--</td>\n",
       "    </tr>\n",
       "    <tr>\n",
       "      <th>1</th>\n",
       "      <td>015010</td>\n",
       "      <td>07/01/2021</td>\n",
       "      <td>03/31/2022</td>\n",
       "      <td>--</td>\n",
       "      <td>N</td>\n",
       "      <td>10111</td>\n",
       "      <td>38</td>\n",
       "      <td>5</td>\n",
       "      <td>--</td>\n",
       "      <td>01</td>\n",
       "      <td>...</td>\n",
       "      <td>0</td>\n",
       "      <td>0</td>\n",
       "      <td>--</td>\n",
       "      <td>$0.00</td>\n",
       "      <td>--</td>\n",
       "      <td>0</td>\n",
       "      <td>--</td>\n",
       "      <td>01</td>\n",
       "      <td>0</td>\n",
       "      <td>--</td>\n",
       "    </tr>\n",
       "    <tr>\n",
       "      <th>2</th>\n",
       "      <td>015012</td>\n",
       "      <td>10/01/2021</td>\n",
       "      <td>03/31/2022</td>\n",
       "      <td>--</td>\n",
       "      <td>N</td>\n",
       "      <td>10111</td>\n",
       "      <td>38</td>\n",
       "      <td>5</td>\n",
       "      <td>--</td>\n",
       "      <td>01</td>\n",
       "      <td>...</td>\n",
       "      <td>0</td>\n",
       "      <td>0</td>\n",
       "      <td>--</td>\n",
       "      <td>$0.00</td>\n",
       "      <td>--</td>\n",
       "      <td>0</td>\n",
       "      <td>--</td>\n",
       "      <td>01</td>\n",
       "      <td>0</td>\n",
       "      <td>--</td>\n",
       "    </tr>\n",
       "    <tr>\n",
       "      <th>3</th>\n",
       "      <td>015014</td>\n",
       "      <td>07/01/2021</td>\n",
       "      <td>03/31/2022</td>\n",
       "      <td>--</td>\n",
       "      <td>N</td>\n",
       "      <td>05901</td>\n",
       "      <td>38</td>\n",
       "      <td>5</td>\n",
       "      <td>N</td>\n",
       "      <td>1000</td>\n",
       "      <td>...</td>\n",
       "      <td>0</td>\n",
       "      <td>0</td>\n",
       "      <td>--</td>\n",
       "      <td>$0.00</td>\n",
       "      <td>--</td>\n",
       "      <td>0</td>\n",
       "      <td>--</td>\n",
       "      <td>01</td>\n",
       "      <td>0</td>\n",
       "      <td>--</td>\n",
       "    </tr>\n",
       "    <tr>\n",
       "      <th>4</th>\n",
       "      <td>015015</td>\n",
       "      <td>07/01/2021</td>\n",
       "      <td>03/31/2022</td>\n",
       "      <td>--</td>\n",
       "      <td>N</td>\n",
       "      <td>05901</td>\n",
       "      <td>38</td>\n",
       "      <td>5</td>\n",
       "      <td>N</td>\n",
       "      <td>1000</td>\n",
       "      <td>...</td>\n",
       "      <td>0</td>\n",
       "      <td>0</td>\n",
       "      <td>--</td>\n",
       "      <td>$0.00</td>\n",
       "      <td>--</td>\n",
       "      <td>0</td>\n",
       "      <td>--</td>\n",
       "      <td>01</td>\n",
       "      <td>0</td>\n",
       "      <td>--</td>\n",
       "    </tr>\n",
       "    <tr>\n",
       "      <th>5</th>\n",
       "      <td>015016</td>\n",
       "      <td>07/01/2021</td>\n",
       "      <td>03/31/2022</td>\n",
       "      <td>--</td>\n",
       "      <td>N</td>\n",
       "      <td>10111</td>\n",
       "      <td>38</td>\n",
       "      <td>5</td>\n",
       "      <td>--</td>\n",
       "      <td>3440</td>\n",
       "      <td>...</td>\n",
       "      <td>0</td>\n",
       "      <td>0</td>\n",
       "      <td>N</td>\n",
       "      <td>$0.00</td>\n",
       "      <td>--</td>\n",
       "      <td>0</td>\n",
       "      <td>--</td>\n",
       "      <td>01</td>\n",
       "      <td>0</td>\n",
       "      <td>--</td>\n",
       "    </tr>\n",
       "    <tr>\n",
       "      <th>6</th>\n",
       "      <td>015019</td>\n",
       "      <td>01/01/2021</td>\n",
       "      <td>03/31/2022</td>\n",
       "      <td>--</td>\n",
       "      <td>N</td>\n",
       "      <td>04011</td>\n",
       "      <td>38</td>\n",
       "      <td>6</td>\n",
       "      <td>--</td>\n",
       "      <td>5240</td>\n",
       "      <td>...</td>\n",
       "      <td>0</td>\n",
       "      <td>0</td>\n",
       "      <td>--</td>\n",
       "      <td>$0.00</td>\n",
       "      <td>--</td>\n",
       "      <td>0</td>\n",
       "      <td>01051</td>\n",
       "      <td>01</td>\n",
       "      <td>0</td>\n",
       "      <td>--</td>\n",
       "    </tr>\n",
       "  </tbody>\n",
       "</table>\n",
       "<p>7 rows × 61 columns</p>\n",
       "</div>"
      ],
      "text/plain": [
       "  ProviderID Fiscal_year_begin_date Report_date Termination_Date Waiver_code  \\\n",
       "0     015009             07/01/2021  03/31/2022               --           N   \n",
       "1     015010             07/01/2021  03/31/2022               --           N   \n",
       "2     015012             10/01/2021  03/31/2022               --           N   \n",
       "3     015014             07/01/2021  03/31/2022               --           N   \n",
       "4     015015             07/01/2021  03/31/2022               --           N   \n",
       "5     015016             07/01/2021  03/31/2022               --           N   \n",
       "6     015019             01/01/2021  03/31/2022               --           N   \n",
       "\n",
       "  Intermediary_number Provider_type Current_Census_division  \\\n",
       "0               05901            38                       5   \n",
       "1               10111            38                       5   \n",
       "2               10111            38                       5   \n",
       "3               05901            38                       5   \n",
       "4               05901            38                       5   \n",
       "5               10111            38                       5   \n",
       "6               04011            38                       6   \n",
       "\n",
       "  Change_code_for_reclass Actual_Geographic_MSA  ...  \\\n",
       "0                       N                    01  ...   \n",
       "1                      --                    01  ...   \n",
       "2                      --                    01  ...   \n",
       "3                       N                  1000  ...   \n",
       "4                       N                  1000  ...   \n",
       "5                      --                  3440  ...   \n",
       "6                      --                  5240  ...   \n",
       "\n",
       "  Hospital_readmission_reduction_adjustment Model_1_bundle_percent  \\\n",
       "0                                         0                      0   \n",
       "1                                         0                      0   \n",
       "2                                         0                      0   \n",
       "3                                         0                      0   \n",
       "4                                         0                      0   \n",
       "5                                         0                      0   \n",
       "6                                         0                      0   \n",
       "\n",
       "  Hospital_acquired_condition_(HAC)_reduction_program_participant  \\\n",
       "0                                                 --                \n",
       "1                                                 --                \n",
       "2                                                 --                \n",
       "3                                                 --                \n",
       "4                                                 --                \n",
       "5                                                  N                \n",
       "6                                                 --                \n",
       "\n",
       "  Uncompensated_care_amount  \\\n",
       "0                     $0.00   \n",
       "1                     $0.00   \n",
       "2                     $0.00   \n",
       "3                     $0.00   \n",
       "4                     $0.00   \n",
       "5                     $0.00   \n",
       "6                     $0.00   \n",
       "\n",
       "  Electronic_health_record_(EHR)_incentive_program_reduction_indicator  \\\n",
       "0                                                 --                     \n",
       "1                                                 --                     \n",
       "2                                                 --                     \n",
       "3                                                 --                     \n",
       "4                                                 --                     \n",
       "5                                                 --                     \n",
       "6                                                 --                     \n",
       "\n",
       "  Low-volume_adjustment_factor County_code State_code  \\\n",
       "0                            0          --         01   \n",
       "1                            0          --         01   \n",
       "2                            0          --         01   \n",
       "3                            0          --         01   \n",
       "4                            0          --         01   \n",
       "5                            0          --         01   \n",
       "6                            0       01051         01   \n",
       "\n",
       "  Medicare_performance_adjustment LTCH_DPP_indicator  \n",
       "0                               0                 --  \n",
       "1                               0                 --  \n",
       "2                               0                 --  \n",
       "3                               0                 --  \n",
       "4                               0                 --  \n",
       "5                               0                 --  \n",
       "6                               0                 --  \n",
       "\n",
       "[7 rows x 61 columns]"
      ]
     },
     "execution_count": 26,
     "metadata": {},
     "output_type": "execute_result"
    }
   ],
   "source": [
    "df = pd.DataFrame(final_list, columns= column_names)\n",
    "df.head(10)"
   ]
  },
  {
   "cell_type": "code",
   "execution_count": 17,
   "metadata": {},
   "outputs": [
    {
     "name": "stdout",
     "output_type": "stream",
     "text": [
      "['050137', '01/01/2022', '03/31/2022', '--', 'N', '01911', '07', '9', '--', '0000', '0000', '0000', '--', '--', '--', '--', '$2,788.67', '1', '0.0114', '183', '0.338', '1.3803', '0.0871', '0.1659', '--', '--', '--', '12/31/2016', '--', 'Y', '1', '31084', '37100', '05', '$3.78', '--', '$3.78', '--', 'C', '384.57', '0', '0', '0.008', '--', '0.0233', '0', '--', '--', 'N', '0', '1', '1', '0', 'N', '$4,029.72', '--', '0', '06037', '05', '0', '--']\n"
     ]
    }
   ],
   "source": [
    "for i in range(len(final_list)):\n",
    "    if len(final_list[i]) != 61:\n",
    "        final_list[i] = final_list[i][:61] \n",
    "        print(final_list[i])\n",
    "\n"
   ]
  },
  {
   "cell_type": "code",
   "execution_count": 16,
   "metadata": {},
   "outputs": [
    {
     "name": "stdout",
     "output_type": "stream",
     "text": [
      "[1, 2, 3]\n"
     ]
    }
   ],
   "source": [
    "x = [1,2,3,4,5]\n",
    "print(x[:3])"
   ]
  },
  {
   "cell_type": "code",
   "execution_count": 35,
   "metadata": {},
   "outputs": [
    {
     "name": "stdout",
     "output_type": "stream",
     "text": [
      "['01A193', '01A208', '025010', '025015', '025018', '025019', '025020', '025021', '025024', '025025', '025026', '025027', '025028', '025030', '025031', '025032', '025034', '025035', '025036', '025037', '025038', '025039', '035003', '035004', '035014', '035016', '035059', '035062', '035064', '035068', '035070', '035071', '035072', '035073', '035074', '035076', '035083', '035084', '035085', '035086', '035087', '035088', '035091', '035092', '035093', '035094', '035095', '035096', '035097', '035099', '035100', '035101', '035103', '035105', '035106', '035107', '035110', '035111', '035112', '035114', '035116', '035117', '035118', '035120', '035121', '035125', '035126', '035127', '035130', '035131', '035132']\n"
     ]
    }
   ],
   "source": [
    "print(error_IDs)"
   ]
  },
  {
   "cell_type": "code",
   "execution_count": 21,
   "metadata": {},
   "outputs": [],
   "source": [
    "df.to_csv(\"test.csv\")"
   ]
  },
  {
   "cell_type": "code",
   "execution_count": 20,
   "metadata": {},
   "outputs": [
    {
     "name": "stdout",
     "output_type": "stream",
     "text": [
      "['010001', '10/01/2021', '03/31/2022', '--', 'N', '10111', '07', '5', 'Y', '2180', '01', '01', '--', '--', '--', '--', '$1,918.13', '1', '0.0494', '322', '0.181', '--', '0.1029', '0.1989', '--', '--', '--', '09/30/2022', '0.856', '2', '1', '20020', '18880', '01', '$106.82', '--', '$46.13', '--', 'C', '0', '0', '0', '0.012', '--', '0.1136', '0', '--', '--', 'N', '0', '1', '0.9903', '0', 'N', '$672.33', '--', '0', '01069', '01', '0', '--']\n"
     ]
    }
   ],
   "source": [
    "print(final_list[0])"
   ]
  }
 ],
 "metadata": {
  "kernelspec": {
   "display_name": "Python 3.9.7 ('base')",
   "language": "python",
   "name": "python3"
  },
  "language_info": {
   "codemirror_mode": {
    "name": "ipython",
    "version": 3
   },
   "file_extension": ".py",
   "mimetype": "text/x-python",
   "name": "python",
   "nbconvert_exporter": "python",
   "pygments_lexer": "ipython3",
   "version": "3.9.7"
  },
  "orig_nbformat": 4,
  "vscode": {
   "interpreter": {
    "hash": "f96c0a065a6f038b4d81e02ec5e62503dd3b71442db074018719e130d8db16de"
   }
  }
 },
 "nbformat": 4,
 "nbformat_minor": 2
}
