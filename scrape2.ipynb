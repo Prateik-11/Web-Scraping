{
 "cells": [
  {
   "cell_type": "markdown",
   "metadata": {},
   "source": [
    "# Scraping data of all Provider IDs from webpricer.cms.gov "
   ]
  },
  {
   "cell_type": "markdown",
   "metadata": {},
   "source": [
    "Attempting to scrape information from a webpage whose output changes dynamically as we enter text in a field"
   ]
  },
  {
   "cell_type": "code",
   "execution_count": 29,
   "metadata": {},
   "outputs": [],
   "source": [
    "from selenium import webdriver\n",
    "from selenium.webdriver.common.keys import Keys\n",
    "from selenium.webdriver.chrome.service import Service\n",
    "from webdriver_manager.chrome import ChromeDriverManager\n",
    "from selenium.webdriver.common.by import By\n",
    "import pandas as pd\n",
    "import re\n",
    "import time"
   ]
  },
  {
   "cell_type": "markdown",
   "metadata": {},
   "source": [
    "Atttempting to get rid of initial popup:"
   ]
  },
  {
   "cell_type": "code",
   "execution_count": 11,
   "metadata": {},
   "outputs": [
    {
     "name": "stdout",
     "output_type": "stream",
     "text": [
      "\n"
     ]
    },
    {
     "name": "stderr",
     "output_type": "stream",
     "text": [
      "[WDM] - ====== WebDriver manager ======\n",
      "[WDM] - Current google-chrome version is 102.0.5005\n",
      "[WDM] - Get LATEST chromedriver version for 102.0.5005 google-chrome\n",
      "[WDM] - Driver [C:\\Users\\email\\.wdm\\drivers\\chromedriver\\win32\\102.0.5005.61\\chromedriver.exe] found in cache\n"
     ]
    }
   ],
   "source": [
    "driver = webdriver.Chrome(service=Service(ChromeDriverManager().install()))\n",
    "driver.get('https://webpricer.cms.gov/#/provider-directory/ipps')\n",
    "\n",
    "driver.find_element(by = By.XPATH, value = \"/html/body/div[3]/div/div/div/div/aside/a[2]\").send_keys(Keys.RETURN)"
   ]
  },
  {
   "cell_type": "markdown",
   "metadata": {},
   "source": [
    "Experimenting to find the right web element and regex used to extract the data:"
   ]
  },
  {
   "cell_type": "code",
   "execution_count": 13,
   "metadata": {},
   "outputs": [],
   "source": [
    "ID = \"100030\"\n",
    "\n",
    "provider_list = [ID]"
   ]
  },
  {
   "cell_type": "code",
   "execution_count": 14,
   "metadata": {},
   "outputs": [],
   "source": [
    "driver.find_element(by = By.XPATH, value = \"/html/body/div[1]/section/section[2]/div[2]/div[2]/div[3]/div[2]/input\").send_keys(ID)"
   ]
  },
  {
   "cell_type": "code",
   "execution_count": null,
   "metadata": {},
   "outputs": [],
   "source": [
    "table1 = driver.find_elements(by = By.XPATH, value = \"/html/body/div[1]/section/section[2]/div[2]/div[2]/div[4]/main/table/tbody/tr/td[1]/table/tbody\")[0].text\n",
    "table2 = driver.find_elements(by = By.XPATH, value = \"/html/body/div[1]/section/section[2]/div[2]/div[2]/div[4]/main/table/tbody/tr/td[2]/table/tbody\")[0].text\n",
    "table = table1 + \"\\n\" + table2\n",
    "print(table)"
   ]
  },
  {
   "cell_type": "code",
   "execution_count": 10,
   "metadata": {},
   "outputs": [
    {
     "name": "stdout",
     "output_type": "stream",
     "text": [
      "60\n",
      "['ProviderID', 'Fiscal_year_begin_date', 'Report_date', 'Termination_Date', 'Waiver_code', 'Intermediary_number', 'Provider_type', 'Current_Census_division', 'Change_code_for_reclass', 'Actual_Geographic_MSA', 'Wage_Index_MSA', 'Standardized_amount_MSA', 'Sole_community_or_Medicare', 'LUGAR', 'Temporary_relief_indicator', 'Federal_PPS_Blend_indicator', 'Facility_specific_rate', 'Cost_of_living_adjustment', 'Intern_to_bed_ratio', 'Bed_size', 'Cost-to-charge_ratio', 'Case_mix_index', 'SSI_ratio', 'Medicaid_ratio', 'Provider_PPS_period', 'Special_provider_update_factor', 'Operating_DSH_percent', 'Fiscal_year_end_date', 'Special_wage_index', 'Special_payment_indicator', 'Hospital_quality_indicator', 'Geographic_location_CBSA', 'Reclassification_CBSA', 'Standardized_amount_CBSA', 'Total_pass_through_amount_and_miscellaneous', 'Pass_through_amount_capital', 'Pass_through_amount_direct', 'Pass_through_amount_organ', 'Capital_PPS_pay_code', 'Capital_hospital_specific_rate', 'Capital_old_harmless_rate', 'Capital_new_harmless_ratio', 'Capital_cost-to-charge_ratio', 'New_hospital', 'Capital_indirect_medical', 'Capital_exception_payment', 'Supplemental_wage_index', 'Supplemental_wage_index_indicator', 'Value_based_purchasing_participant', 'Value_based_purchasing_adjustment', 'Hospital_readmission_reduction_program_participant', 'Hospital_readmission_reduction_adjustment', 'Model_1_bundle_percent', 'Hospital_acquired_condition_(HAC)_reduction_program_participant', 'Uncompensated_care_amount', 'Electronic_health_record_(EHR)_incentive_program_reduction_indicator', 'Low-volume_adjustment_factor', 'County_code', 'State_code', 'Medicare_performance_adjustment', 'LTCH_DPP_indicator']\n"
     ]
    }
   ],
   "source": [
    "# print(table.split(\"\\n\"))\n",
    "print(len(table.split(\"\\n\")))\n",
    "column_names = [\"ProviderID\"]\n",
    "for i in table.split(\"\\n\"):\n",
    "    column_names.append(i[:i.rfind(' ')])\n",
    "# print(column_names)\n",
    "for i in range(len(column_names)):\n",
    "    column_names[i] = column_names[i].replace(' ','_')\n",
    "print(column_names)"
   ]
  },
  {
   "cell_type": "code",
   "execution_count": 37,
   "metadata": {},
   "outputs": [
    {
     "name": "stdout",
     "output_type": "stream",
     "text": [
      "61\n"
     ]
    }
   ],
   "source": [
    "provider_list = [ID]\n",
    "for i in table.split(\"\\n\"):\n",
    "    provider_list.append(i[i.rfind(' ')+1:])\n",
    "print(len(provider_list))"
   ]
  },
  {
   "cell_type": "markdown",
   "metadata": {},
   "source": [
    "Importing the inpatient provider numbers and checking to see if it loaded correctly:"
   ]
  },
  {
   "cell_type": "code",
   "execution_count": 5,
   "metadata": {},
   "outputs": [
    {
     "data": {
      "text/html": [
       "<div>\n",
       "<style scoped>\n",
       "    .dataframe tbody tr th:only-of-type {\n",
       "        vertical-align: middle;\n",
       "    }\n",
       "\n",
       "    .dataframe tbody tr th {\n",
       "        vertical-align: top;\n",
       "    }\n",
       "\n",
       "    .dataframe thead th {\n",
       "        text-align: right;\n",
       "    }\n",
       "</style>\n",
       "<table border=\"1\" class=\"dataframe\">\n",
       "  <thead>\n",
       "    <tr style=\"text-align: right;\">\n",
       "      <th></th>\n",
       "      <th>Inpatient</th>\n",
       "      <th>CCN</th>\n",
       "    </tr>\n",
       "  </thead>\n",
       "  <tbody>\n",
       "    <tr>\n",
       "      <th>0</th>\n",
       "      <td>NaN</td>\n",
       "      <td>10001</td>\n",
       "    </tr>\n",
       "    <tr>\n",
       "      <th>1</th>\n",
       "      <td>NaN</td>\n",
       "      <td>10005</td>\n",
       "    </tr>\n",
       "    <tr>\n",
       "      <th>2</th>\n",
       "      <td>NaN</td>\n",
       "      <td>10006</td>\n",
       "    </tr>\n",
       "    <tr>\n",
       "      <th>3</th>\n",
       "      <td>NaN</td>\n",
       "      <td>10007</td>\n",
       "    </tr>\n",
       "    <tr>\n",
       "      <th>4</th>\n",
       "      <td>NaN</td>\n",
       "      <td>10008</td>\n",
       "    </tr>\n",
       "  </tbody>\n",
       "</table>\n",
       "</div>"
      ],
      "text/plain": [
       "   Inpatient    CCN\n",
       "0        NaN  10001\n",
       "1        NaN  10005\n",
       "2        NaN  10006\n",
       "3        NaN  10007\n",
       "4        NaN  10008"
      ]
     },
     "execution_count": 5,
     "metadata": {},
     "output_type": "execute_result"
    }
   ],
   "source": [
    "inpatient = pd.read_csv(r\"C:\\Users\\email\\OneDrive\\Documents\\Python\\Web-Scraping\\Medicare CCN Inpatient Facility.csv\")\n",
    "inpatient.head(5)"
   ]
  },
  {
   "cell_type": "markdown",
   "metadata": {},
   "source": [
    "Alternatively, if using all the Provider IDs:\n",
    "\n",
    "*Obtained by querying* `SELECT [Federal_Provider_Number] FROM [ProviderDataRegistry].[dbo].[CMS_ProviderInfo]`"
   ]
  },
  {
   "cell_type": "code",
   "execution_count": 22,
   "metadata": {},
   "outputs": [
    {
     "data": {
      "text/html": [
       "<div>\n",
       "<style scoped>\n",
       "    .dataframe tbody tr th:only-of-type {\n",
       "        vertical-align: middle;\n",
       "    }\n",
       "\n",
       "    .dataframe tbody tr th {\n",
       "        vertical-align: top;\n",
       "    }\n",
       "\n",
       "    .dataframe thead th {\n",
       "        text-align: right;\n",
       "    }\n",
       "</style>\n",
       "<table border=\"1\" class=\"dataframe\">\n",
       "  <thead>\n",
       "    <tr style=\"text-align: right;\">\n",
       "      <th></th>\n",
       "      <th>Federal_Provider_Number</th>\n",
       "    </tr>\n",
       "  </thead>\n",
       "  <tbody>\n",
       "    <tr>\n",
       "      <th>0</th>\n",
       "      <td>015009</td>\n",
       "    </tr>\n",
       "    <tr>\n",
       "      <th>1</th>\n",
       "      <td>015010</td>\n",
       "    </tr>\n",
       "    <tr>\n",
       "      <th>2</th>\n",
       "      <td>015012</td>\n",
       "    </tr>\n",
       "    <tr>\n",
       "      <th>3</th>\n",
       "      <td>015014</td>\n",
       "    </tr>\n",
       "    <tr>\n",
       "      <th>4</th>\n",
       "      <td>015015</td>\n",
       "    </tr>\n",
       "  </tbody>\n",
       "</table>\n",
       "</div>"
      ],
      "text/plain": [
       "  Federal_Provider_Number\n",
       "0                  015009\n",
       "1                  015010\n",
       "2                  015012\n",
       "3                  015014\n",
       "4                  015015"
      ]
     },
     "execution_count": 22,
     "metadata": {},
     "output_type": "execute_result"
    }
   ],
   "source": [
    "all_providers = pd.read_csv(r\"C:\\Users\\email\\OneDrive\\Documents\\Python\\Web-Scraping\\Federal_provider_numbers.csv\")\n",
    "all_providers.head(5)"
   ]
  },
  {
   "cell_type": "markdown",
   "metadata": {},
   "source": [
    "Run this block to perform web scraping:"
   ]
  },
  {
   "cell_type": "code",
   "execution_count": 38,
   "metadata": {},
   "outputs": [
    {
     "name": "stdout",
     "output_type": "stream",
     "text": [
      "\n"
     ]
    },
    {
     "name": "stderr",
     "output_type": "stream",
     "text": [
      "[WDM] - ====== WebDriver manager ======\n",
      "[WDM] - Current google-chrome version is 102.0.5005\n",
      "[WDM] - Get LATEST chromedriver version for 102.0.5005 google-chrome\n",
      "[WDM] - Driver [C:\\Users\\email\\.wdm\\drivers\\chromedriver\\win32\\102.0.5005.61\\chromedriver.exe] found in cache\n"
     ]
    },
    {
     "name": "stdout",
     "output_type": "stream",
     "text": [
      "\\ (•◡•) /   Extracted data from Provider ID: 365271!   \\ (•◡•) /    <<9681 out of 15224 provider's info taken!>>\r"
     ]
    },
    {
     "ename": "NoSuchWindowException",
     "evalue": "Message: no such window: target window already closed\nfrom unknown error: web view not found\n  (Session info: chrome=102.0.5005.115)\nStacktrace:\nBacktrace:\n\tOrdinal0 [0x0120D953+2414931]\n\tOrdinal0 [0x0119F5E1+1963489]\n\tOrdinal0 [0x0108C6B8+837304]\n\tOrdinal0 [0x01074120+737568]\n\tOrdinal0 [0x010D6E29+1142313]\n\tOrdinal0 [0x010E3FB2+1195954]\n\tOrdinal0 [0x010D42B6+1131190]\n\tOrdinal0 [0x010AE860+976992]\n\tOrdinal0 [0x010AF756+980822]\n\tGetHandleVerifier [0x0147CC62+2510274]\n\tGetHandleVerifier [0x0146F760+2455744]\n\tGetHandleVerifier [0x0129EABA+551962]\n\tGetHandleVerifier [0x0129D916+547446]\n\tOrdinal0 [0x011A5F3B+1990459]\n\tOrdinal0 [0x011AA898+2009240]\n\tOrdinal0 [0x011AA985+2009477]\n\tOrdinal0 [0x011B3AD1+2046673]\n\tBaseThreadInitThunk [0x76986739+25]\n\tRtlGetFullPathName_UEx [0x77B38FEF+1215]\n\tRtlGetFullPathName_UEx [0x77B38FBD+1165]\n",
     "output_type": "error",
     "traceback": [
      "\u001b[1;31m---------------------------------------------------------------------------\u001b[0m",
      "\u001b[1;31mNoSuchWindowException\u001b[0m                     Traceback (most recent call last)",
      "\u001b[1;32m~\\AppData\\Local\\Temp/ipykernel_25204/2415116612.py\u001b[0m in \u001b[0;36m<module>\u001b[1;34m\u001b[0m\n\u001b[0;32m     45\u001b[0m         \u001b[0mstop\u001b[0m \u001b[1;33m=\u001b[0m \u001b[1;32mFalse\u001b[0m\u001b[1;33m\u001b[0m\u001b[1;33m\u001b[0m\u001b[0m\n\u001b[0;32m     46\u001b[0m         \u001b[0mcount\u001b[0m \u001b[1;33m+=\u001b[0m \u001b[1;36m1\u001b[0m\u001b[1;33m\u001b[0m\u001b[1;33m\u001b[0m\u001b[0m\n\u001b[1;32m---> 47\u001b[1;33m         \u001b[0mdriver\u001b[0m\u001b[1;33m.\u001b[0m\u001b[0mfind_element\u001b[0m\u001b[1;33m(\u001b[0m\u001b[0mby\u001b[0m \u001b[1;33m=\u001b[0m \u001b[0mBy\u001b[0m\u001b[1;33m.\u001b[0m\u001b[0mXPATH\u001b[0m\u001b[1;33m,\u001b[0m \u001b[0mvalue\u001b[0m \u001b[1;33m=\u001b[0m \u001b[1;34m\"/html/body/div[1]/section/section[2]/div[2]/div[2]/div[3]/div[2]/input\"\u001b[0m\u001b[1;33m)\u001b[0m\u001b[1;33m.\u001b[0m\u001b[0mclear\u001b[0m\u001b[1;33m(\u001b[0m\u001b[1;33m)\u001b[0m\u001b[1;33m\u001b[0m\u001b[1;33m\u001b[0m\u001b[0m\n\u001b[0m\u001b[0;32m     48\u001b[0m         \u001b[1;32mcontinue\u001b[0m\u001b[1;33m\u001b[0m\u001b[1;33m\u001b[0m\u001b[0m\n\u001b[0;32m     49\u001b[0m \u001b[1;33m\u001b[0m\u001b[0m\n",
      "\u001b[1;32mc:\\Users\\email\\anaconda3\\lib\\site-packages\\selenium\\webdriver\\remote\\webdriver.py\u001b[0m in \u001b[0;36mfind_element\u001b[1;34m(self, by, value)\u001b[0m\n\u001b[0;32m   1249\u001b[0m             \u001b[0mvalue\u001b[0m \u001b[1;33m=\u001b[0m \u001b[1;34m'[name=\"%s\"]'\u001b[0m \u001b[1;33m%\u001b[0m \u001b[0mvalue\u001b[0m\u001b[1;33m\u001b[0m\u001b[1;33m\u001b[0m\u001b[0m\n\u001b[0;32m   1250\u001b[0m \u001b[1;33m\u001b[0m\u001b[0m\n\u001b[1;32m-> 1251\u001b[1;33m         return self.execute(Command.FIND_ELEMENT, {\n\u001b[0m\u001b[0;32m   1252\u001b[0m             \u001b[1;34m'using'\u001b[0m\u001b[1;33m:\u001b[0m \u001b[0mby\u001b[0m\u001b[1;33m,\u001b[0m\u001b[1;33m\u001b[0m\u001b[1;33m\u001b[0m\u001b[0m\n\u001b[0;32m   1253\u001b[0m             'value': value})['value']\n",
      "\u001b[1;32mc:\\Users\\email\\anaconda3\\lib\\site-packages\\selenium\\webdriver\\remote\\webdriver.py\u001b[0m in \u001b[0;36mexecute\u001b[1;34m(self, driver_command, params)\u001b[0m\n\u001b[0;32m    428\u001b[0m         \u001b[0mresponse\u001b[0m \u001b[1;33m=\u001b[0m \u001b[0mself\u001b[0m\u001b[1;33m.\u001b[0m\u001b[0mcommand_executor\u001b[0m\u001b[1;33m.\u001b[0m\u001b[0mexecute\u001b[0m\u001b[1;33m(\u001b[0m\u001b[0mdriver_command\u001b[0m\u001b[1;33m,\u001b[0m \u001b[0mparams\u001b[0m\u001b[1;33m)\u001b[0m\u001b[1;33m\u001b[0m\u001b[1;33m\u001b[0m\u001b[0m\n\u001b[0;32m    429\u001b[0m         \u001b[1;32mif\u001b[0m \u001b[0mresponse\u001b[0m\u001b[1;33m:\u001b[0m\u001b[1;33m\u001b[0m\u001b[1;33m\u001b[0m\u001b[0m\n\u001b[1;32m--> 430\u001b[1;33m             \u001b[0mself\u001b[0m\u001b[1;33m.\u001b[0m\u001b[0merror_handler\u001b[0m\u001b[1;33m.\u001b[0m\u001b[0mcheck_response\u001b[0m\u001b[1;33m(\u001b[0m\u001b[0mresponse\u001b[0m\u001b[1;33m)\u001b[0m\u001b[1;33m\u001b[0m\u001b[1;33m\u001b[0m\u001b[0m\n\u001b[0m\u001b[0;32m    431\u001b[0m             response['value'] = self._unwrap_value(\n\u001b[0;32m    432\u001b[0m                 response.get('value', None))\n",
      "\u001b[1;32mc:\\Users\\email\\anaconda3\\lib\\site-packages\\selenium\\webdriver\\remote\\errorhandler.py\u001b[0m in \u001b[0;36mcheck_response\u001b[1;34m(self, response)\u001b[0m\n\u001b[0;32m    245\u001b[0m                 \u001b[0malert_text\u001b[0m \u001b[1;33m=\u001b[0m \u001b[0mvalue\u001b[0m\u001b[1;33m[\u001b[0m\u001b[1;34m'alert'\u001b[0m\u001b[1;33m]\u001b[0m\u001b[1;33m.\u001b[0m\u001b[0mget\u001b[0m\u001b[1;33m(\u001b[0m\u001b[1;34m'text'\u001b[0m\u001b[1;33m)\u001b[0m\u001b[1;33m\u001b[0m\u001b[1;33m\u001b[0m\u001b[0m\n\u001b[0;32m    246\u001b[0m             \u001b[1;32mraise\u001b[0m \u001b[0mexception_class\u001b[0m\u001b[1;33m(\u001b[0m\u001b[0mmessage\u001b[0m\u001b[1;33m,\u001b[0m \u001b[0mscreen\u001b[0m\u001b[1;33m,\u001b[0m \u001b[0mstacktrace\u001b[0m\u001b[1;33m,\u001b[0m \u001b[0malert_text\u001b[0m\u001b[1;33m)\u001b[0m  \u001b[1;31m# type: ignore[call-arg]  # mypy is not smart enough here\u001b[0m\u001b[1;33m\u001b[0m\u001b[1;33m\u001b[0m\u001b[0m\n\u001b[1;32m--> 247\u001b[1;33m         \u001b[1;32mraise\u001b[0m \u001b[0mexception_class\u001b[0m\u001b[1;33m(\u001b[0m\u001b[0mmessage\u001b[0m\u001b[1;33m,\u001b[0m \u001b[0mscreen\u001b[0m\u001b[1;33m,\u001b[0m \u001b[0mstacktrace\u001b[0m\u001b[1;33m)\u001b[0m\u001b[1;33m\u001b[0m\u001b[1;33m\u001b[0m\u001b[0m\n\u001b[0m\u001b[0;32m    248\u001b[0m \u001b[1;33m\u001b[0m\u001b[0m\n\u001b[0;32m    249\u001b[0m     \u001b[1;32mdef\u001b[0m \u001b[0m_value_or_default\u001b[0m\u001b[1;33m(\u001b[0m\u001b[0mself\u001b[0m\u001b[1;33m,\u001b[0m \u001b[0mobj\u001b[0m\u001b[1;33m:\u001b[0m \u001b[0mMapping\u001b[0m\u001b[1;33m[\u001b[0m\u001b[0m_KT\u001b[0m\u001b[1;33m,\u001b[0m \u001b[0m_VT\u001b[0m\u001b[1;33m]\u001b[0m\u001b[1;33m,\u001b[0m \u001b[0mkey\u001b[0m\u001b[1;33m:\u001b[0m \u001b[0m_KT\u001b[0m\u001b[1;33m,\u001b[0m \u001b[0mdefault\u001b[0m\u001b[1;33m:\u001b[0m \u001b[0m_VT\u001b[0m\u001b[1;33m)\u001b[0m \u001b[1;33m->\u001b[0m \u001b[0m_VT\u001b[0m\u001b[1;33m:\u001b[0m\u001b[1;33m\u001b[0m\u001b[1;33m\u001b[0m\u001b[0m\n",
      "\u001b[1;31mNoSuchWindowException\u001b[0m: Message: no such window: target window already closed\nfrom unknown error: web view not found\n  (Session info: chrome=102.0.5005.115)\nStacktrace:\nBacktrace:\n\tOrdinal0 [0x0120D953+2414931]\n\tOrdinal0 [0x0119F5E1+1963489]\n\tOrdinal0 [0x0108C6B8+837304]\n\tOrdinal0 [0x01074120+737568]\n\tOrdinal0 [0x010D6E29+1142313]\n\tOrdinal0 [0x010E3FB2+1195954]\n\tOrdinal0 [0x010D42B6+1131190]\n\tOrdinal0 [0x010AE860+976992]\n\tOrdinal0 [0x010AF756+980822]\n\tGetHandleVerifier [0x0147CC62+2510274]\n\tGetHandleVerifier [0x0146F760+2455744]\n\tGetHandleVerifier [0x0129EABA+551962]\n\tGetHandleVerifier [0x0129D916+547446]\n\tOrdinal0 [0x011A5F3B+1990459]\n\tOrdinal0 [0x011AA898+2009240]\n\tOrdinal0 [0x011AA985+2009477]\n\tOrdinal0 [0x011B3AD1+2046673]\n\tBaseThreadInitThunk [0x76986739+25]\n\tRtlGetFullPathName_UEx [0x77B38FEF+1215]\n\tRtlGetFullPathName_UEx [0x77B38FBD+1165]\n"
     ]
    }
   ],
   "source": [
    "# one hour for ~3000 provider ID_s\n",
    "\n",
    "# Changing the data to all the providers\n",
    "# inpatient = pd.read_csv(r\"C:\\Users\\email\\OneDrive\\Documents\\Python\\Web-Scraping\\Medicare CCN Inpatient Facility.csv\")\n",
    "all_providers = pd.read_csv(r\"C:\\Users\\email\\OneDrive\\Documents\\Python\\Web-Scraping\\Federal_provider_numbers.csv\")\n",
    "\n",
    "try:\n",
    "    driver.close()\n",
    "except Exception:\n",
    "    pass\n",
    "\n",
    "driver = webdriver.Chrome(service=Service(ChromeDriverManager().install()))\n",
    "driver.get('https://webpricer.cms.gov/#/provider-directory/ipps')\n",
    "driver.find_element(by = By.XPATH, value = \"/html/body/div[3]/div/div/div/div/aside/a[2]\").send_keys(Keys.RETURN)\n",
    "\n",
    "ID_list = all_providers[\"Federal_Provider_Number\"].to_list()\n",
    "ID_list = [str(x) for x in ID_list]\n",
    "for i in range(len(all_providers)):\n",
    "    while(len(ID_list[i]) < 6):  \n",
    "        ID_list[i] = \"0\" + ID_list[i]\n",
    "     \n",
    "final_list = []\n",
    "df = pd.DataFrame([])\n",
    "count = 1\n",
    "l = len(ID_list)\n",
    "bad_ID = []\n",
    "\n",
    "for ID in ID_list:\n",
    "    driver.find_element(by = By.XPATH, value = \"/html/body/div[1]/section/section[2]/div[2]/div[2]/div[3]/div[2]/input\").send_keys(ID)\n",
    "    time.sleep(1)\n",
    "\n",
    "    # Since this data has provider IDs that dont return a match, the program logs and skips an ID if it does not get a response within 10 seconds\n",
    "    stop = False\n",
    "    while True:\n",
    "        try:\n",
    "            table1 = driver.find_element(by = By.XPATH, value = \"/html/body/div[1]/section/section[2]/div[2]/div[2]/div[4]/main/table/tbody/tr/td[1]/table/tbody\").text\n",
    "            stop = False\n",
    "            break\n",
    "        except Exception:\n",
    "            if stop:\n",
    "                break\n",
    "            time.sleep(10)\n",
    "            stop = True\n",
    "    if stop:\n",
    "        bad_ID.append(ID)\n",
    "        stop = False\n",
    "        count += 1\n",
    "        driver.find_element(by = By.XPATH, value = \"/html/body/div[1]/section/section[2]/div[2]/div[2]/div[3]/div[2]/input\").clear()\n",
    "        continue\n",
    "\n",
    "    stop = False\n",
    "    while True:\n",
    "        try:\n",
    "            table2 = driver.find_element(by = By.XPATH, value = \"/html/body/div[1]/section/section[2]/div[2]/div[2]/div[4]/main/table/tbody/tr/td[2]/table/tbody\").text\n",
    "            stop = False\n",
    "            break\n",
    "        except Exception:\n",
    "            if stop:\n",
    "                break\n",
    "            time.sleep(10)\n",
    "            stop = True\n",
    "    if stop:\n",
    "        bad_ID.append(ID)\n",
    "        stop = False\n",
    "        count += 1\n",
    "        driver.find_element(by = By.XPATH, value = \"/html/body/div[1]/section/section[2]/div[2]/div[2]/div[3]/div[2]/input\").clear()\n",
    "        continue\n",
    "\n",
    "    table = table1 + \"\\n\" + table2\n",
    "    provider_list = [ID]\n",
    "    for i in table.split(\"\\n\"):\n",
    "        provider_list.append(i[i.rfind(' ')+1:])\n",
    "    final_list.append(provider_list)\n",
    "    driver.find_element(by = By.XPATH, value = \"/html/body/div[1]/section/section[2]/div[2]/div[2]/div[3]/div[2]/input\").clear()\n",
    "    print(\"\\ (•◡•) /   Extracted data from Provider ID: \" + ID + \"!   \\ (•◡•) /\", end = \"  \")\n",
    "    print(\"  <<\"+str(count)+\" out of \"+str(l)+\" provider's info taken!>>\", end = \"\\r\")\n",
    "    count += 1\n",
    "    \n",
    "\n",
    "df = pd.DataFrame(final_list, columns= column_names)\n",
    "df.head(10)"
   ]
  },
  {
   "cell_type": "markdown",
   "metadata": {},
   "source": [
    "The above takes about 5 hours to run and chrome crashed after ID 365271, this is most probably just an error in the browser or my computer. Saving the data so far, then re-starting the loop from where we left off:"
   ]
  },
  {
   "cell_type": "markdown",
   "metadata": {},
   "source": [
    "Saving data from incomplete run just in case:"
   ]
  },
  {
   "cell_type": "code",
   "execution_count": 43,
   "metadata": {},
   "outputs": [
    {
     "data": {
      "text/html": [
       "<div>\n",
       "<style scoped>\n",
       "    .dataframe tbody tr th:only-of-type {\n",
       "        vertical-align: middle;\n",
       "    }\n",
       "\n",
       "    .dataframe tbody tr th {\n",
       "        vertical-align: top;\n",
       "    }\n",
       "\n",
       "    .dataframe thead th {\n",
       "        text-align: right;\n",
       "    }\n",
       "</style>\n",
       "<table border=\"1\" class=\"dataframe\">\n",
       "  <thead>\n",
       "    <tr style=\"text-align: right;\">\n",
       "      <th></th>\n",
       "      <th>ProviderID</th>\n",
       "      <th>Fiscal_year_begin_date</th>\n",
       "      <th>Report_date</th>\n",
       "      <th>Termination_Date</th>\n",
       "      <th>Waiver_code</th>\n",
       "      <th>Intermediary_number</th>\n",
       "      <th>Provider_type</th>\n",
       "      <th>Current_Census_division</th>\n",
       "      <th>Change_code_for_reclass</th>\n",
       "      <th>Actual_Geographic_MSA</th>\n",
       "      <th>...</th>\n",
       "      <th>Hospital_readmission_reduction_adjustment</th>\n",
       "      <th>Model_1_bundle_percent</th>\n",
       "      <th>Hospital_acquired_condition_(HAC)_reduction_program_participant</th>\n",
       "      <th>Uncompensated_care_amount</th>\n",
       "      <th>Electronic_health_record_(EHR)_incentive_program_reduction_indicator</th>\n",
       "      <th>Low-volume_adjustment_factor</th>\n",
       "      <th>County_code</th>\n",
       "      <th>State_code</th>\n",
       "      <th>Medicare_performance_adjustment</th>\n",
       "      <th>LTCH_DPP_indicator</th>\n",
       "    </tr>\n",
       "  </thead>\n",
       "  <tbody>\n",
       "    <tr>\n",
       "      <th>0</th>\n",
       "      <td>015009</td>\n",
       "      <td>07/01/2021</td>\n",
       "      <td>03/31/2022</td>\n",
       "      <td>--</td>\n",
       "      <td>N</td>\n",
       "      <td>05901</td>\n",
       "      <td>38</td>\n",
       "      <td>5</td>\n",
       "      <td>N</td>\n",
       "      <td>01</td>\n",
       "      <td>...</td>\n",
       "      <td>0</td>\n",
       "      <td>0</td>\n",
       "      <td>--</td>\n",
       "      <td>$0.00</td>\n",
       "      <td>--</td>\n",
       "      <td>0</td>\n",
       "      <td>--</td>\n",
       "      <td>01</td>\n",
       "      <td>0</td>\n",
       "      <td>--</td>\n",
       "    </tr>\n",
       "    <tr>\n",
       "      <th>1</th>\n",
       "      <td>015010</td>\n",
       "      <td>07/01/2021</td>\n",
       "      <td>03/31/2022</td>\n",
       "      <td>--</td>\n",
       "      <td>N</td>\n",
       "      <td>10111</td>\n",
       "      <td>38</td>\n",
       "      <td>5</td>\n",
       "      <td>--</td>\n",
       "      <td>01</td>\n",
       "      <td>...</td>\n",
       "      <td>0</td>\n",
       "      <td>0</td>\n",
       "      <td>--</td>\n",
       "      <td>$0.00</td>\n",
       "      <td>--</td>\n",
       "      <td>0</td>\n",
       "      <td>--</td>\n",
       "      <td>01</td>\n",
       "      <td>0</td>\n",
       "      <td>--</td>\n",
       "    </tr>\n",
       "    <tr>\n",
       "      <th>2</th>\n",
       "      <td>015012</td>\n",
       "      <td>10/01/2021</td>\n",
       "      <td>03/31/2022</td>\n",
       "      <td>--</td>\n",
       "      <td>N</td>\n",
       "      <td>10111</td>\n",
       "      <td>38</td>\n",
       "      <td>5</td>\n",
       "      <td>--</td>\n",
       "      <td>01</td>\n",
       "      <td>...</td>\n",
       "      <td>0</td>\n",
       "      <td>0</td>\n",
       "      <td>--</td>\n",
       "      <td>$0.00</td>\n",
       "      <td>--</td>\n",
       "      <td>0</td>\n",
       "      <td>--</td>\n",
       "      <td>01</td>\n",
       "      <td>0</td>\n",
       "      <td>--</td>\n",
       "    </tr>\n",
       "    <tr>\n",
       "      <th>3</th>\n",
       "      <td>015014</td>\n",
       "      <td>07/01/2021</td>\n",
       "      <td>03/31/2022</td>\n",
       "      <td>--</td>\n",
       "      <td>N</td>\n",
       "      <td>05901</td>\n",
       "      <td>38</td>\n",
       "      <td>5</td>\n",
       "      <td>N</td>\n",
       "      <td>1000</td>\n",
       "      <td>...</td>\n",
       "      <td>0</td>\n",
       "      <td>0</td>\n",
       "      <td>--</td>\n",
       "      <td>$0.00</td>\n",
       "      <td>--</td>\n",
       "      <td>0</td>\n",
       "      <td>--</td>\n",
       "      <td>01</td>\n",
       "      <td>0</td>\n",
       "      <td>--</td>\n",
       "    </tr>\n",
       "    <tr>\n",
       "      <th>4</th>\n",
       "      <td>015015</td>\n",
       "      <td>07/01/2021</td>\n",
       "      <td>03/31/2022</td>\n",
       "      <td>--</td>\n",
       "      <td>N</td>\n",
       "      <td>05901</td>\n",
       "      <td>38</td>\n",
       "      <td>5</td>\n",
       "      <td>N</td>\n",
       "      <td>1000</td>\n",
       "      <td>...</td>\n",
       "      <td>0</td>\n",
       "      <td>0</td>\n",
       "      <td>--</td>\n",
       "      <td>$0.00</td>\n",
       "      <td>--</td>\n",
       "      <td>0</td>\n",
       "      <td>--</td>\n",
       "      <td>01</td>\n",
       "      <td>0</td>\n",
       "      <td>--</td>\n",
       "    </tr>\n",
       "    <tr>\n",
       "      <th>5</th>\n",
       "      <td>015016</td>\n",
       "      <td>07/01/2021</td>\n",
       "      <td>03/31/2022</td>\n",
       "      <td>--</td>\n",
       "      <td>N</td>\n",
       "      <td>10111</td>\n",
       "      <td>38</td>\n",
       "      <td>5</td>\n",
       "      <td>--</td>\n",
       "      <td>3440</td>\n",
       "      <td>...</td>\n",
       "      <td>0</td>\n",
       "      <td>0</td>\n",
       "      <td>N</td>\n",
       "      <td>$0.00</td>\n",
       "      <td>--</td>\n",
       "      <td>0</td>\n",
       "      <td>--</td>\n",
       "      <td>01</td>\n",
       "      <td>0</td>\n",
       "      <td>--</td>\n",
       "    </tr>\n",
       "    <tr>\n",
       "      <th>6</th>\n",
       "      <td>015019</td>\n",
       "      <td>01/01/2021</td>\n",
       "      <td>03/31/2022</td>\n",
       "      <td>--</td>\n",
       "      <td>N</td>\n",
       "      <td>04011</td>\n",
       "      <td>38</td>\n",
       "      <td>6</td>\n",
       "      <td>--</td>\n",
       "      <td>5240</td>\n",
       "      <td>...</td>\n",
       "      <td>0</td>\n",
       "      <td>0</td>\n",
       "      <td>--</td>\n",
       "      <td>$0.00</td>\n",
       "      <td>--</td>\n",
       "      <td>0</td>\n",
       "      <td>01051</td>\n",
       "      <td>01</td>\n",
       "      <td>0</td>\n",
       "      <td>--</td>\n",
       "    </tr>\n",
       "    <tr>\n",
       "      <th>7</th>\n",
       "      <td>015023</td>\n",
       "      <td>07/01/2021</td>\n",
       "      <td>03/31/2022</td>\n",
       "      <td>--</td>\n",
       "      <td>N</td>\n",
       "      <td>10111</td>\n",
       "      <td>38</td>\n",
       "      <td>5</td>\n",
       "      <td>--</td>\n",
       "      <td>01</td>\n",
       "      <td>...</td>\n",
       "      <td>0</td>\n",
       "      <td>0</td>\n",
       "      <td>--</td>\n",
       "      <td>$0.00</td>\n",
       "      <td>--</td>\n",
       "      <td>0</td>\n",
       "      <td>--</td>\n",
       "      <td>01</td>\n",
       "      <td>0</td>\n",
       "      <td>--</td>\n",
       "    </tr>\n",
       "    <tr>\n",
       "      <th>8</th>\n",
       "      <td>015024</td>\n",
       "      <td>07/01/2021</td>\n",
       "      <td>03/31/2022</td>\n",
       "      <td>--</td>\n",
       "      <td>N</td>\n",
       "      <td>10111</td>\n",
       "      <td>38</td>\n",
       "      <td>5</td>\n",
       "      <td>--</td>\n",
       "      <td>3440</td>\n",
       "      <td>...</td>\n",
       "      <td>0</td>\n",
       "      <td>0</td>\n",
       "      <td>N</td>\n",
       "      <td>$0.00</td>\n",
       "      <td>--</td>\n",
       "      <td>0</td>\n",
       "      <td>--</td>\n",
       "      <td>01</td>\n",
       "      <td>0</td>\n",
       "      <td>--</td>\n",
       "    </tr>\n",
       "    <tr>\n",
       "      <th>9</th>\n",
       "      <td>015027</td>\n",
       "      <td>07/01/2021</td>\n",
       "      <td>03/31/2022</td>\n",
       "      <td>--</td>\n",
       "      <td>N</td>\n",
       "      <td>05901</td>\n",
       "      <td>38</td>\n",
       "      <td>5</td>\n",
       "      <td>N</td>\n",
       "      <td>5240</td>\n",
       "      <td>...</td>\n",
       "      <td>0</td>\n",
       "      <td>0</td>\n",
       "      <td>--</td>\n",
       "      <td>$0.00</td>\n",
       "      <td>--</td>\n",
       "      <td>0</td>\n",
       "      <td>--</td>\n",
       "      <td>01</td>\n",
       "      <td>0</td>\n",
       "      <td>--</td>\n",
       "    </tr>\n",
       "  </tbody>\n",
       "</table>\n",
       "<p>10 rows × 61 columns</p>\n",
       "</div>"
      ],
      "text/plain": [
       "  ProviderID Fiscal_year_begin_date Report_date Termination_Date Waiver_code  \\\n",
       "0     015009             07/01/2021  03/31/2022               --           N   \n",
       "1     015010             07/01/2021  03/31/2022               --           N   \n",
       "2     015012             10/01/2021  03/31/2022               --           N   \n",
       "3     015014             07/01/2021  03/31/2022               --           N   \n",
       "4     015015             07/01/2021  03/31/2022               --           N   \n",
       "5     015016             07/01/2021  03/31/2022               --           N   \n",
       "6     015019             01/01/2021  03/31/2022               --           N   \n",
       "7     015023             07/01/2021  03/31/2022               --           N   \n",
       "8     015024             07/01/2021  03/31/2022               --           N   \n",
       "9     015027             07/01/2021  03/31/2022               --           N   \n",
       "\n",
       "  Intermediary_number Provider_type Current_Census_division  \\\n",
       "0               05901            38                       5   \n",
       "1               10111            38                       5   \n",
       "2               10111            38                       5   \n",
       "3               05901            38                       5   \n",
       "4               05901            38                       5   \n",
       "5               10111            38                       5   \n",
       "6               04011            38                       6   \n",
       "7               10111            38                       5   \n",
       "8               10111            38                       5   \n",
       "9               05901            38                       5   \n",
       "\n",
       "  Change_code_for_reclass Actual_Geographic_MSA  ...  \\\n",
       "0                       N                    01  ...   \n",
       "1                      --                    01  ...   \n",
       "2                      --                    01  ...   \n",
       "3                       N                  1000  ...   \n",
       "4                       N                  1000  ...   \n",
       "5                      --                  3440  ...   \n",
       "6                      --                  5240  ...   \n",
       "7                      --                    01  ...   \n",
       "8                      --                  3440  ...   \n",
       "9                       N                  5240  ...   \n",
       "\n",
       "  Hospital_readmission_reduction_adjustment Model_1_bundle_percent  \\\n",
       "0                                         0                      0   \n",
       "1                                         0                      0   \n",
       "2                                         0                      0   \n",
       "3                                         0                      0   \n",
       "4                                         0                      0   \n",
       "5                                         0                      0   \n",
       "6                                         0                      0   \n",
       "7                                         0                      0   \n",
       "8                                         0                      0   \n",
       "9                                         0                      0   \n",
       "\n",
       "  Hospital_acquired_condition_(HAC)_reduction_program_participant  \\\n",
       "0                                                 --                \n",
       "1                                                 --                \n",
       "2                                                 --                \n",
       "3                                                 --                \n",
       "4                                                 --                \n",
       "5                                                  N                \n",
       "6                                                 --                \n",
       "7                                                 --                \n",
       "8                                                  N                \n",
       "9                                                 --                \n",
       "\n",
       "  Uncompensated_care_amount  \\\n",
       "0                     $0.00   \n",
       "1                     $0.00   \n",
       "2                     $0.00   \n",
       "3                     $0.00   \n",
       "4                     $0.00   \n",
       "5                     $0.00   \n",
       "6                     $0.00   \n",
       "7                     $0.00   \n",
       "8                     $0.00   \n",
       "9                     $0.00   \n",
       "\n",
       "  Electronic_health_record_(EHR)_incentive_program_reduction_indicator  \\\n",
       "0                                                 --                     \n",
       "1                                                 --                     \n",
       "2                                                 --                     \n",
       "3                                                 --                     \n",
       "4                                                 --                     \n",
       "5                                                 --                     \n",
       "6                                                 --                     \n",
       "7                                                 --                     \n",
       "8                                                 --                     \n",
       "9                                                 --                     \n",
       "\n",
       "  Low-volume_adjustment_factor County_code State_code  \\\n",
       "0                            0          --         01   \n",
       "1                            0          --         01   \n",
       "2                            0          --         01   \n",
       "3                            0          --         01   \n",
       "4                            0          --         01   \n",
       "5                            0          --         01   \n",
       "6                            0       01051         01   \n",
       "7                            0          --         01   \n",
       "8                            0          --         01   \n",
       "9                            0          --         01   \n",
       "\n",
       "  Medicare_performance_adjustment LTCH_DPP_indicator  \n",
       "0                               0                 --  \n",
       "1                               0                 --  \n",
       "2                               0                 --  \n",
       "3                               0                 --  \n",
       "4                               0                 --  \n",
       "5                               0                 --  \n",
       "6                               0                 --  \n",
       "7                               0                 --  \n",
       "8                               0                 --  \n",
       "9                               0                 --  \n",
       "\n",
       "[10 rows x 61 columns]"
      ]
     },
     "execution_count": 43,
     "metadata": {},
     "output_type": "execute_result"
    }
   ],
   "source": [
    "df = pd.DataFrame(final_list, columns= column_names)\n",
    "df.head(10)"
   ]
  },
  {
   "cell_type": "code",
   "execution_count": 44,
   "metadata": {},
   "outputs": [],
   "source": [
    "df.to_csv(\"All_provider_9681.csv\")"
   ]
  },
  {
   "cell_type": "code",
   "execution_count": 17,
   "metadata": {},
   "outputs": [
    {
     "name": "stdout",
     "output_type": "stream",
     "text": [
      "['050137', '01/01/2022', '03/31/2022', '--', 'N', '01911', '07', '9', '--', '0000', '0000', '0000', '--', '--', '--', '--', '$2,788.67', '1', '0.0114', '183', '0.338', '1.3803', '0.0871', '0.1659', '--', '--', '--', '12/31/2016', '--', 'Y', '1', '31084', '37100', '05', '$3.78', '--', '$3.78', '--', 'C', '384.57', '0', '0', '0.008', '--', '0.0233', '0', '--', '--', 'N', '0', '1', '1', '0', 'N', '$4,029.72', '--', '0', '06037', '05', '0', '--']\n"
     ]
    }
   ],
   "source": [
    "for i in range(len(final_list)):\n",
    "    if len(final_list[i]) != 61:\n",
    "        final_list[i] = final_list[i][:61] \n",
    "        print(final_list[i])\n",
    "\n"
   ]
  },
  {
   "cell_type": "code",
   "execution_count": 42,
   "metadata": {},
   "outputs": [
    {
     "name": "stdout",
     "output_type": "stream",
     "text": [
      "['01A193', '01A208', '04A158', '04A293', '04E090', '05A021', '05A024', '05A027', '05A109', '05A110', '05A134', '05A137', '05A147', '05A164', '05A183', '05A192', '05A208', '05A263', '05A264', '05A269', '05A277', '05A290', '05A292', '05A315', '05A331', '05A340', '05A355', '05A357', '05A360', '05A364', '05A371', '05A396', '05A397', '05A408', '05A427', '06A088', '06A171', '06A172', '06A173', '06A175', '06A185', '06A190', '06A192', '06A196', '08A006', '08A011', '08A015', '08A020', '09E020', '106110', '11A186', '11A200', '14A057', '14A357', '14A383', '14A453', '14A539', '14E095', '14E169', '14E177', '14E212', '14E247', '14E264', '14E306', '14E322', '14E345', '14E361', '14E392', '14E579', '14E701', '14E812', '14E847', '14E848', '14E888', '15A011', '15E064', '15E247', '15E667', '15E681', '15E683', '165788', '16A001', '16A002', '16E016', '16E050', '16E071', '16E170', '16E176', '16E263', '16E277', '16E637', '16E638', '16E668', '16E718', '16E728', '16E756', '16F001', '16F002', '17A020', '17A029', '17E011', '17E026', '17E034', '17E038', '17E071', '17E183', '17E197', '17E210', '17E242', '17E256', '17E294', '17E356', '17E424', '17E445', '17E451', '17E470', '17E473', '17E488', '17E528', '17E531', '17E534', '17E546', '17E577', '17E580', '17E585', '17E589', '17E591', '17E597', '17E619', '17E625', '17E630', '17E637', '17E658', '21E009', '21E104', '22A345', '23E104', '23E281', '23E362', '24E102', '24E116', '24E150', '24E166', '24E185', '24E355', '24E507', '24E508', '25A123', '25A162', '25A174', '25A178', '25A188', '25A190', '25A197', '25A233', '25A374', '25A380', '25A381', '25A389', '25A402', '25A404', '25A414', '25A416', '25A418', '25A422', '25E015', '25E115', '26A206', '26A269', '26A292', '26A293', '26A378', '26A381', '26A443', '26A469', '26A484', '26A490', '26E084', '26E256', '27A052', '28A060', '28A065', '28E173', '28E175', '28E180', '28E191', '28E199', '28E257', '28E271', '28E299', '28E300', '28E301', '29E021', '29E037', '30E059', '30E062', '30E076', '32E027', '32E032', '335563', '33A081', '33A246', '34A001', '34A002', '365272']\n"
     ]
    }
   ],
   "source": [
    "print(bad_ID)\n",
    "df_error = pd.DataFrame(bad_ID)\n",
    "df_error.to_csv(\"Bad_IDs_9681.csv\")"
   ]
  },
  {
   "cell_type": "markdown",
   "metadata": {},
   "source": [
    "Continuing the loop:"
   ]
  },
  {
   "cell_type": "code",
   "execution_count": null,
   "metadata": {},
   "outputs": [],
   "source": [
    "# one hour for ~3000 provider ID_s\n",
    "\n",
    "# Changing the data to all the providers\n",
    "# inpatient = pd.read_csv(r\"C:\\Users\\email\\OneDrive\\Documents\\Python\\Web-Scraping\\Medicare CCN Inpatient Facility.csv\")\n",
    "\n",
    "#all_providers = pd.read_csv(r\"C:\\Users\\email\\OneDrive\\Documents\\Python\\Web-Scraping\\Federal_provider_numbers.csv\")\n",
    "\n",
    "try:\n",
    "    driver.close()\n",
    "except Exception:\n",
    "    pass\n",
    "\n",
    "driver = webdriver.Chrome(service=Service(ChromeDriverManager().install()))\n",
    "driver.get('https://webpricer.cms.gov/#/provider-directory/ipps')\n",
    "driver.find_element(by = By.XPATH, value = \"/html/body/div[3]/div/div/div/div/aside/a[2]\").send_keys(Keys.RETURN)\n",
    "\n",
    "# ID_list = all_providers[\"Federal_Provider_Number\"].to_list()\n",
    "# ID_list = [str(x) for x in ID_list]\n",
    "# for i in range(len(all_providers)):\n",
    "#     while(len(ID_list[i]) < 6):  \n",
    "#         ID_list[i] = \"0\" + ID_list[i]\n",
    "     \n",
    "# final_list = []\n",
    "# df = pd.DataFrame([])\n",
    "count = 9681\n",
    "# l = len(ID_list)\n",
    "# bad_ID = []\n",
    "\n",
    "for ID in ID_list:\n",
    "    driver.find_element(by = By.XPATH, value = \"/html/body/div[1]/section/section[2]/div[2]/div[2]/div[3]/div[2]/input\").send_keys(ID)\n",
    "    time.sleep(1)\n",
    "\n",
    "    stop = False\n",
    "    while True:\n",
    "        try:\n",
    "            table1 = driver.find_element(by = By.XPATH, value = \"/html/body/div[1]/section/section[2]/div[2]/div[2]/div[4]/main/table/tbody/tr/td[1]/table/tbody\").text\n",
    "            stop = False\n",
    "            break\n",
    "        except Exception:\n",
    "            if stop:\n",
    "                break\n",
    "            time.sleep(10)\n",
    "            stop = True\n",
    "    if stop:\n",
    "        bad_ID.append(ID)\n",
    "        stop = False\n",
    "        count += 1\n",
    "        driver.find_element(by = By.XPATH, value = \"/html/body/div[1]/section/section[2]/div[2]/div[2]/div[3]/div[2]/input\").clear()\n",
    "        continue\n",
    "\n",
    "    stop = False\n",
    "    while True:\n",
    "        try:\n",
    "            table2 = driver.find_element(by = By.XPATH, value = \"/html/body/div[1]/section/section[2]/div[2]/div[2]/div[4]/main/table/tbody/tr/td[2]/table/tbody\").text\n",
    "            stop = False\n",
    "            break\n",
    "        except Exception:\n",
    "            if stop:\n",
    "                break\n",
    "            time.sleep(10)\n",
    "            stop = True\n",
    "    if stop:\n",
    "        bad_ID.append(ID)\n",
    "        stop = False\n",
    "        count += 1\n",
    "        driver.find_element(by = By.XPATH, value = \"/html/body/div[1]/section/section[2]/div[2]/div[2]/div[3]/div[2]/input\").clear()\n",
    "        continue\n",
    "\n",
    "    table = table1 + \"\\n\" + table2\n",
    "    provider_list = [ID]\n",
    "    for i in table.split(\"\\n\"):\n",
    "        provider_list.append(i[i.rfind(' ')+1:])\n",
    "    final_list.append(provider_list)\n",
    "    driver.find_element(by = By.XPATH, value = \"/html/body/div[1]/section/section[2]/div[2]/div[2]/div[3]/div[2]/input\").clear()\n",
    "    print(\"\\ (•◡•) /   Extracted data from Provider ID: \" + ID + \"!   \\ (•◡•) /\", end = \"  \")\n",
    "    print(\"  <<\"+str(count)+\" out of \"+str(l)+\" provider's info taken!>>\", end = \"\\r\")\n",
    "    count = count + 1\n",
    "\n",
    "df2 = pd.DataFrame(final_list, columns= column_names)\n",
    "df2.head(10)"
   ]
  },
  {
   "cell_type": "markdown",
   "metadata": {},
   "source": [
    "One of the entries has 91 columns instead of 61, I think this happened because I accidentally resized the window during the runtime and it changed the html while it was being read.\n",
    "Luckily, the first 61 columns are exactly what they should be and we can simply ditch the extra columns and proceed:"
   ]
  },
  {
   "cell_type": "code",
   "execution_count": 52,
   "metadata": {},
   "outputs": [
    {
     "name": "stdout",
     "output_type": "stream",
     "text": [
      "13402\n",
      "['535022', '07/01/2021', '03/31/2022', '--', 'N', '03001', '38', '0', '--', '53', '--', '--', '--', '--', '--', '4', '$207.27', '1', '--', '160', '0', '--', '0', '0', '--', '--', '--', '06/30/2010', '--', '--', '1', '53', '--', '--', '$0.00', '--', '--', '--', '--', '0', '0', '0', '0', '--', '--', '0', '--', '--', 'N', '0.992', '0', '0', '0', '--', '$0.00', '--', '0', '--', '53', '0', '--', '53', '--', '--', '$0.00', '--', '--', '--', '--', '0', '0', '0', '0', '--', '--', '0', '--', '--', 'N', '0.992', '0', '0', '0', '--', '$0.00', '--', '0', '--', '53', '0', '--']\n",
      "91\n"
     ]
    }
   ],
   "source": [
    "for i in range(len(final_list)):\n",
    "    if len(final_list[i]) != 61:\n",
    "        print(i)\n",
    "\n",
    "# output was 13402\n",
    "\n",
    "print(final_list[13402])\n",
    "print(len(final_list[13402]))\n"
   ]
  },
  {
   "cell_type": "code",
   "execution_count": 53,
   "metadata": {},
   "outputs": [],
   "source": [
    "final_list[13402] = final_list[13402][1:61]"
   ]
  },
  {
   "cell_type": "code",
   "execution_count": 54,
   "metadata": {},
   "outputs": [
    {
     "name": "stdout",
     "output_type": "stream",
     "text": [
      "(14918, 61)\n"
     ]
    }
   ],
   "source": [
    "\n",
    "df2 = pd.DataFrame(final_list, columns= column_names)\n",
    "print(df2.shape)"
   ]
  },
  {
   "cell_type": "markdown",
   "metadata": {},
   "source": [
    "Check if all entries are accounted for:"
   ]
  },
  {
   "cell_type": "code",
   "execution_count": 60,
   "metadata": {},
   "outputs": [
    {
     "name": "stdout",
     "output_type": "stream",
     "text": [
      "There exist -1 unaccounted IDs\n",
      "14918 + 307 = 15225, should be 15224\n",
      "\n"
     ]
    }
   ],
   "source": [
    "if df2.shape[0] + len(bad_ID) == len(all_providers[\"Federal_Provider_Number\"].to_list()):\n",
    "    print(\"All Provider IDs accounted for!\")\n",
    "else:\n",
    "    print(\"There exist \"+str(len(all_providers[\"Federal_Provider_Number\"].to_list()) - (df2.shape[0] + len(bad_ID))) +\" unaccounted IDs\")\n",
    "    print(df2.shape[0], end = \" + \")\n",
    "    print(len(bad_ID), end = \" = \"+str(df2.shape[0] + len(bad_ID))+\", should be \"+str(len(all_providers[\"Federal_Provider_Number\"].to_list()))+\"\\n\")\n",
    "    print()"
   ]
  },
  {
   "cell_type": "markdown",
   "metadata": {},
   "source": [
    "We have an extra entry, probably repeated the row that we stopped on then restarted from. Checking to see where the duplicate was:"
   ]
  },
  {
   "cell_type": "code",
   "execution_count": 62,
   "metadata": {},
   "outputs": [
    {
     "name": "stdout",
     "output_type": "stream",
     "text": [
      "365272 in final and bad\n"
     ]
    }
   ],
   "source": [
    "uniq = []\n",
    "for i in final_list:\n",
    "    if i[0] not in uniq:\n",
    "        uniq.append(i[0])\n",
    "    else:\n",
    "        print(i)\n",
    "\n",
    "uniq2 = []\n",
    "for i in bad_ID:\n",
    "    if i in uniq:\n",
    "        print(i + \" in final and bad\")\n",
    "    if i in uniq2: \n",
    "        print(i + \" occurs twice in bad\")\n",
    "    if i not in uniq2:\n",
    "        uniq2.append(i)\n"
   ]
  },
  {
   "cell_type": "markdown",
   "metadata": {},
   "source": [
    "The problematic entry (ID:365272) was the one which the loop stopped on when Chrome crashed. We can see the extra entry was created by this accidentally being added to the bad IDs.\n",
    "\n",
    "Removing the bad entry and saving the final data:"
   ]
  },
  {
   "cell_type": "code",
   "execution_count": null,
   "metadata": {},
   "outputs": [],
   "source": [
    "# Put in a separate block because it can only be run once\n",
    "bad_ID.remove(\"365272\")"
   ]
  },
  {
   "cell_type": "markdown",
   "metadata": {},
   "source": [
    "Change the -- entries used to represent the missing values to empty strings: "
   ]
  },
  {
   "cell_type": "code",
   "execution_count": 80,
   "metadata": {},
   "outputs": [],
   "source": [
    "for i in range(len(final_list)):\n",
    "    for j in range(len(final_list[i])):\n",
    "        if final_list[i][j] == \"--\":\n",
    "            final_list[i][j] = \"\""
   ]
  },
  {
   "cell_type": "code",
   "execution_count": 81,
   "metadata": {},
   "outputs": [],
   "source": [
    "pd.DataFrame(final_list, columns = column_names).to_csv(\"CMS_provider_directory_all.csv\")\n",
    "pd.DataFrame(bad_ID, columns = [\"Bad_IDs\"]).to_csv(\"CMS_provider_directory_all_bad_IDs.csv\")"
   ]
  },
  {
   "cell_type": "markdown",
   "metadata": {},
   "source": [
    "### Ignore the following blocks: "
   ]
  },
  {
   "cell_type": "markdown",
   "metadata": {},
   "source": [
    "On observing the CSV, we can see that bad_ID used numerical values rather than strings and ended up using scientific notation. We can fix this as we can get the bad values by seeing which values from the original CSV are not present in final_list:  "
   ]
  },
  {
   "cell_type": "code",
   "execution_count": null,
   "metadata": {},
   "outputs": [],
   "source": [
    "new_bad_ID = []\n",
    "full = all_providers[\"Federal_Provider_Number\"].to_list()\n",
    "full = [str(x) for x in full]\n",
    "print(full)\n",
    "\n",
    "final_IDs = []\n",
    "for i in final_list:\n",
    "    final_IDs.append(i[0])\n",
    "\n",
    "for i in full:\n",
    "    if i not in final_IDs:\n",
    "        new_bad_ID.append(i)\n",
    "\n",
    "pd.DataFrame(new_bad_ID, columns = [\"Bad_IDs\"]).to_csv(\"CMS_provider_directory_all_bad_IDs.csv\")"
   ]
  }
 ],
 "metadata": {
  "kernelspec": {
   "display_name": "Python 3.9.7 ('base')",
   "language": "python",
   "name": "python3"
  },
  "language_info": {
   "codemirror_mode": {
    "name": "ipython",
    "version": 3
   },
   "file_extension": ".py",
   "mimetype": "text/x-python",
   "name": "python",
   "nbconvert_exporter": "python",
   "pygments_lexer": "ipython3",
   "version": "3.9.7"
  },
  "orig_nbformat": 4,
  "vscode": {
   "interpreter": {
    "hash": "f96c0a065a6f038b4d81e02ec5e62503dd3b71442db074018719e130d8db16de"
   }
  }
 },
 "nbformat": 4,
 "nbformat_minor": 2
}
