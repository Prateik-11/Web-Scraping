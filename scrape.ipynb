{
 "cells": [
  {
   "cell_type": "markdown",
   "metadata": {},
   "source": [
    "# Web Scraping to Build a Database of Hospital Safety Grades\n",
    "\n",
    "hospitalsafetygrade.org returns a list of hospitals by:\n",
    " - City\n",
    " - State\n",
    " - ZIP code\n",
    " - Hospital Name\n",
    "For ZIP codes, we get all the entries within 5/10/50/100/200 miles, which we can specify. They are sorted by distance.\n",
    "\n",
    "There are approximately 44,000 five-digit ZIP codes in use in the U.S. With the area of the U.S. at 3,618,780 sq miles, that makes the average land area per ZIP code about 82.25 sq miles. A radius of 50 miles would cover such an area most efficiently out of the options we have. \n",
    "It should be noted that ZIP codes are based on population, not geography. This estimate could produce highly inaccurate results for some ZIP codes, but we have to start somewhere, and this number can easily be modified later."
   ]
  },
  {
   "cell_type": "markdown",
   "metadata": {},
   "source": [
    "To begin, we're attempting to get the HTML of a single page:\n",
    " \n",
    "Using `requests` library in python to retrieve HTML:"
   ]
  },
  {
   "cell_type": "code",
   "execution_count": null,
   "metadata": {},
   "outputs": [],
   "source": [
    "import requests\n",
    "\n",
    "URL = \"https://www.hospitalsafetygrade.org/search?findBy=zip&zip_code=90095&radius=50&city=&state_prov=&hospital=\"\n",
    "page = requests.get(URL)\n",
    "\n",
    "print(page.text)"
   ]
  },
  {
   "cell_type": "markdown",
   "metadata": {},
   "source": [
    "The entire HTML output produces by the above is too large to find information by parsing/regex.\n",
    "\n",
    "Attempting to isolate the portion we need:"
   ]
  },
  {
   "cell_type": "code",
   "execution_count": null,
   "metadata": {},
   "outputs": [],
   "source": [
    "from bs4 import BeautifulSoup\n",
    "\n",
    "page = requests.get(URL)\n",
    "soup = BeautifulSoup(page.content, \"html.parser\")\n",
    "results = soup.find(id=\"SearchResults\")\n",
    "print(results)"
   ]
  },
  {
   "cell_type": "markdown",
   "metadata": {},
   "source": [
    "The above output indicates that the search results were empty and no results were found. We can see by going to the website that this is not the case, and the HTML from the request does not reflect the HTML on the website. This is characteristic of a web page that loads an initial incomplete page then refreshes to update its information. This can be handled by interpreting the logic used to update the page, (see: https://stackoverflow.com/questions/59727663/why-request-get-returning-wrong-page-content) but this process seems too complicated.  "
   ]
  },
  {
   "cell_type": "markdown",
   "metadata": {},
   "source": [
    "The `Selenium` package is used to obtain HTML info from dynamic websites, using that instead:"
   ]
  },
  {
   "cell_type": "code",
   "execution_count": 16,
   "metadata": {},
   "outputs": [],
   "source": [
    "from selenium import webdriver\n",
    "from selenium.webdriver.common.keys import Keys\n",
    "from selenium.webdriver.chrome.service import Service\n",
    "from webdriver_manager.chrome import ChromeDriverManager\n",
    "from selenium.webdriver.common.by import By\n",
    "import pandas as pd\n",
    "\n",
    "driver = webdriver.Chrome(service=Service(ChromeDriverManager().install()))"
   ]
  },
  {
   "cell_type": "markdown",
   "metadata": {},
   "source": [
    "Retrieving the page we want to scrape:"
   ]
  },
  {
   "cell_type": "code",
   "execution_count": 18,
   "metadata": {},
   "outputs": [],
   "source": [
    "driver.get('https://www.hospitalsafetygrade.org/search?findBy=zip&zip_code=90024&radius=50&city=&state_prov=&hospital=')"
   ]
  },
  {
   "cell_type": "markdown",
   "metadata": {},
   "source": [
    "Attempting to get the HTML of the search results by matching their class names from their divs:"
   ]
  },
  {
   "cell_type": "code",
   "execution_count": 23,
   "metadata": {},
   "outputs": [
    {
     "name": "stdout",
     "output_type": "stream",
     "text": [
      "[]\n"
     ]
    }
   ],
   "source": [
    "# fifty_closest = driver.find_elements_by_xpath('//td[@class=\"itemWrapper leapfrogSearchResult\"]') <- DEPRECATED\n",
    "fifty_closest = driver.find_elements(by = By.CLASS_NAME, value = 'itemWrapper leapfrogSearchResult')\n",
    "print(fifty_closest)"
   ]
  },
  {
   "cell_type": "markdown",
   "metadata": {},
   "source": [
    "The above produced an empty list. Checking to see if the retrieved HTML is accurate:\n",
    "\n",
    "Print full HTML of page:"
   ]
  },
  {
   "cell_type": "code",
   "execution_count": null,
   "metadata": {},
   "outputs": [],
   "source": [
    "print(driver.page_source)"
   ]
  },
  {
   "cell_type": "markdown",
   "metadata": {},
   "source": [
    "The HTML matches what we expect. On further experimenting it seems the initial search failed because the class names can only be matched for outermost elements, i.e., not for nested elements.\n",
    "\n",
    "A better way to isolate elements is using their XPath, which is analagous to the path used in file systems. It can be obtained for any element on a page with the following steps:\n",
    " - Right click on the element\n",
    " - Select \"Inspect\"\n",
    " - A console containing HTML appears, click on the 3 dots to the left of the line, hover over \"Copy\" and select \"Copy full XPath\"\n",
    " "
   ]
  },
  {
   "cell_type": "code",
   "execution_count": 28,
   "metadata": {},
   "outputs": [
    {
     "name": "stdout",
     "output_type": "stream",
     "text": [
      "100\n"
     ]
    }
   ],
   "source": [
    "test_list = driver.find_elements(by = By.XPATH, value = \"/html/body/div[1]/div/section[3]/div[3]/div\")\n",
    "print(len(test_list))"
   ]
  },
  {
   "cell_type": "code",
   "execution_count": 29,
   "metadata": {},
   "outputs": [
    {
     "name": "stdout",
     "output_type": "stream",
     "text": [
      "Cedars-Sinai Medical Center\n",
      "8700 Beverly Boulevard\n",
      "Los Angeles, CA 90048-1865\n",
      "View the full Score\n",
      "This Hospital's Grade\n",
      "SPRING 2022\n"
     ]
    }
   ],
   "source": [
    "print(test_list[1].text)"
   ]
  },
  {
   "cell_type": "code",
   "execution_count": 40,
   "metadata": {},
   "outputs": [
    {
     "name": "stdout",
     "output_type": "stream",
     "text": [
      "<div class=\"itemWrapper leapfrogSearchResult\" data-lat=\"34.075153\" data-lon=\"-118.3802766\" data-distance=\"3.1484841626973\" data-grade=\"c\" data-slug=\"cedars-sinai-medical-center\" data-name=\"Cedars-Sinai Medical Center\" style=\"\">\n",
      "        <div class=\"detailWrapper\">\n",
      "            <div class=\"name\">\n",
      "                <a data-details-link=\"\" href=\"/h/cedars-sinai-medical-center\">Cedars-Sinai Medical Center</a>\n",
      "            </div>\n",
      "            <div class=\"address\">\n",
      "                8700 Beverly Boulevard<br>\n",
      "                Los Angeles, CA 90048-1865\n",
      "            </div>\n",
      "            <div class=\"readmore\">\n",
      "                <a data-details-link=\"\" href=\"/h/cedars-sinai-medical-center\">View the full Score</a>\n",
      "            </div>\n",
      "        </div>\n",
      "        <div class=\"gradeWrapper grade-c\">\n",
      "            <div class=\"title\">\n",
      "                This Hospital's Grade\n",
      "            </div>\n",
      "            <div class=\"grade\">\n",
      "                 <a data-details-link=\"\" href=\"/h/cedars-sinai-medical-center\"><img src=\"/media/image/hss-grade-c-2016.png\" alt=\"Grade c\"></a>\n",
      "            </div>\n",
      "            <div class=\"date\">\n",
      "                Spring 2022 \n",
      "            </div>\n",
      "        </div>\n",
      "    </div>\n"
     ]
    }
   ],
   "source": [
    "print(test_list[1].get_attribute('outerHTML'))"
   ]
  },
  {
   "cell_type": "markdown",
   "metadata": {},
   "source": [
    "We now retrieved the information we needed and simply have to process it and add it to a dataframe"
   ]
  },
  {
   "cell_type": "markdown",
   "metadata": {},
   "source": [
    "https://www.hospitalsafetygrade.org/search?findBy=state&zip_code=&city=&state_prov=CA&hospital="
   ]
  },
  {
   "cell_type": "code",
   "execution_count": null,
   "metadata": {},
   "outputs": [],
   "source": [
    "driver = webdriver.Chrome(service=Service(ChromeDriverManager().install()))\n",
    "driver.get('https://www.hospitalsafetygrade.org/search?findBy=state&zip_code=&city=&state_prov=CA&hospital=')\n",
    "state_list = driver.find_elements(by = By.XPATH, value = \"/html/body/div[1]/div/section[3]/div[3]/div\")\n",
    "print(len(state_list))"
   ]
  },
  {
   "cell_type": "code",
   "execution_count": 54,
   "metadata": {},
   "outputs": [
    {
     "name": "stdout",
     "output_type": "stream",
     "text": [
      "<div class=\"itemWrapper leapfrogSearchResult\" data-lat=\"34.1503596\" data-lon=\"-118.2300566\" data-distance=\"7810.2623225566\" data-grade=\"a\" data-slug=\"adventist-health-glendale\" data-name=\"Adventist Health Glendale\" style=\"\">\n",
      "        <div class=\"detailWrapper\">\n",
      "            <div class=\"name\">\n",
      "                <a data-details-link=\"\" href=\"/h/adventist-health-glendale\">Adventist Health Glendale</a>\n",
      "            </div>\n",
      "            <div class=\"address\">\n",
      "                1509 Wilson Terrace<br>\n",
      "                Glendale, CA 91206-4098\n",
      "            </div>\n",
      "            <div class=\"readmore\">\n",
      "                <a data-details-link=\"\" href=\"/h/adventist-health-glendale\">View the full Score</a>\n",
      "            </div>\n",
      "        </div>\n",
      "        <div class=\"gradeWrapper grade-a\">\n",
      "            <div class=\"title\">\n",
      "                This Hospital's Grade\n",
      "            </div>\n",
      "            <div class=\"grade\">\n",
      "                 <a data-details-link=\"\" href=\"/h/adventist-health-glendale\"><img src=\"/media/image/hss-grade-a-2016.png\" alt=\"Grade a\"></a>\n",
      "            </div>\n",
      "            <div class=\"date\">\n",
      "                Spring 2022 \n",
      "            </div>\n",
      "        </div>\n",
      "    </div>\n"
     ]
    }
   ],
   "source": [
    "print(state_list[1].get_attribute('outerHTML'))\n"
   ]
  },
  {
   "cell_type": "code",
   "execution_count": 56,
   "metadata": {},
   "outputs": [
    {
     "name": "stdout",
     "output_type": "stream",
     "text": [
      "Adventist Health Glendale\n",
      "1509 Wilson Terrace\n",
      "Glendale, CA 91206-4098\n",
      "View the full Score\n",
      "This Hospital's Grade\n",
      "SPRING 2022\n"
     ]
    }
   ],
   "source": [
    "print(state_list[1].text)"
   ]
  },
  {
   "cell_type": "code",
   "execution_count": 61,
   "metadata": {},
   "outputs": [],
   "source": [
    "import re"
   ]
  },
  {
   "cell_type": "code",
   "execution_count": 79,
   "metadata": {},
   "outputs": [
    {
     "name": "stdout",
     "output_type": "stream",
     "text": [
      "['Adventist Health - Bakersfield', '2615 Chester Avenue, Bakersfield, CA 93301-2006', '35.3833475', '-119.0205429', '7827.7829684579', 'a']\n",
      "['Adventist Health Glendale', '1509 Wilson Terrace, Glendale, CA 91206-4098', '34.1503596', '-118.2300566', '7810.2623225566', 'a']\n",
      "['Adventist Health Hanford', '115 Mall Drive, Hanford, CA 93230-3513', '36.3237872', '-119.6664466', '7841.8158676335', 'a']\n",
      "['Adventist Health Reedley', '372 W. Cypress Avenue, Reedley, CA 93654-2199', '36.6080787', '-119.4517641', '7824.2385162694', 'a']\n",
      "['Adventist Health Selma', '1141 Rose Avenue, Selma, CA 93662', '36.5676997', '-119.5991582', '7832.87803033', 'a']\n",
      "['Adventist Health St. Helena', '10 Woodland Road, St. Helena, CA 94574-9554', '38.5425501', '-122.4748268', '7933.7326975683', 'a']\n",
      "['Adventist Health Ukiah Valley', '275 Hospital Drive, Ukiah, CA 95482-4531', '39.1531894', '-123.2030161', '7954.2195129498', 'a']\n",
      "['Alhambra Hospital Medical Center', '100 S. Raymond Avenue, Alhambra, CA 91801-3199', '34.090234', '-118.1439896', '7806.7438267443', 'a']\n",
      "['Arroyo Grande Community Hospital', '345 S. Halcyon Road, Arroyo Grande, CA 93420-3899', '35.1134961', '-120.5904213', '7917.7341289284', 'a']\n",
      "['Barton Memorial Hospital', '2170 South Avenue, South Lake Tahoe, CA 96150-7026', '38.911636', '-119.9977995', '7799.8655316342', 'a']\n",
      "['Centinela Hospital Medical Center', '555 E. Hardy Street, Inglewood, CA 90301-4011', '33.9507827', '-118.3482572', '7820.7193640196', 'a']\n",
      "['Chino Valley Medical Center', '5451 Walnut Avenue, Chino, CA 91710-2672', '34.0255174', '-117.6858572', '7782.8758834904', 'a']\n",
      "['Community Hospital of the Monterey Peninsula', '23625 Holman Highway, Monterey, CA 93940', '36.5788637', '-121.9131591', '7953.6267927996', 'a']\n",
      "['Desert Valley Hospital', '16850 Bear Valley Road, Victorville, CA 92395', '34.4717272', '-117.2977603', '7752.9405515691', 'a']\n",
      "['Eisenhower Medical Center', '39000 Bob Hope Drive, Rancho Mirage, CA 92270-3221', '33.7629019', '-116.40063', '7716.9543776663', 'a']\n",
      "['El Camino Hospital', '2500 Grant Road, Mountain View, CA 94040', '37.3693389', '-122.080472', '7943.0603395962', 'a']\n",
      "['Encino Hospital Medical Center', '16237 Ventura Boulevard, Encino, CA 91436-2201', '34.1575872', '-118.4870689', '7824.1804476421', 'a']\n",
      "['Enloe Medical Center', '1531 Esplanade, Chico, CA 95926-3386', '39.7421399', '-121.8501891', '7872.0471086138', 'a']\n",
      "['French Hospital Medical Center', '1911 Johnson Avenue, San Luis Obispo, CA 93401-4131', '35.2781709', '-120.6511558', '7917.3060153103', 'a']\n",
      "['Garden Grove Hospital and Medical Center', '12601 Garden Grove Boulevard, Garden Grove, CA 92843', '33.7749125', '-117.9129403', '7800.2537010675', 'a']\n",
      "['Garfield Medical Center', '525 N. Garfield Avenue, Monterey Park, CA 91754-1205', '34.0678947', '-118.1238043', '7806.0803056594', 'a']\n",
      "['Goleta Valley Cottage Hospital', '351 S. Patterson Avenue, Goleta, CA 93111-2496', '34.4338579', '-119.8103152', '7890.5109062758', 'a']\n",
      "['Hoag Hospital Irvine', '16200 Sand Canyon Avenue, Irvine, CA 92618', '33.6608946', '-117.7722362', '7794.7107921359', 'a']\n",
      "['Hoag Memorial Hospital Presbyterian', '1 Hoag Drive, Newport Beach, CA 92663', '33.6254053', '-117.9303047', '7804.1252150335', 'a']\n",
      "['John Muir Medical Center Walnut Creek Campus', '1601 Ygnacio Valley Road, Walnut Creek, CA 94598-3194', '37.9130871', '-122.0408542', '7927.6142323479', 'a']\n",
      "['Kaiser Foundation Hospital - Antioch', '4501 Sand Creek Road, Antioch, CA 94531-8687', '37.9508418', '-121.7749286', '7913.1479022267', 'a']\n",
      "['Kaiser Foundation Hospital - Fremont', '39400 Paseo Padre Parkway, Fremont, CA 94538-2310', '37.5524244', '-121.974401', '7933.1253962224', 'a']\n",
      "['Kaiser Foundation Hospital - Fresno', '7300 N. Fresno Ave., Fresno, CA 93720-2941', '36.8423418', '-119.7804757', '7836.2638899541', 'a']\n",
      "['Kaiser Foundation Hospital - Manteca', '1777 W. Yosemite Avenue, Manteca, CA 95337-5130', '37.79803', '-121.246197', '7889.8798802669', 'a']\n",
      "['Kaiser Foundation Hospital - Modesto', '4601 Dale Road, Modesto, CA 95356-9718', '37.7065812', '-121.0524993', '7882.1491565899', 'a']\n",
      "['Kaiser Foundation Hospital - Redwood City', '1100 Veterans Boulevard, Redwood City, CA 94063-2037', '37.4891185', '-122.2251548', '7947.5221703636', 'a']\n",
      "['Kaiser Foundation Hospital - Roseville', '1600 Eureka Road, Roseville, CA 95661-3027', '38.7474074', '-121.2506572', '7867.0303731794', 'a']\n",
      "['Kaiser Foundation Hospital - San Francisco', '2425 Geary Boulevard, San Francisco, CA 94115-3358', '37.7823277', '-122.4432896', '7951.350428999', 'a']\n",
      "['Kaiser Foundation Hospital - San Jose', '250 Hospital Parkway, San Jose, CA 95119-1103', '37.2397615', '-121.8002485', '7931.8185528942', 'a']\n",
      "['Kaiser Foundation Hospital - San Rafael', '99 Montecillo Road, San Rafael, CA 94903-5114', '38.0043293', '-122.5546467', '7951.4157799899', 'a']\n",
      "['Kaiser Foundation Hospital - Santa Clara', '700 Lawrence Expressway, Santa Clara, CA 95051-5173', '37.3358952', '-121.99833', '7939.6630373861', 'a']\n",
      "['Kaiser Foundation Hospital - Santa Rosa', '401 Bicentennial Way, Santa Rosa, CA 95403-2149', '38.47212', '-122.7270141', '7948.2000126488', 'a']\n",
      "['Kaiser Foundation Hospital - South San Francisco', '1200 El Camino Real, South San Francisco, CA 94080-3208', '37.6591974', '-122.4393133', '7954.2312464159', 'a']\n",
      "['Kaiser Foundation Hospital - Vacaville', '1 Quality Drive, Vacaville, CA 95688-9494', '38.3885135', '-121.9380985', '7910.5814313028', 'a']\n",
      "['Kaiser Foundation Hospital - Vallejo', '975 Sereno Drive, Vallejo, CA 94589-2441', '38.12767', '-122.2484432', '7932.7998981827', 'a']\n",
      "['Kaiser Foundation Hospital - Walnut Creek', '1425 S. Main Street, Walnut Creek, CA 94596-5318', '37.8915785', '-122.0588864', '7929.065203422', 'a']\n",
      "['Kaiser Permanente Fontana Medical Center', '9961 Sierra Avenue, Fontana, CA 92335-6720', '34.072245', '-117.431968', '7768.0198238065', 'a']\n",
      "['Kaiser Permanente Los Angeles Medical Center', '4867 Sunset Boulevard, Los Angeles, CA 90027', '34.0981604', '-118.2954051', '7814.8820281927', 'a']\n",
      "['Kaiser Permanente Moreno Valley Medical Center', '27300 Iris Avenue, Moreno Valley, CA 92555-4800', '33.897404', '-117.186026', '7757.8324860221', 'a']\n",
      "['Kaiser Permanente Ontario Medical Center', '2295 S Vineyard Ave, Ontario, CA 91761', '34.032459', '-117.608757', '7778.5045914086', 'a']\n",
      "['Kaiser Permanente Orange County-Anaheim Medical Center', '3430 E. LaPalma Ave, Anaheim, CA 92806', '33.852103', '-117.8446219', '7794.9855344399', 'a']\n",
      "['Kaiser Permanente Orange County-Irvine Medical Center', '6650 Alton Parkway, Irvine, CA 92618', '33.6578508', '-117.7743829', '7794.888222318', 'a']\n",
      "['Kaiser Permanente San Diego Medical Center', '9455 Clairemont Mesa Blvd., San Diego, CA 92123', '32.8297116', '-117.1251884', '7774.4813109676', 'a']\n",
      "['Kaiser Permanente Zion Medical Center', '4647 Zion Avenue, San Diego, CA 92120-2507', '32.7913395', '-117.0951878', '7773.5113121251', 'a']\n",
      "['Kaweah Health', '400 W. Mineral King Avenue, Visalia, CA 93291-6263', '36.3282957', '-119.2949631', '7822.1093815454', 'a']\n",
      "['Keck Hospital of USC', '1500 San Pablo Street, Los Angeles, CA 90033-9857', '34.0619943', '-118.2012607', '7810.4437572068', 'a']\n",
      "['La Palma Intercommunity Hospital', '7901 Walker Street, La Palma, CA 90623-1722', '33.847533', '-118.038414', '7805.7389683795', 'a']\n",
      "['Loma Linda University Medical Center', '11234 Anderson Street, Loma Linda, CA 92354', '34.0507571', '-117.2639465', '7759.19564584', 'a']\n",
      "['Loma Linda University Medical Center East Campus', '25333 Barton Road, Loma Linda, CA 92354', '34.0472104', '-117.2515843', '7758.5836109238', 'a']\n",
      "['Los Robles Regional Medical Center', '215 West Janss Road, Thousand Oaks, CA 91360', '34.2077675', '-118.8830459', '7844.7946064584', 'a']\n",
      "['Marian Regional Medical Center', '1400 E. Church Street, Santa Maria, CA 93454-5906', '34.9512414', '-120.4133339', '7911.834817326', 'a']\n",
      "['Marshall Medical Center', '1100 Marshall Way, Placerville, CA 95667', '38.7256227', '-120.790957', '7844.3734155474', 'a']\n",
      "['MemorialCare Saddleback Medical Center', '24451 Health Center Drive, Laguna Hills, CA 92653-3689', '33.6089013', '-117.7087247', '7792.2078625993', 'a']\n",
      "['Mercy General Hospital', '4001 J Street, Sacramento, CA 95819-3600', '38.5702596', '-121.4524082', '7881.5565771046', 'a']\n",
      "['Palmdale Regional Medical Center', '38600 Medical Center Drive, Palmdale, CA 93551', '34.5830354', '-118.1450788', '7796.9678020304', 'a']\n",
      "['Palomar Medical Center Poway', '15615 Pomerado Road, Poway, CA 92064', '32.9969733', '-117.0560448', '7767.5227762507', 'a']\n",
      "['Paradise Valley Hospital', '2400 E. 4th Street, National City, CA 91950-2099', '32.6851132', '-117.0828852', '7774.7788482481', 'a']\n",
      "['Petaluma Valley Hospital', '400 N. McDowell Boulevard, Petaluma, CA 94954-2369', '38.25459', '-122.6316537', '7948.9596649955', 'a']\n",
      "['Providence St. Joseph Hospital Orange', '1100 West Stewart Drive, Orange, CA 92868-5600', '33.7819985', '-117.8652002', '7797.4854193424', 'a']\n",
      "['Salinas Valley Memorial Healthcare System', '450 E. Romie Lane, Salinas, CA 93901-4098', '36.6593319', '-121.646662', '7937.8378593383', 'a']\n",
      "['San Dimas Community Hospital', '1350 W. Covina Boulevard, San Dimas, CA 91773-3219', '34.0976119', '-117.8346593', '7789.6367351972', 'a']\n",
      "['Santa Barbara Cottage Hospital', '400 W. Pueblo Street, Santa Barbara, CA 93105-4311', '34.4299066', '-119.7233601', '7885.8801444135', 'a']\n",
      "['Scripps Green Hospital', '10666 N. Torrey Pines Rd, La Jolla, CA 92037-1093', '32.8967799', '-117.2428136', '7779.8129687058', 'a']\n",
      "['Scripps Memorial Hospital of Encinitas', '354 Santa Fe Drive, Encinitas, CA 92024-5182', '33.0369008', '-117.2839126', '7779.4929233394', 'a']\n",
      "['Scripps Memorial Hospital of La Jolla', '9888 Genesee Avenue, La Jolla, CA 92037-1200', '32.8851578', '-117.2255426', '7779.0641134082', 'a']\n",
      "['Scripps Mercy Hospital of San Diego', '4077 Fifth Avenue, San Diego, CA 92103-2105', '32.7514518', '-117.1600534', '7777.8789872658', 'a']\n",
      "['Sharp Chula Vista Medical Center', '751 Medical Center Court, Chula Vista, CA 91911-6699', '32.6187715', '-117.0229286', '7772.6339523523', 'a']\n",
      "['Sharp Coronado Hospital and Healthcare Center', '250 Prospect Place, Coronado, CA 92118-1999', '32.6944487', '-117.1686795', '7779.4148573872', 'a']\n",
      "['Sharp Grossmont Hospital', '5555 Grosssmont Center Drive, La Mesa, CA 91942-3019', '32.7811433', '-117.0074328', '7768.7862933663', 'a']\n",
      "['Sharp Memorial Hospital', '7901 Frost Street, San Diego, CA 92123-2701', '32.7994945', '-117.1542381', '7776.6653280371', 'a']\n",
      "['Shasta Regional Medical Center', '1100 Butte Street, Redding, CA 96001-0853', '40.5855146', '-122.3877763', '7876.4879511094', 'a']\n",
      "['Sherman Oaks Hospital', '4929 Van Nuys Boulevard, Sherman Oaks, CA 91403-1702', '34.1602305', '-118.4496328', '7822.0797971093', 'a']\n",
      "['Sierra Vista Regional Medical Center', '1010 Murray Avenue, San Luis Obispo, CA 93405-8800', '35.2922246', '-120.6658831', '7917.7772579967', 'a']\n",
      "['St. Elizabeth Community Hospital', '2550 Sister Mary Columba Drive, Red Bluff, CA 96080-4397', '40.1485519', '-122.2190196', '7879.7077655676', 'a']\n",
      "['St. John’s Hospital Camarillo', '2309 Antonio Avenue, Camarillo, CA 93010-1414', '34.2434645', '-119.0198129', '7851.5219839106', 'a']\n",
      "[\"St. Joseph's Medical Center of Stockton\", '1800 N. California Street, Stockton, CA 95204', '37.9698676', '-121.2887284', '7887.9050096389', 'a']\n",
      "['St. Jude Medical Center', '101 E. Valencia Mesa Drive, Fullerton, CA 92835-3875', '33.8941778', '-117.9276156', '7798.7295582867', 'a']\n",
      "['Stanford Health Care', '300 Pasteur Drive, Stanford, CA 94305', '37.4332452', '-122.1755633', '7946.363199986', 'a']\n",
      "['Sutter Auburn Faith Hospital', '11815 Education Street, Auburn, CA 95602-2410', '38.9451031', '-121.1000785', '7854.6087404405', 'a']\n",
      "['Sutter Santa Rosa Regional Hospital', '30 Mark West Springs Rd, Santa Rosa, CA 95403', '38.4950726', '-122.7519949', '7948.8652758236', 'a']\n",
      "['Twin Cities Community Hospital', '1100 Las Tablas Road, Templeton, CA 93465-9704', '35.5553302', '-120.7197485', '7914.7309588889', 'a']\n",
      "['UC San Diego Health Hillcrest - Hillcrest Medical Center', '200 West Arbor Drive, San Diego, CA 92103', '32.754257', '-117.1659225', '7778.1557457222', 'a']\n",
      "['UC San Diego Health La Jolla - Jacobs Medical Center and Sulpizio Cardiovascular Center', '9300 Campus Point Drive, La Jolla, CA 92037', '32.8785625', '-117.225776', '7779.1997434609', 'a']\n",
      "['UCLA Medical Center of Santa Monica', '1250 16th Street, Santa Monica, CA 90404-1249', '34.0270998', '-118.4863064', '7826.7622623399', 'a']\n",
      "['UCSF Health - Mission Bay', '1975 4th St, San Fancisco, CA 94158', '37.7648549', '-122.3902697', '7949.0895435346', 'a']\n",
      "['UCSF Medical Center Moffitt-Long Hospitals', '505 Parnassus Avenue, San Francisco, CA 94143-0296', '37.7630895', '-122.4578144', '7952.5719629426', 'a']\n",
      "['University of California Irvine Health', '101 The City Drive S., Orange, CA 92868-3298', '33.7879885', '-117.8901339', '7798.7422041712', 'a']\n",
      "['Adventist Health Lodi Memorial', '975 S. Fairmont Avenue, Lodi, CA 95240-5179', '38.121858', '-121.286652', '7884.1161104706', 'b']\n",
      "['Adventist Health Simi Valley', '2975 N. Sycamore Drive, Simi Valley, CA 93065-1201', '34.2892065', '-118.745137', '7835.6069467763', 'b']\n",
      "['Alameda Hospital', '2070 Clinton Avenue, Alameda, CA 94501-4397', '37.7628157', '-122.2534154', '7942.170594641', 'b']\n",
      "['Arrowhead Regional Medical Center', '400 N. Pepper Avenue, Colton, CA 92324-1819', '34.0740156', '-117.351125', '7763.5426026358', 'b']\n",
      "['Bakersfield Memorial Hospital', '420 34th Street, Bakersfield, CA 93301-2237', '35.3918393', '-119.006857', '7826.8696147613', 'b']\n",
      "['California Pacific Medical Center - Mission Bernal Campus', '3555 Cesar Chavez, San Francisco, CA 94110-4490', '37.7470887', '-122.4208774', '7951.0925697036', 'b']\n",
      "['Contra Costa Regional Medical Center', '2500 Alhambra Avenue, Martinez, CA 94553-3156', '38.006764', '-122.1327937', '7929.9581667006', 'b']\n",
      "['Doctors Medical Center of Modesto', '1441 Florida Avenue, Modesto, CA 95350-4418', '37.6652146', '-120.9972995', '7880.3027628703', 'b']\n",
      "['Eden Medical Center', '20103 Lake Chabot Road, Castro Valley, CA 94546-5367', '37.6983405', '-122.0896915', '7935.4217308561', 'b']\n",
      "['El Camino Hospital Los Gatos', '815 Pollard Road, Los Gatos, CA 95032', '37.263022', '-121.969376', '7939.9566926175', 'b']\n",
      "['Huntington Hospital', '100 W. California Boulevard, Pasadena, CA 91105-3097', '34.133639', '-118.152753', '7806.3621114004', 'b']\n",
      "['John Muir Medical Center Concord Campus', '2540 East Street, Concord, CA 94520', '37.9837249', '-122.0347814', '7925.5526529673', 'b']\n",
      "['Kaiser Foundation Hospital - Baldwin Park Medical Center', '1011 Baldwin Park Boulevard, Baldwin Park, CA 91706-5806', '34.0655016', '-117.9864524', '7798.5950118624', 'b']\n",
      "['Kaiser Foundation Hospital - Oakland', '3600 Broadway, Oakland, CA 94611-5730', '37.8235195', '-122.2582442', '7940.9036678616', 'b']\n",
      "['Kaiser Foundation Hospital - Richmond', '901 Nevin Avenue, Richmond, CA 94801-3143', '37.93712', '-122.3605023', '7943.2609016642', 'b']\n",
      "['Kaiser Foundation Hospital - Sacramento', '2025 Morse Avenue, Sacramento, CA 95825-2115', '38.6018632', '-121.3919202', '7877.7265123346', 'b']\n",
      "['Kaiser Foundation Hospital - San Leandro', '2500 Merced Street, San Leandro, CA 94577-4201', '37.7063601', '-122.1651409', '7939.07328521', 'b']\n",
      "['Kaiser Permanente Downey Medical Center', '9333 E. Imperial Highway, Downey, CA 90242-2812', '33.9192416', '-118.1288114', '7809.2960235433', 'b']\n",
      "['Kaiser Permanente Panorama City Medical Center', '13651 Willard St, Panorama City, CA 91402-5497', '34.2185683', '-118.4292711', '7819.7930378279', 'b']\n",
      "['Kaiser Permanente Riverside Medical Center', '10800 Magnolia Avenue, Riverside, CA 92505-3000', '33.9047622', '-117.4691755', '7773.2937202572', 'b']\n",
      "['LOMA LINDA UNIVERSITY MEDICAL CENTER-MURRIETA', '28062 Baxter Road, Murrieta, CA 92563', '33.6145875', '-117.1691492', '7762.2609348417', 'b']\n",
      "['Los Angeles County - Olive View UCLA Medical Center', '14445 Olive View Drive, Sylmar, CA 91342-1495', '34.3259095', '-118.4459572', '7818.5410023189', 'b']\n",
      "['Martin Luther King, Jr. Community Hospital', '1680 East 120th Street, Los Angeles, CA 90059-3026', '33.9239277', '-118.2451528', '7815.5935737171', 'b']\n",
      "['MemorialCare Orange Coast Medical Center', '9920 Talbert Avenue, Fountain Valley, CA 92708-5153', '33.7003907', '-117.9556226', '7804.0605916729', 'b']\n",
      "['Mercy San Juan Medical Center', '6501 Coyle Avenue, Carmichael, CA 95608-0306', '38.6696228', '-121.3140357', '7872.1333451506', 'b']\n",
      "['Methodist Hospital of Sacramento', '7500 Hospital Drive, Sacramento, CA 95823-5477', '38.4631737', '-121.4163638', '7882.3675038282', 'b']\n",
      "['Mills-Peninsula Medical Center', '1501 Trousdale Drive, Burlingame, CA 94010-4506', '37.5921025', '-122.3833423', '7953.0508332462', 'b']\n",
      "['Mission Hospital Laguna Beach', '31872 Coast Hwy, Laguna Beach, CA 92651', '33.5005741', '-117.740473', '7796.0511026556', 'b']\n",
      "['Natividad Medical Center', '1441 Constitution Boulevard, Salinas, CA 93906-3100', '36.6973764', '-121.6331609', '7936.2279242479', 'b']\n",
      "['NorthBay Medical Center', '1200 B. Gale Wilson Boulevard, Fairfield, CA 94533-3552', '38.2618553', '-122.0476112', '7919.277429974', 'b']\n",
      "['NorthBay VacaValley Hospital', '1000 Nut Tree Road, Vacaville, CA 95687', '38.355856', '-121.95196', '7912.0960986076', 'b']\n",
      "['Northridge Hospital Medical Center-Roscoe Boulevard Campus', '18300 Roscoe Boulevard, Northridge, CA 91325-4105', '34.2205406', '-118.5338644', '7825.4685617092', 'b']\n",
      "['Novato Community Hospital', '180 Rowland Way, Novato, CA 94945-5009', '38.0993115', '-122.5603633', '7949.3020283493', 'b']\n",
      "['Palomar Medical Center Escondido', '2185 Citracado Parkway, Escondido, CA 92029', '33.1218939', '-117.1214691', '7768.8522480133', 'b']\n",
      "['Parkview Community Hospital Medical Center', '3865 Jackson Street, Riverside, CA 92503-3998', '33.9269682', '-117.4398166', '7771.2498172164', 'b']\n",
      "['PIH Health Hospital - Downey', '11500 Brookshire Avenue, Downey, CA 90241', '33.935296', '-118.130298', '7809.0605334339', 'b']\n",
      "['PIH Health Hospital - Whittier', '12401 Washington Blvd, Whittier, CA 90602-1099', '33.9690304', '-118.0490717', '7803.9336004668', 'b']\n",
      "['Providence Little Company of Mary Medical Center Torrance', '4101 Torrance Boulevard, Torrance, CA 90503-4698', '33.8385387', '-118.3571537', '7823.4426622087', 'b']\n",
      "['Providence Mission Hospital Mission Viejo', '27700 Medical Center Road, Mission Viejo, CA 92691-6426', '33.5610516', '-117.6654654', '7790.7382565676', 'b']\n",
      "['Queen of the Valley Medical Center', '1000 Trancas Street, Napa, CA 94558-2906', '38.3251588', '-122.2966229', '7930.2695172108', 'b']\n",
      "['Redlands Community Hospital', '350 Terracina Boulevard, Redlands, CA 92373-4897', '34.0365372', '-117.2051741', '7756.2345500619', 'b']\n",
      "['San Antonio Regional Hospital', '999 San Bernardino Road, Upland, CA 91786-4920', '34.1015661', '-117.6378263', '7778.7580404396', 'b']\n",
      "['San Leandro Hospital', '13855 E. 14th Street, San Leandro, CA 94578', '37.7122362', '-122.1433524', '7937.8159901686', 'b']\n",
      "['Scripps Mercy Hospital of Chula Vista', '435 H Street, Chula Vista, CA 91910', '32.633757', '-117.083151', '7775.7375947812', 'b']\n",
      "['Sequoia Hospital', '170 Alameda De Las Pulgas, Redwood City, CA 94062-2799', '37.4797381', '-122.2547914', '7949.2713091954', 'b']\n",
      "[\"St. John's Regional Medical Center of Oxnard\", '1600 N. Rose Avenue, Oxnard, CA 93030-3723', '34.2166424', '-119.1556484', '7859.4805880916', 'b']\n",
      "[\"St. Mary's Medical Center\", '450 Stanyan Street, San Francisco, CA 94117-1079', '37.7740462', '-122.4536477', '7952.0851571626', 'b']\n",
      "['Stanford Health Care - ValleyCare', '5555 W. Las Positas Boulevard, Pleasanton, CA 94588-4000', '37.6944052', '-121.8802082', '7924.8201546488', 'b']\n",
      "['Sutter Amador Hospital', '200 Mission Boulevard, Jackson, CA 95642-2132', '38.3504899', '-120.7644312', '7852.0461497655', 'b']\n",
      "['Sutter Medical Center, Sacramento', '2825 Capitol Ave, Sacramento, CA 95816-5616', '38.5708904', '-121.4695318', '7882.405265283', 'b']\n",
      "['Sutter Roseville Medical Center', '1 Medical Plaza Dr, Roseville, CA 95661-3037', '38.7662511', '-121.2492234', '7866.4958298894', 'b']\n",
      "['Sutter Tracy Community Hospital', '1420 N. Tracy Boulevard, Tracy, CA 95376-3497', '37.7441359', '-121.4340134', '7900.7916486', 'b']\n",
      "['Torrance Memorial Medical Center', '3330 Lomita Boulevard, Torrance, CA 90505-5002', '33.8119157', '-118.3434945', '7823.2209482665', 'b']\n",
      "['University of California Davis Medical Center', '2315 Stockton Boulevard, Sacramento, CA 95817-2282', '38.5549383', '-121.4567508', '7882.1529401718', 'b']\n",
      "['University of California Ronald Reagan UCLA Medical Center', '757 Westwood Plaza, Los Angeles, CA 90095-8358', '34.0664433', '-118.4463136', '7823.7819526322', 'b']\n",
      "['USC Verdugo Hills Hospital', '1812 Verdugo Boulevard, Glendale, CA 91208-1409', '34.2045351', '-118.216049', '7808.4152774073', 'b']\n",
      "['Whittier Hospital Medical Center', '9080 Colima Road, Whittier, CA 90605', '33.9502712', '-118.0040225', '7801.8285167267', 'b']\n",
      "['Woodland Memorial Hospital', '1325 Cottonwood Street, Woodland, CA 95695-5199', '38.664038', '-121.79212', '7896.3503329628', 'b']\n",
      "['Adventist Health - Delano', '1401 Garces Highway, Delano, CA 93215-3690', '35.7622854', '-119.2392519', '7831.4006535668', 'c']\n",
      "['Adventist Health and Rideout', '726 4th Street, Marysville, CA 95901-5600', '39.1381926', '-121.5940156', '7874.576109214', 'c']\n",
      "['Adventist Health Sonora', '1000 Greenley Road, Sonora, CA 95370', '37.977798', '-120.371497', '7840.8232560924', 'c']\n",
      "['Adventist Health White Memorial', '1720 Cesar E. Chavez Avenue, Los Angeles, CA 90033-2481', '34.0492579', '-118.2172453', '7811.5731972737', 'c']\n",
      "['AHMC Anaheim Regional Medical Center', '1111 W. La Palma Avenue, Anaheim, CA 92801-2881', '33.8481751', '-117.9345264', '7800.0103754626', 'c']\n",
      "['AHMC Seton Medical Center', '1900 Sullivan Avenue, Daly City, CA 94015-2229', '37.6799404', '-122.4742007', '7955.490392617', 'c']\n",
      "['Alta Bates Summit Medical Center', '350 Hawthorne Avenue, Oakland, CA 94609', '37.822057', '-122.262747', '7941.1693134899', 'c']\n",
      "['Alvarado Hospital Medical Center', '6655 Alvarado Road, San Diego, CA 92120-5296', '32.7766415', '-117.0573188', '7771.6623008574', 'c']\n",
      "['Anaheim Global Medical Center', '1025 S. Anaheim Boulevard, Anaheim, CA 92805-5806', '33.8196827', '-117.9097961', '7799.20625843', 'c']\n",
      "['Antelope Valley Hospital', '1600 W. Avenue J, Lancaster, CA 93534-2894', '34.6884634', '-118.15843', '7795.574457736', 'c']\n",
      "['Bakersfield Heart Hospital', '3001 Sillect Avenue, Bakersfield, CA 93308-6337', '35.3848085', '-119.0399564', '7828.7931719097', 'c']\n",
      "['California Hospital Medical Center', '1401 S. Grand Avenue, Los Angeles, CA 90015-3010', '34.0373956', '-118.2657814', '7814.4701450129', 'c']\n",
      "['California Pacific Medical Center - Davies Campus', '45 Castro St, San Francisco, CA 94114', '37.768847', '-122.4354438', '7951.2890805483', 'c']\n",
      "['Cedars-Sinai Marina Del Rey Hospital', '4650 Lincoln Boulevard, Marina Del Rey, CA 90292-6360', '33.9821449', '-118.4392262', '7825.0828931249', 'c']\n",
      "['Cedars-Sinai Medical Center', '8700 Beverly Boulevard, Los Angeles, CA 90048-1865', '34.075153', '-118.3802766', '7819.9905550323', 'c']\n",
      "['Chinese Hospital', '845 Jackson Street, San Francisco, CA 94133-4899', '37.7954715', '-122.4091608', '7949.2845066669', 'c']\n",
      "['Clovis Community Medical Center', '2755 Herndon Avenue, Clovis, CA 93611-6800', '36.8390429', '-119.660354', '7830.0537153447', 'c']\n",
      "['COMMUNITY HOSPITAL OF SAN BERNARDINO', '1805 MEDICAL CENTER DRIVE, SAN BERNARDINO, CA 92411-1214', '34.1314087', '-117.3217772', '7760.8261512153', 'c']\n",
      "['Community Memorial Hospital', '147 N. Brent Street, Ventura, CA 93003-2854', '34.2745632', '-119.2579873', '7863.8550854388', 'c']\n",
      "['Corona Regional Medical Center', '800 S. Main Street, Corona, CA 92882-3420', '33.8727795', '-117.5683133', '7779.3702801597', 'c']\n",
      "['Dameron Hospital', '525 W. Acacia Street, Stockton, CA 95203-2484', '37.9615265', '-121.3019237', '7888.7800719971', 'c']\n",
      "['Desert Regional Medical Center', '1150 N. Indian Canyon Drive, Palm Springs, CA 92262-4872', '33.8385169', '-116.54408', '7723.4964972571', 'c']\n",
      "['Dignity Health St. Bernardine Medical Center', '2101 N. Waterman Avenue, San Bernardino, CA 92404-4836', '34.1348371', '-117.2769883', '7758.299957933', 'c']\n",
      "['Dominican Hospital', '1555 Soquel Drive, Santa Cruz, CA 95065-1794', '36.9901663', '-121.9836669', '7947.3406232932', 'c']\n",
      "['East Los Angeles Doctors Hospital', '4060 Whittier Boulevard, Los Angeles, CA 90023-2526', '34.0237682', '-118.1841496', '7810.264569829', 'c']\n",
      "['El Centro Regional Medical Center', '1415 Ross Avenue, El Centro, CA 92243-4398', '32.7803961', '-115.5683905', '7688.0487548025', 'c']\n",
      "['Emanate Health Foothill Presbyterian Hospital', '250 South Grand Avenue, Glendora, CA 91741-4218', '34.1327654', '-117.8713435', '7790.9584500477', 'c']\n",
      "['Emanate Health Inter-Community Hospital', '210 West San Bernardino Road, Covina, CA 91723-1901', '34.0878738', '-117.8935005', '7793.055781946', 'c']\n",
      "['Emanate Health Queen of the Valley Hospital', '1115 South Sunset Avenue, West Covina, CA 91790-3940', '34.0642264', '-117.9453122', '7796.3631854217', 'c']\n",
      "['Emanuel Medical Center', '825 Delbon Avenue, Turlock, CA 95382-2016', '37.511639', '-120.837996', '7875.7517232098', 'c']\n",
      "['Fountain Valley Regional Hospital and Medical Center', '17100 Euclid Street, Fountain Valley, CA 92708-4043', '33.7150242', '-117.9357865', '7802.6813995416', 'c']\n",
      "['Glendale Memorial Hospital and Health Center', '1420 S. Central Avenue, Glendale, CA 91204-2508', '34.1281181', '-118.2569119', '7812.1761938894', 'c']\n",
      "['Good Samaritan Hospital', '901 Olive Drive, Bakersfield, CA 93308-4144', '35.4117079', '-119.0395895', '7828.2044935995', 'c']\n",
      "['Good Samaritan Hospital of San Jose', '2425 Samaritan Drive, San Jose, CA 95124-3997', '37.2520715', '-121.9463305', '7939.0384587902', 'c']\n",
      "['Greater El Monte Community Hospital', '1701 Santa Anita Avenue, South El Monte, CA 91733-3411', '34.0481521', '-118.043372', '7802.0597095764', 'c']\n",
      "['Hi-Desert Medical Center', '6601 White Feather Road, Joshua Tree, CA 92252-6601', '34.1326967', '-116.2762479', '7703.275403181', 'c']\n",
      "['Highland Hospital', '1411 E. 31st Street, Oakland, CA 94602', '37.7995621', '-122.2329473', '7940.2128970261', 'c']\n",
      "['Hollywood Presbyterian Medical Center', '1300 N. Vermont Avenue, Los Angeles, CA 90027-0069', '34.0962209', '-118.2905784', '7814.6563670271', 'c']\n",
      "['Huntington Beach Hospital', '17772 Beach Boulevard, Huntington Beach, CA 92647-6819', '33.70364', '-117.986656', '7805.7081466132', 'c']\n",
      "['Inland Valley Medical Center', '36485 Inland Valley Drive, Wildomar, CA 92595-9700', '33.5916679', '-117.2375905', '7766.4823312619', 'c']\n",
      "['JFK Memorial Hospital', '47111 Monroe Street, Indio, CA 92201-6799', '33.7062168', '-116.2354774', '7708.8415575605', 'c']\n",
      "['Kaiser Foundation Hospital - South Sacramento', '6600 Bruceville Road, Sacramento, CA 95823-4671', '38.4699104', '-121.4216412', '7882.4690424266', 'c']\n",
      "['Kern Medical Center', '1700 Mount Vernon Avenue, Bakersfield, CA 93306-4018', '35.3828044', '-118.9700927', '7825.088538245', 'c']\n",
      "['Lakewood Regional Medical Center', '3700 E South Street, Lakewood, CA 90712-1498', '33.8599375', '-118.1486551', '7811.5575626511', 'c']\n",
      "['Lompoc Valley Medical Center', '1515 E. Ocean Avenue, Lompoc, CA 93436-7092', '34.6411375', '-120.4395191', '7920.0519761525', 'c']\n",
      "['Long Beach Memorial Medical Center', '2801 Atlantic Ave., Long Beach, CA 90806-1701', '33.8083605', '-118.1873236', '7814.7023779919', 'c']\n",
      "['Los Alamitos Medical Center', '3751 Katella Avenue, Los Alamitos, CA 90720-3164', '33.8043758', '-118.0671158', '7808.1662854722', 'c']\n",
      "['Los Angeles County - Harbor UCLA Medical Center', '1000 W. Carson Street, Torrance, CA 90509', '33.8297109', '-118.2949821', '7820.2005677653', 'c']\n",
      "['Los Angeles County University of Southern California Medical Center', '2051 Marengo St., Los Angeles, CA 90033-1029', '34.059442', '-118.2081017', '7810.8694929697', 'c']\n",
      "['Mad River Community Hospital', '3800 Janes Road, Arcata, CA 95521-4788', '40.8963361', '-124.0916707', '7950.0472984765', 'c']\n",
      "['Madera Community Hospital', '1250 E. Almond Avenue, Madera, CA 93637-5696', '36.9440246', '-120.0443662', '7847.7528974599', 'c']\n",
      "['MarinHealth Medical Center', '250 Bon Air Road, Greenbrae, CA 94904-1784', '37.9474108', '-122.5358908', '7951.9023903598', 'c']\n",
      "['Memorial Hospital Los Banos', '520 West I St, Los Banos, CA 93635-4211', '37.0640934', '-120.8591356', '7887.3651559963', 'c']\n",
      "['Memorial Hospital of Gardena', '1145 W. Redondo Beach Boulevard, Gardena, CA 90247-3528', '33.8929624', '-118.2948029', '7818.9351923337', 'c']\n",
      "['Memorial Medical Center', '1700 Coffee Road, Modesto, CA 95355-2869', '37.6687592', '-120.9737865', '7879.011186202', 'c']\n",
      "['Menifee Global Medical Center', '28400 McCall Boulevard, Sun City, CA 92585-9537', '33.7194657', '-117.1645046', '7760.0212456398', 'c']\n",
      "['Mercy Hospital - Downtown', '2215 Truxtun Avenue, Bakersfield, CA 93301', '35.3731773', '-119.0271665', '7828.3531198187', 'c']\n",
      "['Mercy Hospital - Southwest', '400 Old River Road, Bakersfield, CA 93311', '35.3511237', '-119.1124137', '7833.3920966921', 'c']\n",
      "['Mercy Hospital of Folsom', '1650 Creekside Drive, Folsom, CA 95630-3405', '38.6701979', '-121.1460932', '7863.6476234431', 'c']\n",
      "['Mercy Medical Center', '333 Mercy Avenue, Merced, CA 95340-8319', '37.339977', '-120.4672958', '7860.6347252946', 'c']\n",
      "['Methodist Hospital of Southern California', '300 W. Huntington Drive, Arcadia, CA 91007-3473', '34.1344524', '-118.0417643', '7800.2657845', 'c']\n",
      "['Mission Community Hospital', '14850 Roscoe Boulevard, Panorama City, CA 91402', '34.2209059', '-118.4567848', '7821.2496078346', 'c']\n",
      "['Montclair Hospital Medical Center', '5000 San Bernardino Street, Montclair, CA 91763-2326', '34.0787027', '-117.6959434', '7782.3938039727', 'c']\n",
      "['Monterey Park Hospital', '900 S. Atlantic Boulevard, Monterey Park, CA 91754-4780', '34.049413', '-118.1383146', '7807.2422226', 'c']\n",
      "[\"O'Connor Hospital\", '2105 Forest Avenue, San Jose, CA 95128-1471', '37.3277552', '-121.9383789', '7936.7818648375', 'c']\n",
      "['Oroville Hospital', '2767 Olive Highway, Oroville, CA 95966-6118', '39.5062597', '-121.5410928', '7862.7138992493', 'c']\n",
      "['PIH Health Good Samaritan Hospital', '1225 Wilshire Boulevard, Los Angeles, CA 90017-2395', '34.0541988', '-118.2650593', '7814.0959341449', 'c']\n",
      "['Placentia-Linda Hospital', '1301 N. Rose Drive, Placentia, CA 92870-3899', '33.887072', '-117.8434267', '7794.2374839229', 'c']\n",
      "['Pomona Valley Hospital Medical Center', '1798 N. Garey Avenue, Pomona, CA 91767-2918', '34.0770077', '-117.7514976', '7785.476536438', 'c']\n",
      "['Providence Cedars-Sinai Tarzana Medical Center', '18321 Clark Street, Tarzana, CA 91356-3521', '34.1704136', '-118.5322725', '7826.393641885', 'c']\n",
      "['Providence Holy Cross Medical Center', '15031 Rinaldi Street, Mission Hills, CA 91345-1285', '34.280154', '-118.460335', '7820.2491414911', 'c']\n",
      "['Providence Little Company of Mary Medical Center San Pedro', '1300 W. Seventh Street, San Pedro, CA 90732-3505', '33.7383615', '-118.3050431', '7822.5643022408', 'c']\n",
      "[\"Providence Saint John's Health Center\", '2121 Santa Monica Boulevard, Santa Monica, CA 90404-2303', '34.0307388', '-118.4796069', '7826.3221592869', 'c']\n",
      "['Providence Saint Joseph Medical Center', '501 South Buena Vista Street, Burbank, CA 91505-4818', '34.1558174', '-118.3281063', '7815.5198494302', 'c']\n",
      "['Rancho Springs Medical Center', '25500 Medical Center Drive, Murrieta, CA 92562-5965', '33.5589878', '-117.1839316', '7764.1288888544', 'c']\n",
      "['Regional Medical Center of San Jose', '225 N. Jackson Avenue, San Jose, CA 95116-1691', '37.3623125', '-121.8493151', '7931.3619433553', 'c']\n",
      "['Riverside Community Hospital', '4445 Magnolia Avenue, Riverside, CA 92501-4199', '33.9767808', '-117.3816002', '7767.0876794372', 'c']\n",
      "['Riverside University Health System - Medical Center', '26520 Cactus Avenue, Moreno Valley, CA 92555-3911', '33.9121777', '-117.1960044', '7758.1013456333', 'c']\n",
      "['Saint Agnes Medical Center', '1303 E. Herndon Avenue, Fresno, CA 93720-3309', '36.8352022', '-119.7655278', '7835.642105261', 'c']\n",
      "['Saint Francis Memorial Hospital', '900 Hyde Street, San Francisco, CA 94109-4899', '37.7896472', '-122.4166422', '7949.8110858646', 'c']\n",
      "['San Gabriel Valley Medical Center', '438 W. Las Tunas Drive, San Gabriel, CA 91776-1216', '34.1007416', '-118.1058755', '7804.4465600885', 'c']\n",
      "['San Gorgonio Memorial Hospital', '600 N. Highland Springs Avenue, Banning, CA 92220-3046', '33.9317494', '-116.9459031', '7743.9418503176', 'c']\n",
      "['San Ramon Regional Medical Center', '6001 Norris Canyon Road, San Ramon, CA 94583-5400', '37.775892', '-121.958214', '7926.7972772388', 'c']\n",
      "['Santa Rosa Memorial Hospital', '1165 Montgomery Drive, Santa Rosa, CA 95405-4897', '38.4437611', '-122.701141', '7947.6269964674', 'c']\n",
      "['Sierra Nevada Memorial Hospital', '155 Glasson Way, Grass Valley, CA 95945-5723', '39.2281029', '-121.0468913', '7844.9980045863', 'c']\n",
      "['Sierra View Medical Center', '465 W. Putnam Avenue, Porterville, CA 93257-3320', '36.069563', '-119.027485', '7813.5407424999', 'c']\n",
      "['South Bay Medical Center', '25825 South Vermont Avenue, Harbor City, CA 90710-3599', '33.7899325', '-118.2947645', '7820.9772220264', 'c']\n",
      "['South Coast Global Medical Center', '2701 S. Bristol Street, Santa Ana, CA 92704-6201', '33.7110583', '-117.8851902', '7799.9689410081', 'c']\n",
      "['St. Francis Medical Center', '3630 E. Imperial Highway, Lynwood, CA 90262-2636', '33.930826', '-118.203228', '7813.1544649625', 'c']\n",
      "['St. Joseph Hospital of Eureka', '2700 Dolbeer Street, Eureka, CA 95501-4799', '40.7839228', '-124.1422119', '7955.6086110978', 'c']\n",
      "['St. Louise Regional Hospital', '9400 No Name Uno, Gilroy, CA 95020-3528', '37.0365453', '-121.5713901', '7924.9101804855', 'c']\n",
      "['St. Mary Medical Center of Long Beach', '1050 Linden Avenue, Long Beach, CA 90813-3393', '33.7797822', '-118.1863138', '7815.2108281748', 'c']\n",
      "['St. Rose Hospital', '27200 Calaroga Avenue, Hayward, CA 94545-4383', '37.6337041', '-122.087952', '7936.9306712998', 'c']\n",
      "['Sutter Davis Hospital', '2000 Sutter Place, Davis, CA 95616-6201', '38.5625729', '-121.7711666', '7897.8234312372', 'c']\n",
      "['Sutter East Bay Hospitals dba Alta Bates Summit Medical Center Alta Bates Campus', '2450 Ashby Avenue, Berkeley, CA 94705', '37.855928', '-122.257304', '7940.0473791556', 'c']\n",
      "['Sutter Solano Medical Center', '300 Hospital Drive, Vallejo, CA 94589-2517', '38.131156', '-122.2374074', '7932.1536141508', 'c']\n",
      "['Temecula Valley Hospital', '31700 Temecula Parkway, Temecula, CA 92592-5896', '33.4811362', '-117.1060989', '7761.280638692', 'c']\n",
      "['Tri-City Medical Center', '4002 Vista Way, Oceanside, CA 92056-4506', '33.1851545', '-117.2902595', '7777.0683024146', 'c']\n",
      "['Valley Presbyterian Hospital', '15107 Vanowen Street, Van Nuys, CA 91405', '34.194945', '-118.46319', '7822.1225460466', 'c']\n",
      "['Victor Valley Global Medical Center', '15248 Eleventh Street, Victorville, CA 92395', '34.528167', '-117.293911', '7751.6361846145', 'c']\n",
      "['Washington Hospital Healthcare System', '2000 Mowry Avenue, Fremont, CA 94538-1746', '37.55726', '-121.9797604', '7933.2809309985', 'c']\n",
      "['Watsonville Community Hospital', '75 Nielson Street, Watsonville, CA 95076-2468', '36.9271746', '-121.7930016', '7939.0064237663', 'c']\n",
      "['West Anaheim Medical Center', '3033 W. Orange Avenue, Anaheim, CA 92804', '33.825427', '-117.9947617', '7803.7709039924', 'c']\n",
      "['West Hills Hospital and Medical Center', '7300 Medical Center Drive, West Hills, CA 91307-1901', '34.2029255', '-118.6287791', '7831.0101588122', 'c']\n",
      "['West Los Angeles Medical Center', '6041 Cadillac Avenue, Los Angeles, CA 90034-1702', '34.0383466', '-118.3759001', '7820.48711793', 'c']\n",
      "['Woodland Hills Medical Center', '5601 De Soto Avenue, Woodland Hills, CA 91367', '34.1701721', '-118.5902842', '7829.5697500929', 'c']\n",
      "['Zuckerberg San Francisco General Hospital and Trauma Center', '1001 Potrero Avenue, San Francisco, CA 94110-3594', '37.7558047', '-122.4044432', '7950.037623362', 'c']\n",
      "['Beverly Hospital', '309 W. Beverly Boulevard, Montebello, CA 90640-4308', '34.015015', '-118.100636', '7805.856301851', 'd']\n",
      "['Chapman Global Medical Center', '2601 E. Chapman Avenue, Orange, CA 92869-3206', '33.788633', '-117.8258852', '7795.190181771', 'd']\n",
      "['Coast Plaza Hospital', '13100 Studebaker Road, Norwalk, CA 90650-2531', '33.9127726', '-118.0988257', '7807.7761325295', 'd']\n",
      "['Community Hospital of Huntington Park', '2623 E. Slauson Avenue, Huntington Park, CA 90255-2900', '33.9896228', '-118.2241554', '7813.1370147507', 'd']\n",
      "['Community Regional Medical Center', '2823 Fresno Street, Fresno, CA 93721-1324', '36.7428148', '-119.7840085', '7838.6783739007', 'd']\n",
      "['Doctors Hospital of Manteca', '1205 E. North Street, Manteca, CA 95336-4900', '37.80155', '-121.197502', '7887.3032409973', 'd']\n",
      "['Hemet Global Medical Center', '1117 E. Devonshire Avenue, Hemet, CA 92543-3083', '33.7501053', '-116.9601344', '7748.1469436119', 'd']\n",
      "['Los Angeles Community Hospital', '4081 E. Olympic Boulevard, Los Angeles, CA 90023-3330', '34.0192887', '-118.1866586', '7810.4910739235', 'd']\n",
      "['Mercy Medical Center of Redding', '2175 Rosaline Avenue, Redding, CA 96001', '40.57182', '-122.395252', '7877.2115063695', 'd']\n",
      "['Orange County Global Medical Center', '1001 N. Tustin Avenue, Santa Ana, CA 92705-3577', '33.7542839', '-117.8328006', '7796.2395021913', 'd']\n",
      "['San Mateo Medical Center', '222 W. 39th Avenue, San Mateo, CA 94403-4398', '37.5312682', '-122.2992982', '7950.2702736741', 'd']\n",
      "['Santa Clara Valley Medical Center', '751 S. Bascom Avenue, San Jose, CA 95128-2604', '37.3128688', '-121.9328811', '7936.8628646663', 'd']\n",
      "['Santa Paula Hospital', '825 N 10th St, Santa Paula, CA 93061', '34.3655106', '-119.0651899', '7851.4751357387', 'd']\n",
      "['Southern California Hospital at Culver City', '3828 Delmas Terrace, Culver City, CA 90232-6806', '34.0232001', '-118.3969128', '7821.941667728', 'd']\n",
      "['Southern California Hospital at Hollywood', '6245 De Longpre Avenue, Los Angeles, CA 90028', '34.0964254', '-118.3252367', '7816.5505488189', 'd']\n",
      "['St Mary Medical Center', '18300 Highway 18, Apple Valley, CA 92307-2206', '34.5418476', '-117.2655636', '7749.8223887038', 'd']\n",
      "['Sutter Coast Hospital', '800 East Washington Blvd., Crescent City, CA 95531-8359', '41.7736843', '-124.194008', '7930.115342005', 'd']\n",
      "['Sutter Delta Medical Center', '3901 Lone Tree Way, Antioch, CA 94509-6253', '37.9825884', '-121.8029543', '7913.7928430707', 'd']\n",
      "['Ventura County Medical Center', '300 Hillmont Avenue, Ventura, CA 93003-3099', '34.2771994', '-119.2529832', '7863.5278340661', 'd']\n",
      "['Barstow Community Hospital', '820 East Mountain View Street, Barstow, CA 92311-3004', '34.892431', '-117.017066', '7729.487408737', 'f']\n",
      "['Henry Mayo Newhall Hospital', '23845 McBean Parkway, Valencia, CA 91355-2083', '34.4214827', '-118.5632206', '7822.9985710016', 'f']\n",
      "['Pacifica Hospital of the Valley', '9449 San Fernando Road, Sun Valley, CA 91352-1421', '34.2405259', '-118.3960912', '7817.5381463383', 'f']\n",
      "['Pioneers Memorial Hospital', '207 W. Legion Road, Brawley, CA 92227-7780', '32.9591125', '-115.5539066', '7684.1328704961', 'f']\n",
      "['San Joaquin General Hospital', '500 W. Hospital Road, French Camp, CA 95231-9693', '37.8867135', '-121.2826314', '7889.6039958681', 'f']\n",
      "['College Medical Center', '2776 Pacific Ave, Long Beach, CA 90806', '33.8069502', '-118.1928532', '7815.0344258869', 'g']\n",
      "['Sonoma Valley Hospital', '347 Andrieux Street, Sonoma, CA 95476-6811', '38.2881092', '-122.4651441', '7939.7090360439', 'g']\n"
     ]
    }
   ],
   "source": [
    "for hospital in state_list:\n",
    "    str1 = hospital.get_attribute('outerHTML')\n",
    "    str2 = hospital.text\n",
    "    str1 = str1.partition(\">\")[0]\n",
    "    hospital_list = str2.split(\"\\n\")\n",
    "    hospital_list[1] += \", \" + hospital_list[2]\n",
    "    hospital_list = hospital_list[0:2] \n",
    "    hospital_list.append(re.search('data-lat=\".*?\"', str1).group(0)[10:-1])\n",
    "    hospital_list.append(re.search('data-lon=\".*?\"', str1).group(0)[10:-1])\n",
    "    hospital_list.append(re.search('data-distance=\".*?\"', str1).group(0)[15:-1])\n",
    "    hospital_list.append(re.search('data-grade=\".*?\"', str1).group(0)[-2])\n",
    "    print(hospital_list)\n"
   ]
  },
  {
   "cell_type": "code",
   "execution_count": null,
   "metadata": {},
   "outputs": [],
   "source": [
    "# Took ~15 minutes to run\n",
    "\n",
    "states = [ 'AK', 'AL', 'AR', 'AZ', 'CA', 'CO', 'CT', 'DC', 'DE', 'FL', 'GA',\n",
    "           'HI', 'IA', 'ID', 'IL', 'IN', 'KS', 'KY', 'LA', 'MA', 'MD', 'ME',\n",
    "           'MI', 'MN', 'MO', 'MS', 'MT', 'NC', 'ND', 'NE', 'NH', 'NJ', 'NM',\n",
    "           'NV', 'NY', 'OH', 'OK', 'OR', 'PA', 'RI', 'SC', 'SD', 'TN', 'TX',\n",
    "           'UT', 'VA', 'VT', 'WA', 'WI', 'WV', 'WY']\n",
    "\n",
    "final_list = []\n",
    "\n",
    "\n",
    "\n",
    "for state in states:\n",
    "    driver = webdriver.Chrome(service=Service(ChromeDriverManager().install()))\n",
    "    driver.get('https://www.hospitalsafetygrade.org/search?findBy=state&zip_code=&city=&state_prov=' + state + '&hospital=')\n",
    "    # driver.execute_script('''window.open(\"https://www.hospitalsafetygrade.org/search?findBy=state&zip_code=&city=&state_prov=''' + state + '''&hospital=\",\"_blank\");''')\n",
    "    state_list = driver.find_elements(by = By.XPATH, value = \"/html/body/div[1]/div/section[3]/div[3]/div\")\n",
    "    print(len(state_list))\n",
    "    for hospital in state_list:\n",
    "        str1 = hospital.get_attribute('outerHTML')\n",
    "        str2 = hospital.text\n",
    "        str1 = str1.partition(\">\")[0]\n",
    "        hospital_list = str2.split(\"\\n\")\n",
    "        hospital_list[1] += \", \" + hospital_list[2]\n",
    "        hospital_list = hospital_list[0:2] \n",
    "        hospital_list.append(re.search('data-lat=\".*?\"', str1).group(0)[10:-1])\n",
    "        hospital_list.append(re.search('data-lon=\".*?\"', str1).group(0)[10:-1])\n",
    "        hospital_list.append(re.search('data-distance=\".*?\"', str1).group(0)[15:-1])\n",
    "        hospital_list.append(re.search('data-grade=\".*?\"', str1).group(0)[-2])\n",
    "        final_list.append(hospital_list)\n",
    "        print(hospital_list)\n",
    "    print(state + \" done!\")\n",
    "    driver.close()"
   ]
  },
  {
   "cell_type": "code",
   "execution_count": 120,
   "metadata": {},
   "outputs": [
    {
     "data": {
      "text/plain": [
       "['Alaska Regional Hospital',\n",
       " '2801 DEBARR ROAD, Anchorage, AK 99508-2997',\n",
       " '61.210404',\n",
       " '-149.8286335',\n",
       " '7918.0198498343',\n",
       " 'a']"
      ]
     },
     "execution_count": 120,
     "metadata": {},
     "output_type": "execute_result"
    }
   ],
   "source": [
    "final_list[0]"
   ]
  },
  {
   "cell_type": "code",
   "execution_count": null,
   "metadata": {},
   "outputs": [],
   "source": [
    "# print(final_list)\n",
    "df = pd.DataFrame(final_list, columns = ['Name', 'Address', 'Latitude', 'Longitude', 'Distance', 'SafetyGrade'])\n",
    "print(df)"
   ]
  },
  {
   "cell_type": "code",
   "execution_count": 123,
   "metadata": {},
   "outputs": [],
   "source": [
    "# Saving df as a CSV\n",
    "df.to_csv('HospitalSafetyGrade_Raw.csv')"
   ]
  },
  {
   "cell_type": "code",
   "execution_count": 127,
   "metadata": {},
   "outputs": [
    {
     "data": {
      "text/html": [
       "<div>\n",
       "<style scoped>\n",
       "    .dataframe tbody tr th:only-of-type {\n",
       "        vertical-align: middle;\n",
       "    }\n",
       "\n",
       "    .dataframe tbody tr th {\n",
       "        vertical-align: top;\n",
       "    }\n",
       "\n",
       "    .dataframe thead th {\n",
       "        text-align: right;\n",
       "    }\n",
       "</style>\n",
       "<table border=\"1\" class=\"dataframe\">\n",
       "  <thead>\n",
       "    <tr style=\"text-align: right;\">\n",
       "      <th></th>\n",
       "      <th>Name</th>\n",
       "      <th>Address</th>\n",
       "      <th>Latitude</th>\n",
       "      <th>Longitude</th>\n",
       "      <th>Distance</th>\n",
       "      <th>SafetyGrade</th>\n",
       "    </tr>\n",
       "  </thead>\n",
       "  <tbody>\n",
       "    <tr>\n",
       "      <th>0</th>\n",
       "      <td>Alaska Regional Hospital</td>\n",
       "      <td>2801 DEBARR ROAD, Anchorage, AK 99508-2997</td>\n",
       "      <td>61.210404</td>\n",
       "      <td>-149.8286335</td>\n",
       "      <td>7918.0198498343</td>\n",
       "      <td>a</td>\n",
       "    </tr>\n",
       "    <tr>\n",
       "      <th>1</th>\n",
       "      <td>Mat-Su Regional Medical Center</td>\n",
       "      <td>2500 South Woodworth Loop, Palmer, AK 99645</td>\n",
       "      <td>61.562971</td>\n",
       "      <td>-149.2578179</td>\n",
       "      <td>7887.2712026392</td>\n",
       "      <td>b</td>\n",
       "    </tr>\n",
       "    <tr>\n",
       "      <th>2</th>\n",
       "      <td>Bartlett Regional Hospital</td>\n",
       "      <td>3260 Hospital Drive, Juneau, AK 99801-7808</td>\n",
       "      <td>58.328916</td>\n",
       "      <td>-134.4650653</td>\n",
       "      <td>7708.9709345946</td>\n",
       "      <td>c</td>\n",
       "    </tr>\n",
       "    <tr>\n",
       "      <th>3</th>\n",
       "      <td>Central Peninsula General Hospital</td>\n",
       "      <td>250 Hospital Place, Soldotna, AK 99669-6999</td>\n",
       "      <td>60.4934413</td>\n",
       "      <td>-151.0780122</td>\n",
       "      <td>7982.4571687651</td>\n",
       "      <td>c</td>\n",
       "    </tr>\n",
       "    <tr>\n",
       "      <th>4</th>\n",
       "      <td>Fairbanks Memorial Hospital</td>\n",
       "      <td>1650 Cowles Street, Fairbanks, AK 99701-5998</td>\n",
       "      <td>64.8311569</td>\n",
       "      <td>-147.7399472</td>\n",
       "      <td>7674.3740755271</td>\n",
       "      <td>c</td>\n",
       "    </tr>\n",
       "  </tbody>\n",
       "</table>\n",
       "</div>"
      ],
      "text/plain": [
       "                                 Name  \\\n",
       "0            Alaska Regional Hospital   \n",
       "1      Mat-Su Regional Medical Center   \n",
       "2          Bartlett Regional Hospital   \n",
       "3  Central Peninsula General Hospital   \n",
       "4         Fairbanks Memorial Hospital   \n",
       "\n",
       "                                        Address    Latitude     Longitude  \\\n",
       "0    2801 DEBARR ROAD, Anchorage, AK 99508-2997   61.210404  -149.8286335   \n",
       "1   2500 South Woodworth Loop, Palmer, AK 99645   61.562971  -149.2578179   \n",
       "2    3260 Hospital Drive, Juneau, AK 99801-7808   58.328916  -134.4650653   \n",
       "3   250 Hospital Place, Soldotna, AK 99669-6999  60.4934413  -151.0780122   \n",
       "4  1650 Cowles Street, Fairbanks, AK 99701-5998  64.8311569  -147.7399472   \n",
       "\n",
       "          Distance SafetyGrade  \n",
       "0  7918.0198498343           a  \n",
       "1  7887.2712026392           b  \n",
       "2  7708.9709345946           c  \n",
       "3  7982.4571687651           c  \n",
       "4  7674.3740755271           c  "
      ]
     },
     "execution_count": 127,
     "metadata": {},
     "output_type": "execute_result"
    }
   ],
   "source": [
    "df.head(5)"
   ]
  },
  {
   "cell_type": "markdown",
   "metadata": {},
   "source": [
    "Making ZIP code a separate column:"
   ]
  },
  {
   "cell_type": "code",
   "execution_count": 136,
   "metadata": {},
   "outputs": [
    {
     "data": {
      "text/html": [
       "<div>\n",
       "<style scoped>\n",
       "    .dataframe tbody tr th:only-of-type {\n",
       "        vertical-align: middle;\n",
       "    }\n",
       "\n",
       "    .dataframe tbody tr th {\n",
       "        vertical-align: top;\n",
       "    }\n",
       "\n",
       "    .dataframe thead th {\n",
       "        text-align: right;\n",
       "    }\n",
       "</style>\n",
       "<table border=\"1\" class=\"dataframe\">\n",
       "  <thead>\n",
       "    <tr style=\"text-align: right;\">\n",
       "      <th></th>\n",
       "      <th>Name</th>\n",
       "      <th>Address</th>\n",
       "      <th>Latitude</th>\n",
       "      <th>Longitude</th>\n",
       "      <th>Distance</th>\n",
       "      <th>SafetyGrade</th>\n",
       "      <th>ZIP</th>\n",
       "    </tr>\n",
       "  </thead>\n",
       "  <tbody>\n",
       "    <tr>\n",
       "      <th>0</th>\n",
       "      <td>Alaska Regional Hospital</td>\n",
       "      <td>2801 DEBARR ROAD, Anchorage, AK 99508-2997</td>\n",
       "      <td>61.210404</td>\n",
       "      <td>-149.8286335</td>\n",
       "      <td>7918.0198498343</td>\n",
       "      <td>a</td>\n",
       "      <td>99508</td>\n",
       "    </tr>\n",
       "    <tr>\n",
       "      <th>1</th>\n",
       "      <td>Mat-Su Regional Medical Center</td>\n",
       "      <td>2500 South Woodworth Loop, Palmer, AK 99645</td>\n",
       "      <td>61.562971</td>\n",
       "      <td>-149.2578179</td>\n",
       "      <td>7887.2712026392</td>\n",
       "      <td>b</td>\n",
       "      <td>99645</td>\n",
       "    </tr>\n",
       "    <tr>\n",
       "      <th>2</th>\n",
       "      <td>Bartlett Regional Hospital</td>\n",
       "      <td>3260 Hospital Drive, Juneau, AK 99801-7808</td>\n",
       "      <td>58.328916</td>\n",
       "      <td>-134.4650653</td>\n",
       "      <td>7708.9709345946</td>\n",
       "      <td>c</td>\n",
       "      <td>99801</td>\n",
       "    </tr>\n",
       "    <tr>\n",
       "      <th>3</th>\n",
       "      <td>Central Peninsula General Hospital</td>\n",
       "      <td>250 Hospital Place, Soldotna, AK 99669-6999</td>\n",
       "      <td>60.4934413</td>\n",
       "      <td>-151.0780122</td>\n",
       "      <td>7982.4571687651</td>\n",
       "      <td>c</td>\n",
       "      <td>99669</td>\n",
       "    </tr>\n",
       "    <tr>\n",
       "      <th>4</th>\n",
       "      <td>Fairbanks Memorial Hospital</td>\n",
       "      <td>1650 Cowles Street, Fairbanks, AK 99701-5998</td>\n",
       "      <td>64.8311569</td>\n",
       "      <td>-147.7399472</td>\n",
       "      <td>7674.3740755271</td>\n",
       "      <td>c</td>\n",
       "      <td>99701</td>\n",
       "    </tr>\n",
       "  </tbody>\n",
       "</table>\n",
       "</div>"
      ],
      "text/plain": [
       "                                 Name  \\\n",
       "0            Alaska Regional Hospital   \n",
       "1      Mat-Su Regional Medical Center   \n",
       "2          Bartlett Regional Hospital   \n",
       "3  Central Peninsula General Hospital   \n",
       "4         Fairbanks Memorial Hospital   \n",
       "\n",
       "                                        Address    Latitude     Longitude  \\\n",
       "0    2801 DEBARR ROAD, Anchorage, AK 99508-2997   61.210404  -149.8286335   \n",
       "1   2500 South Woodworth Loop, Palmer, AK 99645   61.562971  -149.2578179   \n",
       "2    3260 Hospital Drive, Juneau, AK 99801-7808   58.328916  -134.4650653   \n",
       "3   250 Hospital Place, Soldotna, AK 99669-6999  60.4934413  -151.0780122   \n",
       "4  1650 Cowles Street, Fairbanks, AK 99701-5998  64.8311569  -147.7399472   \n",
       "\n",
       "          Distance SafetyGrade    ZIP  \n",
       "0  7918.0198498343           a  99508  \n",
       "1  7887.2712026392           b  99645  \n",
       "2  7708.9709345946           c  99801  \n",
       "3  7982.4571687651           c  99669  \n",
       "4  7674.3740755271           c  99701  "
      ]
     },
     "execution_count": 136,
     "metadata": {},
     "output_type": "execute_result"
    }
   ],
   "source": [
    "def func(l):\n",
    "    return l[-1][:5]\n",
    "\n",
    "df[\"ZIP\"] = df.Address.str.split(\" \")\n",
    "df[\"ZIP\"] = df[\"ZIP\"].apply(func)\n",
    "df.head(5)"
   ]
  },
  {
   "cell_type": "code",
   "execution_count": 137,
   "metadata": {},
   "outputs": [
    {
     "data": {
      "text/html": [
       "<div>\n",
       "<style scoped>\n",
       "    .dataframe tbody tr th:only-of-type {\n",
       "        vertical-align: middle;\n",
       "    }\n",
       "\n",
       "    .dataframe tbody tr th {\n",
       "        vertical-align: top;\n",
       "    }\n",
       "\n",
       "    .dataframe thead th {\n",
       "        text-align: right;\n",
       "    }\n",
       "</style>\n",
       "<table border=\"1\" class=\"dataframe\">\n",
       "  <thead>\n",
       "    <tr style=\"text-align: right;\">\n",
       "      <th></th>\n",
       "      <th>Name</th>\n",
       "      <th>Address</th>\n",
       "      <th>Latitude</th>\n",
       "      <th>Longitude</th>\n",
       "      <th>Distance</th>\n",
       "      <th>SafetyGrade</th>\n",
       "      <th>ZIP</th>\n",
       "    </tr>\n",
       "  </thead>\n",
       "  <tbody>\n",
       "    <tr>\n",
       "      <th>0</th>\n",
       "      <td>Alaska Regional Hospital</td>\n",
       "      <td>2801 DEBARR ROAD, Anchorage, AK 99508-2997</td>\n",
       "      <td>61.210404</td>\n",
       "      <td>-149.8286335</td>\n",
       "      <td>7918.0198498343</td>\n",
       "      <td>A</td>\n",
       "      <td>99508</td>\n",
       "    </tr>\n",
       "    <tr>\n",
       "      <th>1</th>\n",
       "      <td>Mat-Su Regional Medical Center</td>\n",
       "      <td>2500 South Woodworth Loop, Palmer, AK 99645</td>\n",
       "      <td>61.562971</td>\n",
       "      <td>-149.2578179</td>\n",
       "      <td>7887.2712026392</td>\n",
       "      <td>B</td>\n",
       "      <td>99645</td>\n",
       "    </tr>\n",
       "    <tr>\n",
       "      <th>2</th>\n",
       "      <td>Bartlett Regional Hospital</td>\n",
       "      <td>3260 Hospital Drive, Juneau, AK 99801-7808</td>\n",
       "      <td>58.328916</td>\n",
       "      <td>-134.4650653</td>\n",
       "      <td>7708.9709345946</td>\n",
       "      <td>C</td>\n",
       "      <td>99801</td>\n",
       "    </tr>\n",
       "    <tr>\n",
       "      <th>3</th>\n",
       "      <td>Central Peninsula General Hospital</td>\n",
       "      <td>250 Hospital Place, Soldotna, AK 99669-6999</td>\n",
       "      <td>60.4934413</td>\n",
       "      <td>-151.0780122</td>\n",
       "      <td>7982.4571687651</td>\n",
       "      <td>C</td>\n",
       "      <td>99669</td>\n",
       "    </tr>\n",
       "    <tr>\n",
       "      <th>4</th>\n",
       "      <td>Fairbanks Memorial Hospital</td>\n",
       "      <td>1650 Cowles Street, Fairbanks, AK 99701-5998</td>\n",
       "      <td>64.8311569</td>\n",
       "      <td>-147.7399472</td>\n",
       "      <td>7674.3740755271</td>\n",
       "      <td>C</td>\n",
       "      <td>99701</td>\n",
       "    </tr>\n",
       "  </tbody>\n",
       "</table>\n",
       "</div>"
      ],
      "text/plain": [
       "                                 Name  \\\n",
       "0            Alaska Regional Hospital   \n",
       "1      Mat-Su Regional Medical Center   \n",
       "2          Bartlett Regional Hospital   \n",
       "3  Central Peninsula General Hospital   \n",
       "4         Fairbanks Memorial Hospital   \n",
       "\n",
       "                                        Address    Latitude     Longitude  \\\n",
       "0    2801 DEBARR ROAD, Anchorage, AK 99508-2997   61.210404  -149.8286335   \n",
       "1   2500 South Woodworth Loop, Palmer, AK 99645   61.562971  -149.2578179   \n",
       "2    3260 Hospital Drive, Juneau, AK 99801-7808   58.328916  -134.4650653   \n",
       "3   250 Hospital Place, Soldotna, AK 99669-6999  60.4934413  -151.0780122   \n",
       "4  1650 Cowles Street, Fairbanks, AK 99701-5998  64.8311569  -147.7399472   \n",
       "\n",
       "          Distance SafetyGrade    ZIP  \n",
       "0  7918.0198498343           A  99508  \n",
       "1  7887.2712026392           B  99645  \n",
       "2  7708.9709345946           C  99801  \n",
       "3  7982.4571687651           C  99669  \n",
       "4  7674.3740755271           C  99701  "
      ]
     },
     "execution_count": 137,
     "metadata": {},
     "output_type": "execute_result"
    }
   ],
   "source": [
    "df[\"SafetyGrade\"] = df.SafetyGrade.str.upper()\n",
    "df.head(5)"
   ]
  },
  {
   "cell_type": "code",
   "execution_count": 139,
   "metadata": {},
   "outputs": [
    {
     "data": {
      "text/html": [
       "<div>\n",
       "<style scoped>\n",
       "    .dataframe tbody tr th:only-of-type {\n",
       "        vertical-align: middle;\n",
       "    }\n",
       "\n",
       "    .dataframe tbody tr th {\n",
       "        vertical-align: top;\n",
       "    }\n",
       "\n",
       "    .dataframe thead th {\n",
       "        text-align: right;\n",
       "    }\n",
       "</style>\n",
       "<table border=\"1\" class=\"dataframe\">\n",
       "  <thead>\n",
       "    <tr style=\"text-align: right;\">\n",
       "      <th></th>\n",
       "      <th>Name</th>\n",
       "      <th>SafetyGrade</th>\n",
       "      <th>ZIP</th>\n",
       "      <th>Latitude</th>\n",
       "      <th>Longitude</th>\n",
       "      <th>Distance</th>\n",
       "      <th>Address</th>\n",
       "    </tr>\n",
       "  </thead>\n",
       "  <tbody>\n",
       "    <tr>\n",
       "      <th>0</th>\n",
       "      <td>Alaska Regional Hospital</td>\n",
       "      <td>A</td>\n",
       "      <td>99508</td>\n",
       "      <td>61.210404</td>\n",
       "      <td>-149.8286335</td>\n",
       "      <td>7918.0198498343</td>\n",
       "      <td>2801 DEBARR ROAD, Anchorage, AK 99508-2997</td>\n",
       "    </tr>\n",
       "    <tr>\n",
       "      <th>1</th>\n",
       "      <td>Mat-Su Regional Medical Center</td>\n",
       "      <td>B</td>\n",
       "      <td>99645</td>\n",
       "      <td>61.562971</td>\n",
       "      <td>-149.2578179</td>\n",
       "      <td>7887.2712026392</td>\n",
       "      <td>2500 South Woodworth Loop, Palmer, AK 99645</td>\n",
       "    </tr>\n",
       "    <tr>\n",
       "      <th>2</th>\n",
       "      <td>Bartlett Regional Hospital</td>\n",
       "      <td>C</td>\n",
       "      <td>99801</td>\n",
       "      <td>58.328916</td>\n",
       "      <td>-134.4650653</td>\n",
       "      <td>7708.9709345946</td>\n",
       "      <td>3260 Hospital Drive, Juneau, AK 99801-7808</td>\n",
       "    </tr>\n",
       "    <tr>\n",
       "      <th>3</th>\n",
       "      <td>Central Peninsula General Hospital</td>\n",
       "      <td>C</td>\n",
       "      <td>99669</td>\n",
       "      <td>60.4934413</td>\n",
       "      <td>-151.0780122</td>\n",
       "      <td>7982.4571687651</td>\n",
       "      <td>250 Hospital Place, Soldotna, AK 99669-6999</td>\n",
       "    </tr>\n",
       "    <tr>\n",
       "      <th>4</th>\n",
       "      <td>Fairbanks Memorial Hospital</td>\n",
       "      <td>C</td>\n",
       "      <td>99701</td>\n",
       "      <td>64.8311569</td>\n",
       "      <td>-147.7399472</td>\n",
       "      <td>7674.3740755271</td>\n",
       "      <td>1650 Cowles Street, Fairbanks, AK 99701-5998</td>\n",
       "    </tr>\n",
       "  </tbody>\n",
       "</table>\n",
       "</div>"
      ],
      "text/plain": [
       "                                 Name SafetyGrade    ZIP    Latitude  \\\n",
       "0            Alaska Regional Hospital           A  99508   61.210404   \n",
       "1      Mat-Su Regional Medical Center           B  99645   61.562971   \n",
       "2          Bartlett Regional Hospital           C  99801   58.328916   \n",
       "3  Central Peninsula General Hospital           C  99669  60.4934413   \n",
       "4         Fairbanks Memorial Hospital           C  99701  64.8311569   \n",
       "\n",
       "      Longitude         Distance                                       Address  \n",
       "0  -149.8286335  7918.0198498343    2801 DEBARR ROAD, Anchorage, AK 99508-2997  \n",
       "1  -149.2578179  7887.2712026392   2500 South Woodworth Loop, Palmer, AK 99645  \n",
       "2  -134.4650653  7708.9709345946    3260 Hospital Drive, Juneau, AK 99801-7808  \n",
       "3  -151.0780122  7982.4571687651   250 Hospital Place, Soldotna, AK 99669-6999  \n",
       "4  -147.7399472  7674.3740755271  1650 Cowles Street, Fairbanks, AK 99701-5998  "
      ]
     },
     "execution_count": 139,
     "metadata": {},
     "output_type": "execute_result"
    }
   ],
   "source": [
    "cols = df.columns.to_list()\n",
    "cols = [cols[0] , cols[5] , cols[6] , cols[2] , cols[3] , cols[4] , cols[1]]\n",
    "df2 = df[cols]\n",
    "df2.head(5)"
   ]
  },
  {
   "cell_type": "code",
   "execution_count": 144,
   "metadata": {},
   "outputs": [
    {
     "name": "stdout",
     "output_type": "stream",
     "text": [
      "(2652, 7)\n",
      "(2652, 7)\n"
     ]
    }
   ],
   "source": [
    "print(df.shape)\n",
    "print(df2.shape)\n",
    "\n",
    "df2.to_csv('HospitalSafetyGrade.csv')"
   ]
  },
  {
   "cell_type": "code",
   "execution_count": 107,
   "metadata": {},
   "outputs": [
    {
     "name": "stdout",
     "output_type": "stream",
     "text": [
      "\n"
     ]
    },
    {
     "name": "stderr",
     "output_type": "stream",
     "text": [
      "[WDM] - ====== WebDriver manager ======\n",
      "[WDM] - Current google-chrome version is 102.0.5005\n",
      "[WDM] - Get LATEST chromedriver version for 102.0.5005 google-chrome\n",
      "[WDM] - Driver [C:\\Users\\email\\.wdm\\drivers\\chromedriver\\win32\\102.0.5005.61\\chromedriver.exe] found in cache\n"
     ]
    }
   ],
   "source": [
    "driver = webdriver.Chrome(service=Service(ChromeDriverManager().install()))"
   ]
  },
  {
   "cell_type": "code",
   "execution_count": 110,
   "metadata": {},
   "outputs": [],
   "source": [
    "\n",
    "driver.execute_script('''window.open(\"http://bing''' + \".\" +  '''com\",\"_blank\");''')\n"
   ]
  },
  {
   "cell_type": "code",
   "execution_count": 98,
   "metadata": {},
   "outputs": [],
   "source": [
    "driver.close()"
   ]
  }
 ],
 "metadata": {
  "kernelspec": {
   "display_name": "Python 3.9.7 ('base')",
   "language": "python",
   "name": "python3"
  },
  "language_info": {
   "codemirror_mode": {
    "name": "ipython",
    "version": 3
   },
   "file_extension": ".py",
   "mimetype": "text/x-python",
   "name": "python",
   "nbconvert_exporter": "python",
   "pygments_lexer": "ipython3",
   "version": "3.9.7"
  },
  "orig_nbformat": 4,
  "vscode": {
   "interpreter": {
    "hash": "f96c0a065a6f038b4d81e02ec5e62503dd3b71442db074018719e130d8db16de"
   }
  }
 },
 "nbformat": 4,
 "nbformat_minor": 2
}
